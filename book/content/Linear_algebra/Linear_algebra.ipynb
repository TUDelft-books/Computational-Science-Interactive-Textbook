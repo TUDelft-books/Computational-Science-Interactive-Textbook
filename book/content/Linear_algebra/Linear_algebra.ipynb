{
 "cells": [
  {
   "cell_type": "markdown",
   "id": "c24b809c",
   "metadata": {},
   "source": [
    "# Linear algebra\n",
    "\n",
    "In this lecture, you will implement linear algebra techniques in Python. You will see that for solving physics problems using linear algebra, the most complicated part is to translate the physical problem into a matrix-vector equation. When put in a standardized form, many linear algebra tools are at your disposal in the numpy package.\n",
    "\n",
    "**Learning objectives:** After finishing this lecture, you should be able to:\n",
    "\n",
    "1. Solve a set of linear equations\n",
    "2. Know when a set of linear equations can be solved\n",
    "3. Determine eigenvalues and eigenvectors of a matrix "
   ]
  },
  {
   "cell_type": "code",
   "execution_count": null,
   "id": "b270d847",
   "metadata": {
    "nbgrader": {
     "grade": false,
     "grade_id": "cell-a38e8c1bedad5850",
     "locked": true,
     "schema_version": 3,
     "solution": false,
     "task": false
    }
   },
   "outputs": [],
   "source": [
    "# Initialisation code for the notebook\n",
    "import numpy as np\n",
    "import matplotlib.pyplot as plt"
   ]
  },
  {
   "cell_type": "markdown",
   "id": "6dbb766f",
   "metadata": {},
   "source": [
    "## Some basic vector operations\n",
    "\n",
    "As we have seen earlier, numpy can do basic algebra with matrices and vectors, although we have to take care to correctly treat arrays as vectors, i.e. use them with the correct dimensions.\n",
    "\n",
    "**Exercise 1**\n",
    "\n",
    "Write a script for calculating the angle between two vectors in degrees. Start with vectors `a` and `b` as input and then find the angle. Evaluation of the angle must be done with a single line. Note that numpy does not care about the dimensions (column or row) as calculates the inner product for arrays. Howeve, take care that the script does not crash in case of faulty input (two vectors of different length for example). Output the angle to variable `theta`. Test your code with vectors for which you already know the outcome. "
   ]
  },
  {
   "cell_type": "code",
   "execution_count": null,
   "id": "18eb09f7",
   "metadata": {},
   "outputs": [],
   "source": [
    "a=np.array([1, 0, 0])\n",
    "b=np.array([0, 1, 0])\n",
    "\n",
    "# theta = ...\n",
    "# print(theta)"
   ]
  },
  {
   "cell_type": "markdown",
   "id": "788f19cf",
   "metadata": {
    "lines_to_next_cell": 0
   },
   "source": [
    "**Solution:**"
   ]
  },
  {
   "cell_type": "code",
   "execution_count": null,
   "id": "9f6c2ffa",
   "metadata": {
    "tags": [
     "hide-input"
    ]
   },
   "outputs": [],
   "source": [
    "a=np.array([1, 0, 0])\n",
    "b=np.array([0, 1, 0])\n",
    "\n",
    "### BEGIN SOLUTION\n",
    "if len(a)!=len(b):\n",
    "    print('The length of the two vectors is not equal')\n",
    "elif np.linalg.norm(b)==0 or np.linalg.norm(a)==0:\n",
    "    print('The length of one of the two vectors is equal to zero')\n",
    "else:\n",
    "    theta=(180/np.pi)*np.arccos(np.inner(a,b)/np.linalg.norm(a)/np.linalg.norm(b))\n",
    "\n",
    "print(theta)\n",
    "### END SOLUTION"
   ]
  },
  {
   "cell_type": "markdown",
   "id": "fc245c55",
   "metadata": {},
   "source": [
    "## Solving sets of linear equations with Gaussian elimination \n",
    "\n",
    "To understand how to solve a complicated physics problem in matrix algebra we are going to make solve for the currents in a complex electrical network. You will see how a long and complex code can be substituted with a single line of code from a Python package.\n",
    "\n",
    "Consider the following circuit of resistors:\n",
    "![image](resistor.png)\n",
    "\n",
    "All the resistors have the same resistance $R$. The power rail at the top is at voltage $V_+$=5V. What are the other four voltages, $V_1$ to $V_4$?\n",
    "\n",
    "To answer this question we use Ohm's law and the Kirchhoff current law, which says that the total net current flow out of (or into) any junction in a circuit must be zero. Thus for the junction at voltage $V_1$, for instance, we have\n",
    "\n",
    "$$\n",
    "{V_1-V_2\\over R} + {V_1-V_3\\over R} + {V_1-V_4\\over R} + {V_1-V_+\\over R} = 0,\n",
    "$$\n",
    "\n",
    "or equivalently\n",
    "\n",
    "$$\n",
    "4V_1 - V_2 - V_3 - V_4 = V_+.\n",
    "$$\n",
    "\n",
    "**Exercise 2**\n",
    "\n",
    "Write with pen and paper similar equations for the other three junctions with unknown voltages. Define the matrix equation relating the four unknown voltages and the known parameters.\n",
    "\n",
    "The most straightforward way to solve a set of equations is by means of Gaussian elimination. We can multiply any equation by a constant and subtract equations from each other while still obtaining the correct solution. This is utilized to make the matrix describing the linear set of equations upper triangular. The solution is then easily obtained by back-substitution from the bottom equation to the top. The program below can solve the four resulting equations using Gaussian elimination and find the four voltages. Use your result obtained above to set-up the correct `A` matrix and `v` vector for your problem. Go through it and notice how Python efficiently uses the matrix $A$ storage and works on entire rows by slicing.\n",
    "\n",
    "NB: make sure to set up the matrix $A$ such that the soluion is on the form `x = [V1, V2, V3, V4]`. Also for the Gaussian elimination code to work (with the in-place division `A[m,:] /= div`) setup both $A$ and $v$ containing floats using the `dtype` argument of the numpy array function (or by entering your matrix using floating point numbers like 4.0 instead of 4, which would make it an `int` by default)."
   ]
  },
  {
   "cell_type": "code",
   "execution_count": null,
   "id": "1af9764a",
   "metadata": {},
   "outputs": [],
   "source": [
    "from numpy import array,empty\n",
    "# A = ...\n",
    "# v = ...\n",
    "\n",
    "N = len(v)\n",
    "\n",
    "# Gaussian elimination\n",
    "for m in range(N):\n",
    "    # Divide by the diagonal element\n",
    "    div = A[m,m]\n",
    "    A[m,:] /= div\n",
    "    v[m] /= div\n",
    "\n",
    "    # Now subtract from the lower rows\n",
    "    for i in range(m+1,N):\n",
    "        mult = A[i,m]\n",
    "        A[i,:] -= mult*A[m,:]\n",
    "        v[i] -= mult*v[m]\n",
    "print('The matrix after Gaussian elimiation is')\n",
    "print(A)\n",
    "        \n",
    "# Backsubstitution\n",
    "x = empty(N,float)\n",
    "for m in range(N-1,-1,-1):\n",
    "    x[m] = v[m]\n",
    "    for i in range(m+1,N):\n",
    "        x[m] -= A[m,i]*x[i]\n",
    "\n",
    "print('The solution is')\n",
    "print(x)\n",
    "\n",
    "answer_6_02 = np.copy(x)"
   ]
  },
  {
   "cell_type": "code",
   "execution_count": null,
   "id": "89f2f3b9",
   "metadata": {},
   "outputs": [],
   "source": [
    "# answer_6_02 (1 points)\n",
    "\n",
    "to_check = [\"answer_6_02\"]\n",
    "feedback = \"\"\n",
    "passed = True\n",
    "for var in to_check:\n",
    "    res, msg = check_answer(eval(var), var)\n",
    "    passed = passed and res\n",
    "    print(msg)\n",
    "\n",
    "assert passed == True"
   ]
  },
  {
   "cell_type": "markdown",
   "id": "e4b58555",
   "metadata": {
    "lines_to_next_cell": 0
   },
   "source": [
    "**Solution:**"
   ]
  },
  {
   "cell_type": "code",
   "execution_count": null,
   "id": "6de513e9",
   "metadata": {
    "lines_to_next_cell": 2,
    "tags": [
     "hide-input"
    ]
   },
   "outputs": [],
   "source": [
    "from numpy import array,empty\n",
    "### BEGIN SOLUTION\n",
    "A = array([[ 4, -1, -1, -1 ],\n",
    "           [-1,  3,  0, -1 ],\n",
    "           [-1,  0,  3, -1 ],\n",
    "           [-1, -1, -1,  4 ]], float)\n",
    "A0 = A.copy()\n",
    "v = array( [ 5,  0,  5,  0 ],float)\n",
    "\n",
    "print('The input matrix is')\n",
    "print(A)\n",
    "\n",
    "### END SOLUTION\n",
    "\n",
    "N = len(v)\n",
    "\n",
    "# Gaussian elimination\n",
    "for m in range(N):\n",
    "    # Divide by the diagonal element\n",
    "    div = A[m,m]\n",
    "    A[m,:] /= div\n",
    "    v[m] /= div\n",
    "\n",
    "    # Now subtract from the lower rows\n",
    "    for i in range(m+1,N):\n",
    "        mult = A[i,m]\n",
    "        A[i,:] -= mult*A[m,:]\n",
    "        v[i] -= mult*v[m]\n",
    "print('The matrix after Gaussian elimiation is')\n",
    "print(A)\n",
    "        \n",
    "# Backsubstitution\n",
    "x = empty(N,float)\n",
    "for m in range(N-1,-1,-1):\n",
    "    x[m] = v[m]\n",
    "    for i in range(m+1,N):\n",
    "        x[m] -= A[m,i]*x[i]\n",
    "\n",
    "print('The solution is')\n",
    "print(x)\n",
    "\n",
    "answer_6_02 = np.copy(x)"
   ]
  },
  {
   "cell_type": "markdown",
   "id": "fcfa8b24",
   "metadata": {},
   "source": [
    "## Solving sets of linear equations\n",
    "\n",
    "Solving sets of linear equations is not always trivial. For example, the matrix of coefficients can be non-square (more equations than unknowns) or have elements with zeros in it (leading to division by zero). In that case standard Gaussian elimination will not work. Alternatively, the equations may not be linear independent. Here we will investigate these issues by solving various sets of linear equations.\n",
    "\n",
    "Consider the linear set of equations $Ax=b$.<br>\n",
    "\n",
    "$$\n",
    "\\left[\\begin{array}{cccc} 0 & 0 & 2 & 3\\\\4 & 2 & 3 & 1\\\\2 & 5 & 1 & 2\\\\1 & 0 & 0 & 1\\end{array}\\right]\\left[\\begin{array}{c}x_1\\\\x_2\\\\x_3\\\\x_4\\end{array}\\right]=\\left[\\begin{array}{c}5\\\\1\\\\7\\\\2\\end{array}\\right]\n",
    "$$\n",
    "\n",
    "This set of equation is solvable as $x=A^{-1}b$ when the matrix $A$ is invertible. There are many conditions that a matrix meets/does not meet when it is invertible/non-invertible. The most important ones for a square matrix to be invertible are\n",
    "1. The matrix is full rank, i.e., the rank is equal to the number of rows/columns. This means that all rows/columns are linearly independent\n",
    "2. The determinant of the matrix is non-zero, e.g., for a two-by-two matrix $A$ the inverse is proportional to (det$(A))^{-1}$ and therefore det$(A)$ needs to be non-zero in order for the inverse to exist.\n",
    "\n",
    "If a matrix is non-invertible, the above mentioned conditions are not met, these matrices are also called  singular matrices.<br>\n",
    "\n",
    "**Exercise 3** \n",
    "\n",
    "Calculate the following matrix properties:\n",
    "* Inverse of the matrix $A$ using the `inv` function from the numpy linear algebra package. Name the inverse `invA`. \n",
    "* Rank of the matrix `A` with the numpy function `matrix_rank` and save it to parameter `rankA`\n",
    "* Matrix determinant with the numpy function `det` and store it to variable `detA`.\n",
    "\n",
    "Look in the help for more details on the functions."
   ]
  },
  {
   "cell_type": "code",
   "execution_count": null,
   "id": "09d90aa3",
   "metadata": {},
   "outputs": [],
   "source": [
    "# invA = ...\n",
    "# rankA = ...\n",
    "# detA = ...\n",
    "\n",
    "answer_6_03_1 = np.copy(invA)\n",
    "answer_6_03_2 = np.copy(rankA)\n",
    "answer_6_03_3 = np.copy(detA)"
   ]
  },
  {
   "cell_type": "code",
   "execution_count": null,
   "id": "2ea32276",
   "metadata": {},
   "outputs": [],
   "source": [
    "# answer_6_03 (2 points)\n",
    "\n",
    "question = \"answer_6_03\"\n",
    "num = 3\n",
    "\n",
    "to_check = [question + \"_%d\" % (n+1) for n in range(num)]\n",
    "feedback = \"\"\n",
    "passed = True\n",
    "for var in to_check:\n",
    "    res, msg = check_answer(eval(var), var)\n",
    "    passed = passed and res\n",
    "    print(msg)\n",
    "\n",
    "assert passed == True"
   ]
  },
  {
   "cell_type": "markdown",
   "id": "15d52a75",
   "metadata": {
    "lines_to_next_cell": 0
   },
   "source": [
    "**Solution:**"
   ]
  },
  {
   "cell_type": "code",
   "execution_count": null,
   "id": "c602b8eb",
   "metadata": {
    "lines_to_next_cell": 2,
    "tags": [
     "hide-input"
    ]
   },
   "outputs": [],
   "source": [
    "### BEGIN SOLUTION\n",
    "A=np.array([[0, 0, 2, 3],[4, 2, 3, 1],[2, 5, 1, 2],[1, 0, 0, 1]])\n",
    "\n",
    "invA=np.linalg.inv(A)\n",
    "\n",
    "N=A.shape[1]\n",
    "\n",
    "rankA=np.linalg.matrix_rank(A)\n",
    "detA=np.linalg.det(A)\n",
    "\n",
    "print('The matrix dimension is ' +str(N)+ ' and the rank is ' + str(rankA))\n",
    "print('The matrix determinant is ' + str(detA) + ' and is non zero')\n",
    "\n",
    "### END SOLUTION\n",
    "answer_6_03_1 = np.copy(invA)\n",
    "answer_6_03_2 = np.copy(rankA)\n",
    "answer_6_03_3 = np.copy(detA)"
   ]
  },
  {
   "cell_type": "markdown",
   "id": "2be12301",
   "metadata": {},
   "source": [
    "Now see what happens if you lower the rank of the matrix by making last two rows identical. Print the matrix rank, matrix determinant to the command line. Can you calculate the inverse? And what if the rows are copies of each other differing only by a small number close to the machine precision, say 1e-16 or 1e-17. Play around and try it for yourself."
   ]
  },
  {
   "cell_type": "code",
   "execution_count": null,
   "id": "36884e46",
   "metadata": {},
   "outputs": [],
   "source": [
    "# Your code here:\n",
    "\n",
    "# print(np.linalg.matrix_rank(A))\n",
    "# print(np.linalg.det(A))\n",
    "# print(np.linalg.inv(A))"
   ]
  },
  {
   "cell_type": "markdown",
   "id": "4994a3be",
   "metadata": {
    "lines_to_next_cell": 0
   },
   "source": [
    "**Solution:**"
   ]
  },
  {
   "cell_type": "code",
   "execution_count": null,
   "id": "0a90ddbc",
   "metadata": {
    "tags": [
     "hide-input"
    ]
   },
   "outputs": [],
   "source": [
    "### BEGIN SOLUTION\n",
    "A[3,:]=A[2,:]\n",
    "print(np.linalg.matrix_rank(A))\n",
    "print(np.linalg.det(A))\n",
    "\n",
    "eps=1e-16\n",
    "A[3,:]=(1-eps)*A[2,:]\n",
    "print(np.linalg.matrix_rank(A))\n",
    "print(np.linalg.det(A))\n",
    "print(np.linalg.inv(A))\n",
    "### END SOLUTION"
   ]
  },
  {
   "cell_type": "markdown",
   "id": "3476c19f",
   "metadata": {},
   "source": [
    "As you have seen a set of linear equations can be solved using the matrix inverse `inv` for square matrices even when they have zero entries on the diagonal. Calculating the inverse with `inv` can be used to solve $Ax=b$ through multiplication as $x=A^{-1}b$. However, in many cases you want solve $Ax=y$ for different $y$ but with the same $A$. A more efficient way to do this is by using LU-decomposition and the function `solve`. Solve does not calculate the full inverse, but instead factorizes it to the set of equations much faster, by how much, we shall investigate now.\n",
    "\n",
    "**Exercise 4**\n",
    "\n",
    "Write a script to evaluate the differences in computational time between the inverse method and the solve method.  Perform the following steps\n",
    "* Generate random  matrices  $A$  of  size  $N\\times N$ and random  (column) vectors $b$ of size $N\\times 1$ using the `rand` command from the numpy random library. \n",
    "* Compute the solution $x$ to $Ax = b$ using the `inv` method and the `solve` method\n",
    "* Compute the time it takes for the computer to finish the calculation for both methods and store the calculation time. Look up lecture 2c for timing the computation time.\n",
    "* Make a loop over a range of values for $N$, perform the calculation for every matrix size $N$ and store the computation times in an array. Take a range of values for $N$ between 100 and 1000 in ten steps on a logarithmic scale (e.g. use `np.geomspace` and round off to integer value).\n",
    "* Make a plot of both calculation times as a function of $N$. Use a double logarithmic plot with the command `loglog` and `plt.grid(which='minor')`.  \n",
    "* Finally, formulate a hypothesis for the dependence of computational time on $N$, i.e. propose a formula for this dependence. Read from the graph, by what factor is `solve` faster than `inv`.\n",
    "\n",
    "In a log-log plot a dependence of $t \\propto N^{p}$ corresponds to a linear line log $t=p $log $N$. Hence, the slope of the linear dependence is the exponent $p$. To determine power $p$ divide the number of units on the vertical scale with the number of units on the horizontal scale."
   ]
  },
  {
   "cell_type": "code",
   "execution_count": null,
   "id": "3c103013",
   "metadata": {},
   "outputs": [],
   "source": [
    "# Your code here:"
   ]
  },
  {
   "cell_type": "markdown",
   "id": "344bac01",
   "metadata": {
    "lines_to_next_cell": 0
   },
   "source": [
    "**Solution:**"
   ]
  },
  {
   "cell_type": "code",
   "execution_count": null,
   "id": "71b052c6",
   "metadata": {
    "tags": [
     "hide-input"
    ]
   },
   "outputs": [],
   "source": [
    "### BEGIN SOLUTION\n",
    "from time import time\n",
    "\n",
    "nmin = 100;\n",
    "nmax = 1000;\n",
    "n = 10;\n",
    "\n",
    "Nmatrix = np.round(np.geomspace(nmin,nmax,n))\n",
    "\n",
    "time_inv=np.zeros(n)\n",
    "time_solve=np.zeros(n)\n",
    "\n",
    "for j in range(n):\n",
    "    N = int(Nmatrix[j])\n",
    "    B = np.random.rand(N,N)\n",
    "    y = np.random.rand(N,1)\n",
    "\n",
    "    tstart = time()\n",
    "    x = np.linalg.inv(B)@y\n",
    "    tend=time()\n",
    "    time_inv[j] = tend-tstart\n",
    "\n",
    "    tstart = time()\n",
    "    x = np.linalg.solve(B, y)\n",
    "    tend=time()\n",
    "    time_solve[j] = tend-tstart\n",
    "\n",
    "plt.loglog(Nmatrix, time_inv, '-ob', label='inverse')\n",
    "plt.loglog(Nmatrix, time_solve, '-or', label='solve')\n",
    "plt.grid(which='minor')        \n",
    "plt.xlabel('Matrix size')\n",
    "plt.ylabel('Computation time (sec)')\n",
    "plt.legend()\n",
    "\n",
    "# linear log-log plot for large N with slope ~2 indicates an N^2 scaling of the computational time\n",
    "# solve is close to a factor of two faster\n",
    "\n",
    "### END SOLUTION"
   ]
  },
  {
   "cell_type": "markdown",
   "id": "dae4ec0b",
   "metadata": {},
   "source": [
    "**Self check**\n",
    "* Do you observe an approximately linear dependence (in log-log) of the computation time as a function of the matrix size?\n",
    "* Do the linear curves for inverse and solve have an offset?\n",
    "* Did you add a legend to your graph?\n",
    "\n",
    "## Eigenvalues and eigenvectors\n",
    "Eigenvalues and eigenvectors play an important role in physics. They are the solution to the eigenvalue equation\n",
    "\n",
    "$$\n",
    "A \\vec{x} = \\lambda \\vec{x} \\, ,\n",
    "$$\n",
    "\n",
    "where $A$ is a symmetric $N \\times N$ matrix. The eigenvalue equation essentially means that the matrix $A$ operating on vector $\\vec{x}$ changes the length of the vector, but not its' direction. For an $N \\times N$ matrix there are $N$ eigenvalues and the eigenvectors have the property that they are orthogonal.\n",
    "\n",
    "Here we are going to show that the calculation of eigenvalues and eigenvectors can be very useful to study the dynamics of mechanical systems. For this, we will consider the following case of two masses on tensioned springs that are free to move in the vertical direction:\n",
    "\n",
    "![image](masses.png)\n",
    "\n",
    "Using classical mechanics, we can find that the equations of motions that describe the vertical motion of the two masses are given by:\n",
    "\n",
    "$$\n",
    "m \\frac{\\text{d}^2 X_1}{\\text{d} t^2} &=& -T \\frac{X_1}{a} + T\\frac{X_2 - X_1}{2b}\\\\\n",
    "m \\frac{\\text{d}^2 X_2}{\\text{d} t^2} &=& -T \\frac{X_2}{a} - T\\frac{X_2 - X_1}{2b} \\, .\\\\\n",
    "$$\n",
    "\n",
    "With the following trial solutions, which assume that the solutions are oscillating harmonic motion:\n",
    "\n",
    "$$\n",
    "X_1 &= A \\text{cos}(\\omega t + \\phi) \\\\\n",
    "X_2 &= B \\text{cos}(\\omega t + \\phi) \\, ,\n",
    "$$\n",
    "\n",
    "we can derive a system of set of coupled linear equations for the amplitudes $A$ and $B$, which one can express in matrix form as an eigenvalue problem of the form:\n",
    "\n",
    "$$\n",
    "\\left[\n",
    "\\begin{array}{cc}\n",
    "... & ... \\\\\n",
    "... & ...\n",
    "\\end{array}\n",
    "\\right]\n",
    "\\begin{array}{cc}\n",
    "A \\\\\n",
    "B \\\\\n",
    "\\end{array}\n",
    "= \n",
    "\\lambda\n",
    "\\left[\n",
    "\\begin{array}{cc}\n",
    "A \\\\\n",
    "B \\\\\n",
    "\\end{array}\n",
    "\\right]\n",
    "$$\n",
    "\n",
    "From here, the solution of the problem becomes solving for the eigenvectors and eigenvalues of the matrix, which we can do in python using the linear algebra routines. \n",
    "\n",
    "**Exercise 5** \n",
    "Use pen and paper to write this system of equation as an eigenvalue problem. Take a picture of your derivation and upload it to your workspace as a JPG file named `my_derivation.jpg` using the \"upload\" button that is visible in the top right of the screen in your workspace:\n",
    "\n",
    "![image](upload_button.png)\n",
    "\n",
    "After you upload the image, the image should be displayed here inline if you run the following code:"
   ]
  },
  {
   "cell_type": "code",
   "execution_count": null,
   "id": "dfef640e",
   "metadata": {
    "nbgrader": {
     "grade": false,
     "grade_id": "cell-ee5ac85415361bd3",
     "locked": true,
     "schema_version": 3,
     "solution": false,
     "task": false
    }
   },
   "outputs": [],
   "source": [
    "from IPython.display import Image\n",
    "Image(filename=\"my_derivation.jpg\")"
   ]
  },
  {
   "cell_type": "markdown",
   "id": "705185dd",
   "metadata": {},
   "source": [
    "Based on the matrix equation you derived, define in Python the matrix `A` that describes this problem as an eigenvalue problem. Fill it with the correct numbers given $T=1$, $m=2$, and $a=b=0.25$. Determine the eigenvalues `eigA` and eigenvectors `eigvA` with the ```eigh``` function of numpy for the system with $T=1$, $m=2$, and $a=b=0.25$. "
   ]
  },
  {
   "cell_type": "code",
   "execution_count": null,
   "id": "0c01be32",
   "metadata": {},
   "outputs": [],
   "source": [
    "# define parameters\n",
    "T=1\n",
    "m=2\n",
    "a=0.25\n",
    "b=0.25\n",
    "\n",
    "# A = ...\n",
    "# eigA = ...\n",
    "# eigvA = ...\n",
    "\n",
    "answer_6_05_1 = np.copy(A)\n",
    "answer_6_05_2 = np.copy(eigA)\n",
    "answer_6_05_3 = np.copy(eigvA)"
   ]
  },
  {
   "cell_type": "code",
   "execution_count": null,
   "id": "e05ce0fa",
   "metadata": {},
   "outputs": [],
   "source": [
    "# answer_6_05 (2 points)\n",
    "\n",
    "question = \"answer_6_05\"\n",
    "num = 3\n",
    "\n",
    "to_check = [question + \"_%d\" % (n+1) for n in range(num)]\n",
    "feedback = \"\"\n",
    "passed = True\n",
    "for var in to_check:\n",
    "    res, msg = check_answer(eval(var), var)\n",
    "    passed = passed and res\n",
    "    print(msg)\n",
    "\n",
    "assert passed == True"
   ]
  },
  {
   "cell_type": "markdown",
   "id": "41c53354",
   "metadata": {
    "lines_to_next_cell": 0
   },
   "source": [
    "**Solution:**"
   ]
  },
  {
   "cell_type": "code",
   "execution_count": null,
   "id": "1b34759b",
   "metadata": {
    "lines_to_next_cell": 2,
    "tags": [
     "hide-input"
    ]
   },
   "outputs": [],
   "source": [
    "# define parameters\n",
    "T=1\n",
    "m=2\n",
    "a=0.25\n",
    "b=0.25\n",
    "\n",
    "### BEGIN SOLUTION\n",
    "\n",
    "# setting up the system of equations\n",
    "A = (1/m)*np.array([[ (T/a + T/2/b),  -T/2/b],\n",
    "           [ -T/2/b,  (T/a + T/2/b)]], float)\n",
    "\n",
    "eigA,eigvA=np.linalg.eigh(A)\n",
    "\n",
    "omega1=np.sqrt(T/m/a)\n",
    "print('The analytical answer for omega^2 is ' + str(omega1**2) + ' and the eigenvalue is ' + str(eigA[0]))\n",
    "omega2=np.sqrt(T*(a+b)/m/a/b)\n",
    "print('The analytical answer for omega^2 is ' + str(omega2**2) + ' and the eigenvalue is ' + str(eigA[1]))\n",
    "\n",
    "### END SOLUTION\n",
    "answer_6_05_1 = np.copy(A)\n",
    "answer_6_05_2 = np.copy(eigA)\n",
    "answer_6_05_3 = np.copy(eigvA)"
   ]
  },
  {
   "cell_type": "markdown",
   "id": "3a8b90af",
   "metadata": {},
   "source": [
    "The analytical eigenvalues can be calculated as\n",
    "\n",
    "$$\n",
    "\\omega_1^2=\\frac{T}{m a}\n",
    "$$\n",
    "\n",
    "and\n",
    "\n",
    "$$\n",
    "\\omega_2^2=\\frac{T(a+b)}{m a b}\n",
    "$$\n",
    "\n",
    "Compare your eigenvalues to the analytical result. Plot the positions of the particles and the string at $t=0$ and $\\phi=0$ in a single graph. In this graph, create the shapes of the string as shown below\n",
    "\n",
    "![image](particlesonstring.png)\n",
    "\n",
    "Use `np.concatenate` to add the fixed side points to the bead positions for plotting the string.<br>\n",
    "\n",
    "Why are the eigenvectors from numpy quantitative, whereas the eigenvectors of calculated with numpy are relative $[A, B]$ and $[A, -B]$?"
   ]
  },
  {
   "cell_type": "code",
   "execution_count": null,
   "id": "52073d01",
   "metadata": {},
   "outputs": [],
   "source": [
    "# Your code here:"
   ]
  },
  {
   "cell_type": "markdown",
   "id": "37d99e7f",
   "metadata": {
    "lines_to_next_cell": 0
   },
   "source": [
    "**Solution:**"
   ]
  },
  {
   "cell_type": "code",
   "execution_count": null,
   "id": "82644568",
   "metadata": {
    "tags": [
     "hide-input"
    ]
   },
   "outputs": [],
   "source": [
    "### BEGIN SOLUTION\n",
    "\n",
    "plt.plot([a, a+2*b], eigvA[:,0], 'or', label=['mode 1: omega^2=', str(omega1**2)])\n",
    "string1=np.concatenate(([0], eigvA[:,0], [0]))\n",
    "plt.plot([0,a,a+2*b,2*(a+b)], string1, '-r')\n",
    "\n",
    "plt.plot([a, a+2*b], eigvA[:,1], 'og', label=['mode 2: omega^2=', str(omega2**2)])\n",
    "string2=np.concatenate(([0], eigvA[:,1], [0]))\n",
    "plt.plot([0,a,a+2*b,2*(a+b)], string2, '-g')\n",
    "\n",
    "plt.axhline(0,color='grey', linestyle=':')\n",
    "plt.xlim((0,1))\n",
    "plt.grid()\n",
    "plt.legend(loc=2)\n",
    "\n",
    "# numpy answer is just as correct any multiplicative factor operating on the eigenvector \n",
    "# results in an eigenvector as well\n",
    "# substitution of lowest frequency results in A=B \n",
    "\n",
    "### END SOLUTION"
   ]
  },
  {
   "cell_type": "markdown",
   "id": "c568312c",
   "metadata": {},
   "source": [
    "With the eigenvalues solved, we can now solve the time-dynamics of the systems such that\n",
    "\n",
    "$\\begin{pmatrix} x_1(t) \\\\ x_2(t) \\end{pmatrix} = A \\cos(\\omega_1 t) v_1 + B \\cos(\\omega_2 t) v_2$\n",
    "\n",
    "where $\\omega_1$ and $\\omega_2$ are the eigenfrequencies (square-root of the eigenvalues) and $v_1$ and $v_2$ are the corresponding eigenvectors. For an inital position vector $x_0$, we can find the constants $A$ and $B$ as\n",
    "\n",
    "$A = v_1^T x_0$ and $B = v_2^T x_0$\n",
    "\n",
    "Calculate an array `xt` of dimension `(100,2)` such that `x[n]` corresponds to the position at the time `t[n]` when the starting point is `x0 = [1,0]`. Plot the position of both $x_1$ and $x_2$ as function of time in the same plot."
   ]
  },
  {
   "cell_type": "code",
   "execution_count": null,
   "id": "e9fc4cf3",
   "metadata": {},
   "outputs": [],
   "source": [
    "v1 = eigvA[:,0]\n",
    "v2 = eigvA[:,1]\n",
    "x0 = np.array([1,0])\n",
    "\n",
    "t = np.linspace(0,10,100)\n",
    "\n",
    "# xt = ...\n",
    "\n",
    "\n",
    "answer_6_05_4 = np.copy(xt)"
   ]
  },
  {
   "cell_type": "code",
   "execution_count": null,
   "id": "ebe800df",
   "metadata": {},
   "outputs": [],
   "source": [
    "# answer_6_05_4 (1 points)\n",
    "\n",
    "to_check = [\"answer_6_05_4\"]\n",
    "feedback = \"\"\n",
    "passed = True\n",
    "for var in to_check:\n",
    "    res, msg = check_answer(eval(var), var)\n",
    "    passed = passed and res\n",
    "    print(msg)\n",
    "\n",
    "assert passed == True"
   ]
  },
  {
   "cell_type": "markdown",
   "id": "4313ac4b",
   "metadata": {
    "lines_to_next_cell": 0
   },
   "source": [
    "**Solution:**"
   ]
  },
  {
   "cell_type": "code",
   "execution_count": null,
   "id": "5921ae6c",
   "metadata": {
    "lines_to_next_cell": 2,
    "tags": [
     "hide-input"
    ]
   },
   "outputs": [],
   "source": [
    "v1 = eigvA[:,0]\n",
    "v2 = eigvA[:,1]\n",
    "x0 = np.array([1,0])\n",
    "\n",
    "t = np.linspace(0,10,100)\n",
    "\n",
    "### BEGIN SOLUTION\n",
    "A = np.dot(v1,x0)\n",
    "B = np.dot(v2,x0)\n",
    "\n",
    "xt = np.zeros((100,2))\n",
    "\n",
    "xt[:,0] = A*np.cos(omega1*t)*v1[0] + B*np.cos(omega2*t)*v2[0]\n",
    "xt[:,1] = A*np.cos(omega1*t)*v1[1] + B*np.cos(omega2*t)*v2[1]\n",
    "\n",
    "plt.plot(t, xt[:,0], label='x1')\n",
    "plt.plot(t, xt[:,1], label='x2')\n",
    "\n",
    "plt.xlim((0,10))\n",
    "plt.legend()\n",
    "\n",
    "plt.xlabel(r'Time, $t$')\n",
    "plt.ylabel(r'Position, $x$')\n",
    "### END SOLUTION\n",
    "\n",
    "answer_6_05_4 = np.copy(xt)"
   ]
  },
  {
   "cell_type": "markdown",
   "id": "5bf4d33d",
   "metadata": {},
   "source": [
    "Although in this case the solution can be obtained both analytically and with the computer we now have a framework to set up much more complicated systems of equations and solve them. Consider a string with $N$ particles spaced by distance $a$. The $x$-positions of the $i$th particle is given by $x_i=i \\cdot a$. The system of motion of the $i$th particle is given by\n",
    "\n",
    "$$\n",
    "m \\frac{\\text{d}^2 x_i}{\\text{d} t^2} &=& T \\frac{x_{i-1} - x_i}{a} + T \\frac{x_{i+1} - x_i}{a} \\\\\n",
    "$$\n",
    "\n",
    "Note that the string is fixed on the wall, hence, $x_0=x_{N+1}=0$.\n",
    "\n",
    "**Exercise 6**\n",
    "\n",
    "Set up a system of 50 particles on a string at distance $a=1$ relative to each other. _Hint_ : use the numpy function `eye` to quickly fill your matrix with diagonal and off-diagonal elements. Find the eigenvalues and eigenvectors. Plot the positions of the particles for the first 4 eigenmodes at $t=0$ and $\\phi=0$ in a for loop. Automatically make a legend indicating the mode number."
   ]
  },
  {
   "cell_type": "code",
   "execution_count": null,
   "id": "0b8baabc",
   "metadata": {},
   "outputs": [],
   "source": [
    "# Your code here:"
   ]
  },
  {
   "cell_type": "markdown",
   "id": "35da6b71",
   "metadata": {
    "lines_to_next_cell": 0
   },
   "source": [
    "**Solution:**"
   ]
  },
  {
   "cell_type": "code",
   "execution_count": null,
   "id": "1c4ed7bf",
   "metadata": {
    "tags": [
     "hide-input"
    ]
   },
   "outputs": [],
   "source": [
    "### BEGIN SOLUTION\n",
    "\n",
    "N=50\n",
    "a=1\n",
    "A=(2*T/a)*np.eye(N,N)-(T/a)*np.eye(N,N, 1)-(T/a)*np.eye(N,N, -1)\n",
    "# note the sign change in A caused by the double derivative on the left hand side\n",
    "\n",
    "x,V=np.linalg.eigh(A)\n",
    "# for symmetric matrices (as expected for physics problems) only\n",
    "\n",
    "for cnt in range(4):\n",
    "    legstr=('mode'+str(cnt+1))\n",
    "    plt.plot(V[:,cnt], '-o', label=legstr)\n",
    "\n",
    "plt.xlabel('Particle number i')\n",
    "plt.ylabel('Position')\n",
    "plt.grid()\n",
    "plt.legend()\n",
    "\n",
    "### END SOLUTION"
   ]
  },
  {
   "cell_type": "markdown",
   "id": "5a4c2731",
   "metadata": {},
   "source": [
    "**Self-check**\n",
    "* Do you observe a wave pattern in the amplitude of the particles?\n",
    "* Why do we use the function `eigh` for solving this eigenvalue problem and not the `eig` function? Does it give the same results for this problem?"
   ]
  },
  {
   "cell_type": "code",
   "execution_count": null,
   "id": "b55412e1",
   "metadata": {
    "tags": [
     "auto-execute-page",
     "thebe-init",
     "hide-input"
    ]
   },
   "outputs": [],
   "source": [
    "## Pre-loading the solutions\n",
    "\n",
    "import sys\n",
    "await micropip.install(\"numpy\")\n",
    "from validate_answers import *\n",
    "\n",
    "with open(location):\n",
    "    pass # Initially this notebook does not recognise the file unless someone tries to read it first"
   ]
  }
 ],
 "metadata": {
  "jupytext": {
   "formats": "ipynb,md"
  },
  "kernelspec": {
   "display_name": "Python 3 (ipykernel)",
   "language": "python",
   "name": "python3"
  }
 },
 "nbformat": 4,
 "nbformat_minor": 5
}
