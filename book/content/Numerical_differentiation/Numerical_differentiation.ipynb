{
 "cells": [
  {
   "cell_type": "markdown",
   "id": "4125b579",
   "metadata": {},
   "source": []
  },
  {
   "cell_type": "markdown",
   "id": "8eb3ddec",
   "metadata": {},
   "source": [
    "# Numerical Differentiation \n",
    "\n",
    "In this notebook, you will explore taking numerical derivatives and implementating various interpolation schemes in one and two dimensions.\n",
    "\n",
    "**Learning objectives:** After finishing this notebook, you should be able to:\n",
    "\n",
    "1. Write a function to calculate the numerical derivative of an arbitrary function using both the forward difference and the central difference approximation\n",
    "2. Interpret the error made in central and forward numerical derivatives\n",
    "3. Calculate the numerical derivative of a dataset\n",
    "<!-- #endregion -->"
   ]
  },
  {
   "cell_type": "code",
   "execution_count": null,
   "id": "3ef321b7",
   "metadata": {
    "lines_to_next_cell": 2
   },
   "outputs": [],
   "source": [
    "# Initialisation code for the notebook\n",
    "import numpy as np\n",
    "import matplotlib.pyplot as plt\n",
    "\n",
    "# I like bigger plots: setting a higher DPI makes the fonts bigger\n",
    "plt.rcParams['figure.dpi']=100"
   ]
  },
  {
   "cell_type": "markdown",
   "id": "06b12b9b",
   "metadata": {},
   "source": [
    "## Finite difference methods for calculating derivatives of functions\n",
    "\n",
    "### Introduction\n",
    "\n",
    "We will begin with considering calculating the numerical derivatives of functions, specifically using the technique of finite differences:\n",
    "\n",
    "https://en.wikipedia.org/wiki/Finite_difference\n",
    "\n",
    "In the simplest case, the derivative we want to calculate might be the derivative of a functions that we have an analytical expression for, such as $f(x) = ax^2$. In contrast to analytical integration, which can sometimes be challenging to perform and find a closed solution for, taking derivatives of functions is in general not so difficult (you likely learned this in your first calculus course!). For example, the derivative of $f(x)$ above is simply $f'(x) = 2ax$. \n",
    "\n",
    "You might ask: if it is always possible to analytically calculate the derivative of a function, why would I bother calculating the derivative with a computer? Some quick answers:\n",
    "\n",
    "* It is handy \n",
    "* Sometimes you don't know the function\n",
    "* Finite difference is a key concept in solving many numerical problems\n",
    "\n",
    "A first reason is that it is just handy sometimes to calculate the derivative numerically, it saves you time in having to calculate the analytical derivative by hand. For example, later, when we solve differential equations, we will use code routines from libraries to get solutions, and then it is handy for us if we only need to provide the function, and not it's derivatives. The same is true for curve fitting: curve fitting routines also use derivatives of the fitting functions, which they calculate numerically so that the user using them doesn't have to think about it. \n",
    "\n",
    "A second reason is that in a computer program, you can implement functions that are not necessarily simple analytical formulas. For example, $f(x)$ in a computer could return the result of a numerical simulation. Or it could be a random number. Or it could be a piecewise function:\n",
    "\n",
    "```\n",
    "def my_funny_function(x):\n",
    "    if (x<0):\n",
    "        return 0\n",
    "    else:\n",
    "        return x**2\n",
    "```\n",
    "\n",
    "If we calculate the calculate the derivative of `my_funny_function(x)` numerically, then I don't even need to know what happens inside of the function.\n",
    "\n",
    "Finally, a third important reasons is that the concept of finite difference methods for calculating derivatives also forms the basis of important numerical algorithms used for solving equations in physics, such as Maxwells equtions, the Schroedinger equation, and more. \n",
    "\n",
    "### Overview of finite difference methods\n",
    "\n",
    "All finite difference methods are based on approximating a derivative of a function at a point by the slope of a line connecting two points separated by a distance $h$:\n",
    "\n",
    "$$\n",
    "\\frac{df}{dx} \\approx \n",
    "\\frac{f(x+h) - f(x)}{h}\n",
    "$$\n",
    "\n",
    "The idea is illustrated in this image from wikipedia, where the formula above calculates the *secant*: \n",
    "\n",
    "![image](541px-Derivative.svg.png)\n",
    "\n",
    "The approximation becomes exact in the limit $\\Delta x \\rightarrow 0$, but in a computer we will work with a non-zero $\\Delta x$. A subtle point of the above equation is: to which point $x$ do we assign the value of $df/dx$ from this formula? Do we choose it to be the value of the derivative at $x$? Or the value at $x = x+h$? Or somewhere in between?\n",
    "\n",
    "Generally speaking, people distinguish three different common choices for this: \n",
    "\n",
    "* **Backward difference** Approximates that the secant is the derivative in the right side of the plot $df/dx = f'(x+h)$\n",
    "* **Forward difference** Approximates that the secant is the derivative at the left side of the above plot: $df/dx = f'(x)$\n",
    "* **Center difference** Approximates that the secant is the derivative in the middle of the plot $df/dx = f'(x+h/2)$"
   ]
  },
  {
   "cell_type": "markdown",
   "id": "e8895c6e",
   "metadata": {},
   "source": [
    "In the specific example above, we can see that the secant will over-estimate the derivative at position $x$ (the secant is steeper than the slope of the function at that point): this means that the forward difference approximation will overestimate the derivative in this case. Conversely, in the example above, the secant will underestimate the slope of the function at $x+h$, and so the backwards difference will underestimate the derivative in this case. \n",
    "\n",
    "To explain the terminology further, it is useful to remember that the forward difference uses a point in *front* of where we are (at larger x) to estimate the derivative, the backwards derivative uses a point *behind* where we are to estimate the derivative, and the center difference uses equally spaced points forward and backwards to estimate the derivative. These three are illustrated here for estimating the derivative at a position $x_0$:\n",
    "\n",
    "![image](finite_difference.png)\n",
    "\n",
    "And, as you can already maybe guess looking at these two examples, the center difference gives the most accurate approximation of the derivative $df/dx$ at position $x_0$, something we will explore below.\n",
    "\n",
    "### Definition of the three techniques\n",
    "\n",
    "Having explored the basic ideas above, we give here the formal definitions of the three techniques. The forward difference as:\n",
    "\n",
    "$$\n",
    "f'_F(x,h) = \\frac{f(x+h) - f(x)}{h}\n",
    "$$\n",
    "\n",
    "The backward difference is defined as:\n",
    "\n",
    "$$\n",
    "f'_B(x,h) = \\frac{f(x) - f(x-h)}{h}\n",
    "$$\n",
    "\n",
    "and the center difference as:\n",
    "\n",
    "$$\n",
    "f'_C(x,h) = \\frac{f(x+h/2) - f(x-h/2)}{h}\n",
    "$$\n",
    "\n",
    "### Order of the errors made\n",
    "\n",
    "Using a Taylor expansion, one can also estimate the errors made in the above approximations of the derivative (see for example the <a href=https://en.wikipedia.org/wiki/Finite_difference#Relation_with_derivatives>wikipedia page</a>).\n",
    "\n",
    "The forward difference approximation result in an error $\\epsilon_F = f'_F(x,h) - f'(x)$ that is *first order* in $h$, ie. proportional to $h$:\n",
    "\n",
    "$$\n",
    "\\epsilon_F \\propto h |f''(x)| \\hspace{1em} {\\rm as}\\  h \\rightarrow 0\n",
    "$$\n",
    "\n",
    "where $f''(x)$ is the second derivative of the function. \n",
    "\n",
    "A common notation for this in computer science big-O notation, which is used to define the asymptotic limits of functions. Basically, $ = \\mathcal{O}(h)$ means the same thing as $\\propto h$, and in words we would read this as \"the error is order h\". We can then write:\n",
    "\n",
    "$$\n",
    "\\epsilon_F = \\mathcal{O}(h) \\hspace{1em} {\\rm as}\\  h \\rightarrow 0\n",
    "$$\n",
    "\n",
    "Similarly, the error for the backwards difference is also $\\mathcal O(h)$:\n",
    "\n",
    "$$\n",
    "\\epsilon_B = \\mathcal{O}(h) \\hspace{1em} {\\rm as}\\  h \\rightarrow 0\n",
    "$$\n",
    "\n",
    "The center difference is actually more accurate:\n",
    "\n",
    "$$\n",
    "\\epsilon_C = \\mathcal{O}(h^2) \\hspace{1em} {\\rm as}\\  h \\rightarrow 0\n",
    "$$\n",
    "\n",
    "It is often used for this reason, although can suffer from problems with periodic function (see wikipedia page if you are interested in learning more).\n",
    "\n",
    "### Higher order approximations of derivatives \n",
    "\n",
    "If one would like to have a more accurate estimate of the derivative without taking a smaller value of $h$, one can also use higher order approximations of the derivative: for example, the following forward difference approximation is a more complicated formula: \n",
    "\n",
    "$$\n",
    "\\frac{df}{dx} \\approx \\frac{f(x+2h)-4f(x+h)+3f(x)}{2h}\n",
    "$$\n",
    "\n",
    "but gives an error order $\\mathcal O(h^2)$. (This forms the basis of the Runge-Kutta techniques for solving differential equations that we will look at later in the course.)\n",
    "\n",
    "### Higher order derivatives\n",
    "\n",
    "One can also extend the above techniques to calculate second-order derivatives (or even higher if needed). For example, in the center difference approximation,  \n",
    "\n",
    "$$\n",
    "\\frac{d^2f}{dx^2} \\approx \\frac{f(x+h)-2f(x)+f(x-h)}{h^2}\n",
    "$$\n",
    "\n",
    "which is a formula we will use later when we are solving the Poisson equation. \n",
    "\n",
    "## Exercises \n",
    "\n",
    "### Benchmarking the numerical derivative \n",
    "\n",
    "To illustrated the above concepts, we will use python code to calculate the derivative of the function: \n",
    "\n",
    "$$\n",
    "f(x) = 1+\\frac{1}{2} \\tanh 2x\n",
    "$$\n",
    "\n",
    "We will do this using different techniques, and perform \"benchmarking\" of these techniques by comparing the numerically calculated derivative with the analytical answer. \n",
    "\n",
    "**Exercise 1:** Calculate the derivative of this function analytically (ie. with a pen and paper). Program the two results into two python functions. Create variable arrays `y` and `y_prime` with the value $y = f(x)$ and $y' = f'(x)$ respectively, with x in the range $-2 \\leq x \\leq 2$ and 100 points.  Make plots of $f(x)$ and its derivative $f'(x)$."
   ]
  },
  {
   "cell_type": "code",
   "execution_count": null,
   "id": "382b94a6",
   "metadata": {},
   "outputs": [],
   "source": [
    "def f(x):\n",
    "    # ...\n",
    "    \n",
    "def fp(x):\n",
    "    # ...\n",
    "    \n",
    "# x = ....\n",
    "# y = ....\n",
    "# y_prime = ....\n",
    "\n",
    "# Now the plot (with labels and legend of course!)\n",
    "\n",
    "answer_3_01_1 = np.copy(x)\n",
    "answer_3_01_2 = np.copy(y)\n",
    "answer_3_01_3 = np.copy(y_prime)"
   ]
  },
  {
   "cell_type": "code",
   "execution_count": null,
   "id": "024425d1",
   "metadata": {},
   "outputs": [],
   "source": [
    "## Check answer ##\n",
    "question = \"answer_3_01\"\n",
    "num = 3\n",
    "\n",
    "to_check = [question + \"_%d\" % (n+1) for n in range(num)]\n",
    "feedback = \"\"\n",
    "passed = True\n",
    "for var in to_check:\n",
    "    res, msg = check_answer(eval(var), var)\n",
    "    passed = passed and res\n",
    "    print(msg); feedback += msg + \"n\"\n",
    "\n",
    "assert passed == True, feedback"
   ]
  },
  {
   "cell_type": "markdown",
   "id": "64ecdd10",
   "metadata": {
    "lines_to_next_cell": 0
   },
   "source": [
    "**Solution:**"
   ]
  },
  {
   "cell_type": "code",
   "execution_count": null,
   "id": "d96a4c5e",
   "metadata": {
    "lines_to_next_cell": 2,
    "tags": [
     "hide-input"
    ]
   },
   "outputs": [],
   "source": [
    "def f(x):\n",
    "    ### BEGIN SOLUTION\n",
    "    return 1+0.5*np.tanh(2*x)\n",
    "    ### END SOLUTION\n",
    "    \n",
    "def fp(x):\n",
    "    ### BEGIN SOLUTION\n",
    "    return 1/np.cosh(2*x)**2\n",
    "    ### END SOLUTION\n",
    "    \n",
    "# x = ....\n",
    "# y = ....\n",
    "# y_prime = ....\n",
    "### BEGIN SOLUTION\n",
    "x = np.linspace(-2,2,100)\n",
    "y = f(x)\n",
    "y_prime = fp(x)\n",
    "### END SOLUTION\n",
    "\n",
    "# Now the plot (with labels and legend of course!)\n",
    "### BEGIN SOLUTION\n",
    "plt.plot(x, f(x), label='f(x)')\n",
    "plt.plot(x, fp(x), label=\"f'(x)\")\n",
    "plt.legend()\n",
    "plt.ylabel(\"f(x), f'(x)\")\n",
    "plt.xlabel(\"x\")\n",
    "### END SOLUTION\n",
    "\n",
    "answer_3_01_1 = np.copy(x)\n",
    "answer_3_01_2 = np.copy(y)\n",
    "answer_3_01_3 = np.copy(y_prime)"
   ]
  },
  {
   "cell_type": "markdown",
   "id": "8e5a0bac",
   "metadata": {},
   "source": [
    "**Self check:**\n",
    "\n",
    "* Does your plot have axis labels?\n",
    "* Does it have a legend?\n",
    "\n",
    "**Exercise 2:** Now, we will write a function to calculate the derivative numerically with a given step size $h$ and compare our numerically calculated derivative with that of the analytical answer.\n",
    "\n",
    "Write two functions that calculates the derivative of a function numerically, one using the forward difference method, and once using the central difference method.\n",
    "\n",
    "Use these functions calculate $f'(x)$ at $x=1$ for $h=0.5$, and compare your numerically calculated derivatives to the correct answer from the analytical formula.\n"
   ]
  },
  {
   "cell_type": "code",
   "execution_count": null,
   "id": "a3ba90a3",
   "metadata": {},
   "outputs": [],
   "source": [
    "def diff_forward(f,x,h):\n",
    "    # ...\n",
    "\n",
    "def diff_center(f,x,h):\n",
    "    # ...\n",
    "\n",
    "x0=1\n",
    "h=0.5\n",
    "\n",
    "# yd_analytical = \n",
    "# yd_forward = \n",
    "# yd_center = \n",
    "# error_forward = \n",
    "# error_center = \n",
    "\n",
    "print(\"Forward:    %f   Error: %f\" % (yd_forward, error_forward))\n",
    "print(\"Central:    %f   Error: %f\" % (yd_center, error_center))\n",
    "print(\"Analytical: %f\" % yd_analytical)\n",
    "\n",
    "answer_3_02_1 = (yd_forward, error_forward)\n",
    "answer_3_02_2 = (yd_center, error_center)\n",
    "answer_3_02_3 = yd_analytical"
   ]
  },
  {
   "cell_type": "code",
   "execution_count": null,
   "id": "a017526a",
   "metadata": {},
   "outputs": [],
   "source": [
    "## Check answer ##\n",
    "question = \"answer_3_02\"\n",
    "num = 3\n",
    "\n",
    "to_check = [question + \"_%d\" % (n+1) for n in range(num)]\n",
    "feedback = \"\"\n",
    "passed = True\n",
    "for var in to_check:\n",
    "    res, msg = check_answer(eval(var), var)\n",
    "    passed = passed and res\n",
    "    print(msg); feedback += msg + \"n\"\n",
    "\n",
    "assert passed == True, feedback"
   ]
  },
  {
   "cell_type": "markdown",
   "id": "008bda0d",
   "metadata": {
    "lines_to_next_cell": 0
   },
   "source": [
    "**Solution:**"
   ]
  },
  {
   "cell_type": "code",
   "execution_count": null,
   "id": "18698529",
   "metadata": {
    "tags": [
     "hide-input"
    ]
   },
   "outputs": [],
   "source": [
    "def diff_forward(f,x,h):\n",
    "    ### BEGIN SOLUTION\n",
    "    return (f(x+h)-f(x))/h\n",
    "    ### END SOLUTION\n",
    "\n",
    "def diff_center(f,x,h):\n",
    "    ### BEGIN SOLUTION\n",
    "    return (f(x+h/2)-f(x-h/2))/h\n",
    "    ### END SOLUTION\n",
    "\n",
    "x0=1\n",
    "h=0.5\n",
    "\n",
    "# yd_analytical = \n",
    "# yd_forward = \n",
    "# yd_center = \n",
    "# error_forward = \n",
    "# error_center = \n",
    "\n",
    "### BEGIN SOLUTION\n",
    "yd_analytical = fp(x0)\n",
    "yd_forward = diff_forward(f,x0,h)\n",
    "yd_center = diff_center(f,x0,h)\n",
    "\n",
    "error_forward = yd_forward - yd_analytical\n",
    "error_center = yd_center - yd_analytical\n",
    "### END SOLUTION\n",
    "\n",
    "print(\"Forward:    %f   Error: %f\" % (yd_forward, error_forward))\n",
    "print(\"Central:    %f   Error: %f\" % (yd_center, error_center))\n",
    "print(\"Analytical: %f\" % yd_analytical)\n",
    "\n",
    "answer_3_02_1 = (yd_forward, error_forward)\n",
    "answer_3_02_2 = (yd_center, error_center)\n",
    "answer_3_02_3 = yd_analytical"
   ]
  },
  {
   "cell_type": "markdown",
   "id": "5abd466b",
   "metadata": {},
   "source": [
    "To think about: Which is more accurate, the forward or the central derivative?\n",
    "\n",
    "**Exercise 3:** Repeat the calculation of Exercise 2 but now at $x=0$."
   ]
  },
  {
   "cell_type": "code",
   "execution_count": null,
   "id": "587bd054",
   "metadata": {},
   "outputs": [],
   "source": [
    "# yd_analytical = \n",
    "# yd_forward = \n",
    "# yd_center = \n",
    "# error_forward = \n",
    "# error_center = \n",
    "\n",
    "print(\"Forward:    %f   Error: %f\" % (yd_forward, error_forward))\n",
    "print(\"Central:    %f   Error: %f\" % (yd_center, error_center))\n",
    "print(\"Analytical: %f\" % yd_analytical)\n",
    "\n",
    "answer_3_03_1 = (yd_forward, error_forward)\n",
    "answer_3_03_2 = (yd_center, error_center)\n",
    "answer_3_03_3 = yd_analytical"
   ]
  },
  {
   "cell_type": "code",
   "execution_count": null,
   "id": "b2b62183",
   "metadata": {},
   "outputs": [],
   "source": [
    "## Check answer ##\n",
    "question = \"answer_3_03\"\n",
    "num = 3\n",
    "\n",
    "to_check = [question + \"_%d\" % (n+1) for n in range(num)]\n",
    "feedback = \"\"\n",
    "passed = True\n",
    "for var in to_check:\n",
    "    res, msg = check_answer(eval(var), var)\n",
    "    passed = passed and res\n",
    "    print(msg); feedback += msg + \"n\"\n",
    "\n",
    "assert passed == True, feedback"
   ]
  },
  {
   "cell_type": "markdown",
   "id": "913811a9",
   "metadata": {
    "lines_to_next_cell": 0
   },
   "source": [
    "**Solution:**"
   ]
  },
  {
   "cell_type": "code",
   "execution_count": null,
   "id": "6b4ec070",
   "metadata": {
    "lines_to_next_cell": 2,
    "tags": [
     "hide-input"
    ]
   },
   "outputs": [],
   "source": [
    "### BEGIN SOLUTION\n",
    "x0=0\n",
    "h=0.5\n",
    "\n",
    "yd_analytical = fp(x0)\n",
    "yd_forward = diff_forward(f,x0,h)\n",
    "yd_center = diff_center(f,x0,h)\n",
    "\n",
    "error_forward = yd_forward - yd_analytical\n",
    "error_center = yd_center - yd_analytical\n",
    "### END SOLUTION\n",
    "\n",
    "print(\"Forward:    %f   Error: %f\" % (yd_forward, error_forward))\n",
    "print(\"Central:    %f   Error: %f\" % (yd_center, error_center))\n",
    "print(\"Analytical: %f\" % yd_analytical)\n",
    "\n",
    "answer_3_03_1 = (yd_forward, error_forward)\n",
    "answer_3_03_2 = (yd_center, error_center)\n",
    "answer_3_03_3 = yd_analytical"
   ]
  },
  {
   "cell_type": "markdown",
   "id": "fc01f57f",
   "metadata": {},
   "source": [
    "**Exercise 4** Calculate the derivative of the function for a $x$ ranging from $-2 \\leq x \\leq 2$ with 100 points using the forward and the central difference methods with $h = 0.5$. \n",
    "\n",
    "(You can make use of the functions you defined above.)\n",
    "\n",
    "Make a plot of the forward difference derivative and the central difference derivative vs. x, along with the analytical solution. "
   ]
  },
  {
   "cell_type": "code",
   "execution_count": null,
   "id": "72f7dfb9",
   "metadata": {},
   "outputs": [],
   "source": [
    "# The spacing\n",
    "h=0.5\n",
    "\n",
    "# Our array of points at which to perform the calculations\n",
    "# x=np.linspace(__,__,__)\n",
    "\n",
    "# The derivatives\n",
    "# yd_center = ___\n",
    "# yd_forward = ___\n",
    "# yd_analytical = ____\n",
    "\n",
    "# The plot\n",
    "\n",
    "answer_3_04_1 = np.copy(x)\n",
    "answer_3_04_2 = np.copy(yd_center)\n",
    "answer_3_04_3 = np.copy(yd_forward)\n",
    "answer_3_04_4 = np.copy(yd_analytical)"
   ]
  },
  {
   "cell_type": "code",
   "execution_count": null,
   "id": "0d8fe11c",
   "metadata": {},
   "outputs": [],
   "source": [
    "## Check answer ##\n",
    "question = \"answer_3_04\"\n",
    "num = 4\n",
    "\n",
    "to_check = [question + \"_%d\" % (n+1) for n in range(num)]\n",
    "feedback = \"\"\n",
    "passed = True\n",
    "for var in to_check:\n",
    "    res, msg = check_answer(eval(var), var)\n",
    "    passed = passed and res\n",
    "    print(msg); feedback += msg + \"n\"\n",
    "\n",
    "assert passed == True, feedback"
   ]
  },
  {
   "cell_type": "markdown",
   "id": "419934fd",
   "metadata": {
    "lines_to_next_cell": 0
   },
   "source": [
    "**Solution:**"
   ]
  },
  {
   "cell_type": "code",
   "execution_count": null,
   "id": "a38d44fc",
   "metadata": {
    "lines_to_next_cell": 2,
    "tags": [
     "hide-input"
    ]
   },
   "outputs": [],
   "source": [
    "# The spacing\n",
    "h=0.5\n",
    "\n",
    "# Our array of points at which to perform the calculations\n",
    "# x=np.linspace(__,__,__)\n",
    "### BEGIN SOLUTION\n",
    "x=np.linspace(-2,2,100)\n",
    "### END SOLUTION\n",
    "\n",
    "# The derivatives\n",
    "# yd_center = ___\n",
    "# yd_forward = ___\n",
    "# yd_analytical = ____\n",
    "### BEGIN SOLUTION\n",
    "yd_center = diff_center(f,x,h)\n",
    "yd_forward = diff_forward(f,x,h)\n",
    "yd_analytical = fp(x)\n",
    "### END SOLUTION\n",
    "\n",
    "# The plot\n",
    "### BEGIN SOLUTION\n",
    "plt.plot(x,yd_center, label='Center')\n",
    "plt.plot(x,yd_forward, label='Forward')\n",
    "plt.plot(x,yd_analytical, label='Analytical')\n",
    "plt.ylabel(\"Numerical Derivative\")\n",
    "plt.xlabel(\"x\")\n",
    "plt.legend()\n",
    "### END SOLUTION\n",
    "\n",
    "answer_3_04_1 = np.copy(x)\n",
    "answer_3_04_2 = np.copy(yd_center)\n",
    "answer_3_04_3 = np.copy(yd_forward)\n",
    "answer_3_04_4 = np.copy(yd_analytical)"
   ]
  },
  {
   "cell_type": "markdown",
   "id": "fbc484fb",
   "metadata": {},
   "source": [
    "**Self check:**"
   ]
  },
  {
   "cell_type": "markdown",
   "id": "d47e761d",
   "metadata": {},
   "source": [
    "* Does your plot have axis labels?\n",
    "* Does it have a legend?\n",
    "\n",
    "What do you see in the plot? What can you interpret in the plot?\n",
    "\n",
    "**Exercise 5:** Here, you will make a plot of the error of the forward difference derivative, and also a plot of the function f(x), in two plots beside each other. The idea is to try to understand the value of the error (is it large, is it small, is it positive, is it negative) base on the shape of the function.\n",
    "\n",
    "Your x-range should extend from -2 to 2 with 100 points. \n",
    "\n",
    "To make two plots beside each other, you will use the matplotlib subplot capabilities:\n"
   ]
  },
  {
   "cell_type": "markdown",
   "id": "7f3e3d2a",
   "metadata": {},
   "source": [
    "Start your subplot using the command `fig.subplots(figsize=(10,4))`. To make your left hand plot, run the command `plt.subplot(121)` then use the usual plot commands to make your plot. To make a plto in the right hand plot, then use the command `plt.subplot(122)` and then add the commands to make the plot in second plot.\n",
    "\n",
    "Your left plot should plot the error, defined as the difference between the derivative calculated by the finite difference method, and the analytical answer:\n",
    "\n",
    "$$\n",
    "\\mathrm{error} = \n",
    "\\left (\\frac{df}{dx} \\right)_{\\mathrm{fwd}} - \n",
    "\\left ( \\frac{df}{dx} \\right)_{\\mathrm{analytical}}\n",
    "$$\n",
    "\n",
    "In this plot of the error, make a vertical line at $x=0$ using the  `plt.axvline()` command, and a horizontal line at $y=0$ using the `plt.axhline()` command. \n",
    "\n",
    "In the right plot, plot the function $f(x)$ as a function of $x$. For this plot, add a vertical line at $x=0$. \n"
   ]
  },
  {
   "cell_type": "code",
   "execution_count": null,
   "id": "35980ac5",
   "metadata": {},
   "outputs": [],
   "source": [
    "plt.subplots(figsize=(12,4))\n",
    "plt.subplot(121)\n",
    "\n",
    "# plt.plot(....)\n",
    "# .....\n",
    "\n",
    "plt.axvline(0, ls=\":\", color=\"grey\")\n",
    "plt.axhline(0, ls=\":\", color=\"grey\")\n",
    "\n",
    "plt.subplot(122)\n",
    "\n",
    "plt.axvline(0, ls=\":\", color=\"grey\")"
   ]
  },
  {
   "cell_type": "markdown",
   "id": "fe4e9d58",
   "metadata": {
    "lines_to_next_cell": 0
   },
   "source": [
    "**Solution:**"
   ]
  },
  {
   "cell_type": "code",
   "execution_count": null,
   "id": "552d4d67",
   "metadata": {
    "tags": [
     "hide-input"
    ]
   },
   "outputs": [],
   "source": [
    "plt.subplots(figsize=(12,4))\n",
    "plt.subplot(121)\n",
    "\n",
    "# plt.plot(....)\n",
    "# .....\n",
    "### BEGIN SOLUTION\n",
    "plt.plot(x, yd_forward-yd_analytical)\n",
    "plt.ylabel(\"Fwd Derivative Error\")\n",
    "plt.xlabel(\"x\")\n",
    "### END SOLUTION\n",
    "\n",
    "plt.axvline(0, ls=\":\", color=\"grey\")\n",
    "plt.axhline(0, ls=\":\", color=\"grey\")\n",
    "\n",
    "plt.subplot(122)\n",
    "### BEGIN SOLUTION\n",
    "plt.plot(x, f(x), label='f(x)')\n",
    "plt.ylabel(\"f(x)\")\n",
    "plt.xlabel(\"x\")\n",
    "### END SOLUTION\n",
    "\n",
    "plt.axvline(0, ls=\":\", color=\"grey\")"
   ]
  },
  {
   "cell_type": "markdown",
   "id": "d7911128",
   "metadata": {},
   "source": [
    "**Self check:**\n",
    "\n",
    "* Does your plot have axis labels?\n",
    "\n",
    "Can you explain why the forward difference overestimates the derivative for $x = -0.5$ and underestimates it for $x = 0.5$? \n",
    "\n",
    "*(Hint: take a look at the shape of the function as was plotted in figure 1,  think about how the forward difference calculates the derivative, and then think about how the shape of the function affects the error in the forward derivative calculation.)*"
   ]
  },
  {
   "cell_type": "markdown",
   "id": "d130018d",
   "metadata": {},
   "source": [
    "### Scaling of error with step size\n",
    "\n",
    "In this section, we will calculate the scaling of the error incurred by different techniques for numerical differentiation of a function of step size $h$ and compare this with what we expect. \n",
    "\n",
    "**Exercise 6** Write a loop that calculates the numerical derivative $f'(x)$ at $x=1$, using the forward, center, and backwards difference formulats. In your loop, perform your calculation for 100 different values of $h$ spaced evenly spaced on log scale from $h = 1\\times10^{-6}$ to $h = 1$. For this, you can use the `geomspace`  function:\n",
    "\n",
    "https://docs.scipy.org/doc/numpy/reference/generated/numpy.geomspace.html\n",
    "\n",
    "You can also use `logspace` if you want, but it is a bit tricker since using the `logspace` function, you can't specify the endpoints . \n",
    "\n",
    "Make a log-log plot of the error $\\epsilon$ vs $h$ for the three techniques (three lines on the same graph), with $\\epsilon$ defined as:\n",
    "\n",
    "$$\n",
    "\\epsilon = |f'_{calc}(1) - f'(1)|\n",
    "$$\n",
    "\n",
    "where $f'_{calc}$ is the numerically calculated derivative and $f'$ is the analytical answer. "
   ]
  },
  {
   "cell_type": "code",
   "execution_count": null,
   "id": "784359d4",
   "metadata": {},
   "outputs": [],
   "source": [
    "N = 100\n",
    "\n",
    "# Code to define any functions you need, calculate the derivatives\n",
    "# for 100 values of h, and make a plot with axis labels.\n",
    "# h = ...\n",
    "\n",
    "# Your code should produce three numpy arrays:\n",
    "# err_forward, err_center, err_backward, along with the array h\n",
    "# of points spaced equally on a logarithmic axis\n",
    "\n",
    "def diff_backward(f,x,h):\n",
    "\n",
    "# err_forward = ...\n",
    "# err_center = ...\n",
    "# err_backward = ...\n",
    "    \n",
    "\n",
    "# It's handy on this plot to have a grid\n",
    "plt.grid()\n",
    "\n",
    "answer_3_06_1 = h.copy()\n",
    "answer_3_06_2 = err_forward.copy()\n",
    "answer_3_06_3 = err_center.copy()\n",
    "answer_3_06_4 = err_backward.copy()"
   ]
  },
  {
   "cell_type": "code",
   "execution_count": null,
   "id": "2a55cd9c",
   "metadata": {},
   "outputs": [],
   "source": [
    "## Check answer ##\n",
    "question = \"answer_3_06\"\n",
    "num = 4\n",
    "\n",
    "to_check = [question + \"_%d\" % (n+1) for n in range(num)]\n",
    "feedback = \"\"\n",
    "passed = True\n",
    "for var in to_check:\n",
    "    res, msg = check_answer(eval(var), var)\n",
    "    passed = passed and res\n",
    "    print(msg); feedback += msg + \"n\"\n",
    "\n",
    "assert passed == True, feedback"
   ]
  },
  {
   "cell_type": "markdown",
   "id": "82a95b73",
   "metadata": {
    "lines_to_next_cell": 0
   },
   "source": [
    "**Solution:**"
   ]
  },
  {
   "cell_type": "code",
   "execution_count": null,
   "id": "4a74f416",
   "metadata": {
    "tags": [
     "hide-input"
    ]
   },
   "outputs": [],
   "source": [
    "N = 100\n",
    "\n",
    "# Code to define any functions you need, calculate the derivatives\n",
    "# for 100 values of h, and make a plot with axis labels.\n",
    "\n",
    "# Your code should produce three numpy arrays:\n",
    "# err_forward, err_center, err_backward, along with the array h\n",
    "# of points spaced equally on a logarithmic axis\n",
    "\n",
    "def diff_backward(f,x,h):\n",
    "    ### BEGIN SOLUTION\n",
    "    return (f(x)-f(x-h))/h\n",
    "    ### END SOLUTION\n",
    "    \n",
    "### BEGIN SOLUTION\n",
    "h = np.geomspace(1e-6,1,N)\n",
    "\n",
    "fp_forward = np.zeros(N)\n",
    "fp_center = np.zeros(N)\n",
    "fp_backward = np.zeros(N)\n",
    "\n",
    "for i in range(N):\n",
    "    fp_forward[i] = diff_forward(f,1,h[i])\n",
    "    fp_center[i] = diff_center(f,1,h[i])\n",
    "    fp_backward[i] = diff_backward(f,1,h[i])\n",
    "\n",
    "err_forward = np.abs(fp_forward - fp(1))\n",
    "err_center = np.abs(fp_center - fp(1))\n",
    "err_backward = np.abs(fp_backward - fp(1))\n",
    "\n",
    "plt.loglog(h, err_forward,'.', label=\"Forward\")\n",
    "plt.loglog(h, err_center,'.', label=\"Center\")\n",
    "plt.loglog(h, err_backward, '.', label=\"Backward\")\n",
    "plt.legend()\n",
    "plt.ylabel(\"Error $\\epsilon$\")\n",
    "plt.xlabel(\"Step size $h$\")\n",
    "### END SOLUTION\n",
    "\n",
    "# It's handy on this plot to have a grid\n",
    "plt.grid()\n",
    "\n",
    "answer_3_06_1 = h.copy()\n",
    "answer_3_06_2 = err_forward.copy()\n",
    "answer_3_06_3 = err_center.copy()\n",
    "answer_3_06_4 = err_backward.copy()"
   ]
  },
  {
   "cell_type": "markdown",
   "id": "2014c14d",
   "metadata": {},
   "source": [
    "**Self check:**\n",
    "\n",
    "* Does you plot have: legend, axis labels? \n",
    "* Do the different techniques show the scaling that you would expect? \n",
    "* What happens to the center difference curve for the smallest values of h? \n",
    "<!-- #endregion -->\n",
    "\n",
    "## Numerical derivatives of data\n",
    "\n",
    "Here, we will explore varios aspects of taking the derivative of numerically sampled datasets, for example like the data that might come out of a measurement in a physics experiment.\n",
    "\n",
    "In this case, things are a bit simpler, as we do not need to think about the value of the spacing $h$ since this is determined by the spacing in the sampling of the data. Let's look at an explicit example. Say we have a data set of 5 points corresponding to voltages measured at 5 different times:\n",
    "\n",
    "```\n",
    "# t (s), V (V)\n",
    "0, 1\n",
    "1, 2\n",
    "2, 5\n",
    "3, 10\n",
    "4, 17\n",
    "```\n",
    "\n",
    "If we loaded this into python, we would then get two vectors, one for the time, and one for the voltage:\n",
    "\n",
    "```\n",
    "t = [0, 1, 2, 3, 4]\n",
    "v = [1, 2, 5, 10, 17]\n",
    "```\n",
    "\n",
    "We can then define the derivative $v'(t) = dV/dt$ as:\n",
    "\n",
    "$$\n",
    "v'(t_n) = \\frac{v(t_{n+1}) - v(t_n)}{t_{n+1} - t_n}\n",
    "$$\n",
    "\n",
    "In the example above, the measurements are evenly spaced in time so $t_{n+1} - t_{n} = \\Delta t = 1$ for all $n$, and then we have a simple result for the derivative array:\n",
    "\n",
    "```\n",
    "v_prime = [1, 3, 5, 7]\n",
    "```\n",
    "\n",
    "Note that when I take the derivative of the data, I always end up with one less point in my resulting array than I started with! This is because there is no $n+1$ point for the last point in the array `v` that I started with. \n",
    "\n",
    "Using the finite difference method, it is pretty clear what the array `v_prime` should be. But at which time do these points correspond to? Clearly we cannot simply reuse the original array `t` since it is a different length!!\n",
    "\n",
    "The answer is that it depends on which approximation we use (forward, center, or backward difference). In fact, for numerical data, the `v_prime` array is the same for all three cases! The difference is which *times* we assign these values to. If we take the forward difference approximation, we would take:\n",
    "\n",
    "```\n",
    "t_forward = [0, 1, 2, 3]\n",
    "```\n",
    "\n",
    "For the backward difference approximation, we would take:\n",
    "\n",
    "```\n",
    "t_backward = [1, 2, 3, 4]\n",
    "```\n",
    "\n",
    "while for the center difference, we could take:\n",
    "\n",
    "```\n",
    "t_center = [0.5, 1.5, 2.5, 3.5]\n",
    "```\n",
    "\n",
    "As a final note, when working with numerical data, we can also define a center difference that takes the distance for the derivative as twice the time separation of the points, $h = 2\\Delta t$ and uses:\n",
    "\n",
    "$$\n",
    "v'(t_n) = \\frac{v(t_{n+1}) - v(t_{n-1})}{t_{n+1} - t_{n-1}}\n",
    "$$\n",
    "\n",
    "In this case, our `v_prime` array would be even smaller, since we also there is also no point $n-1$ for the first point. In the example above, we would then have: \n",
    "\n",
    "```\n",
    "v_prime2 = [2, 4, 6]\n",
    "```\n",
    "\n",
    "and \n",
    "\n",
    "```\n",
    "t_center2 = [1, 2, 3]\n",
    "```\n",
    "\n",
    "Although we lose points at both ends, this does have the advantage that there are accurate estimates of the derivatives at time values that are the same as in the original `t` array (unlike the alternative center difference above that gives accurate slopes halfway between the times in the original `t` array). \n",
    "\n",
    "## Exercises\n",
    "\n",
    "We will consider a data set take from a sinusoidal function of time $f(t) = \\sin(t)$, with a relatively low sampling rate. \n",
    "\n",
    "For example, this could represent a measurement of an ideal sine wave that is sampled by an oscilloscope."
   ]
  },
  {
   "cell_type": "markdown",
   "id": "009b42c0",
   "metadata": {},
   "source": [
    "**Exercise 7:** Plot the data of a sparsly sampled sinusoid with 25 points between $t = 0$ and $t = 4 \\pi$."
   ]
  },
  {
   "cell_type": "code",
   "execution_count": null,
   "id": "52a606cf",
   "metadata": {},
   "outputs": [],
   "source": [
    "N=25\n",
    "# t = np.linspace(____)\n",
    "# data = ____\n",
    "# ...\n",
    "\n",
    "\n",
    "answer_3_07_1 = np.copy(t)\n",
    "answer_3_07_2 = np.copy(data)"
   ]
  },
  {
   "cell_type": "code",
   "execution_count": null,
   "id": "cd450b49",
   "metadata": {},
   "outputs": [],
   "source": [
    "## Check answer ##\n",
    "question = \"answer_3_07\"\n",
    "num = 2\n",
    "\n",
    "to_check = [question + \"_%d\" % (n+1) for n in range(num)]\n",
    "feedback = \"\"\n",
    "passed = True\n",
    "for var in to_check:\n",
    "    res, msg = check_answer(eval(var), var)\n",
    "    passed = passed and res\n",
    "    print(msg); feedback += msg + \"n\"\n",
    "\n",
    "assert passed == True, feedback"
   ]
  },
  {
   "cell_type": "markdown",
   "id": "f9e598cc",
   "metadata": {
    "lines_to_next_cell": 0
   },
   "source": [
    "**Solution:**"
   ]
  },
  {
   "cell_type": "code",
   "execution_count": null,
   "id": "eeb000b3",
   "metadata": {
    "tags": [
     "hide-input"
    ]
   },
   "outputs": [],
   "source": [
    "N=25\n",
    "# t = np.linspace(____)\n",
    "# data = ____\n",
    "# ...\n",
    "\n",
    "### BEGIN SOLUTION\n",
    "t = np.linspace(0,4*np.pi,N)\n",
    "data = np.sin(t)\n",
    "\n",
    "plt.plot(t,data, '-o')\n",
    "plt.axhline(0,c='grey', ls=':')\n",
    "plt.xlabel('t')\n",
    "plt.ylabel('f(t)')\n",
    "### END SOLUTION\n",
    "\n",
    "answer_3_07_1 = np.copy(t)\n",
    "answer_3_07_2 = np.copy(data)"
   ]
  },
  {
   "cell_type": "markdown",
   "id": "a0c000c9",
   "metadata": {},
   "source": [
    "**Exercise 8:** Calculate and plot forward derivative of the numerical data, along with the correct value from the analytical derivative of a sine function. \n"
   ]
  },
  {
   "cell_type": "code",
   "execution_count": null,
   "id": "3a928708",
   "metadata": {},
   "outputs": [],
   "source": [
    "# fwd_derv = np.zeros(_____)\n",
    "\n",
    "# for i in range(_____):\n",
    "#     .....\n",
    "\n",
    "# We also need to adjust the t vector (do you remember why and how?)   \n",
    "# t_fwd = ....\n",
    "\n",
    "# analytical_derv = _____\n",
    "\n",
    "# And now a nice plot (for free this time)\n",
    "plt.plot(t, analytical_derv, '-o', label = \"$\\cos(x)$\")\n",
    "plt.plot(t_fwd, fwd_derv, '-o', label = \"Fwd\")\n",
    "plt.legend()\n",
    "plt.xlabel('t')\n",
    "plt.ylabel(\"f'(t)\")\n",
    "plt.axhline(0,c='grey', ls=':')\n",
    "\n",
    "answer_3_08_1 = np.copy(fwd_derv)\n",
    "answer_3_08_2 = np.copy(t_fwd)\n",
    "answer_3_08_3 = np.copy(analytical_derv)"
   ]
  },
  {
   "cell_type": "code",
   "execution_count": null,
   "id": "75644239",
   "metadata": {},
   "outputs": [],
   "source": [
    "## Check answer ##\n",
    "question = \"answer_3_08\"\n",
    "num = 3\n",
    "\n",
    "to_check = [question + \"_%d\" % (n+1) for n in range(num)]\n",
    "feedback = \"\"\n",
    "passed = True\n",
    "for var in to_check:\n",
    "    res, msg = check_answer(eval(var), var)\n",
    "    passed = passed and res\n",
    "    print(msg); feedback += msg + \"n\"\n",
    "\n",
    "assert passed == True, feedback"
   ]
  },
  {
   "cell_type": "markdown",
   "id": "e22dc55e",
   "metadata": {
    "lines_to_next_cell": 0
   },
   "source": [
    "**Solution:**"
   ]
  },
  {
   "cell_type": "code",
   "execution_count": null,
   "id": "14c208d3",
   "metadata": {
    "lines_to_next_cell": 2,
    "tags": [
     "hide-input"
    ]
   },
   "outputs": [],
   "source": [
    "# fwd_derv = np.zeros(_____)\n",
    "### BEGIN SOLUTION\n",
    "fwd_derv = np.zeros(N-1)\n",
    "### END SOLUTION\n",
    "\n",
    "# for i in range(_____):\n",
    "#     .....\n",
    "### BEGIN SOLUTION\n",
    "for i in range(0,N-1):\n",
    "    fwd_derv[i] = (data[i+1]-data[i]) / (t[i+1]-t[i])\n",
    "### END SOLUTION\n",
    "\n",
    "# We also need to adjust the t vector (do you remember why and how?)   \n",
    "# t_fwd = ....\n",
    "### BEGIN SOLUTIONS\n",
    "t_fwd = t[0:N-1]\n",
    "### END SOLUTIONS\n",
    "\n",
    "# analytical_derv = _____\n",
    "### BEGIN SOLUTION\n",
    "analytical_derv = np.cos(t)\n",
    "### END SOLUTIONS\n",
    "\n",
    "# And now a nice plot (for free this time)\n",
    "plt.plot(t, analytical_derv, '-o', label = \"$\\cos(x)$\")\n",
    "plt.plot(t_fwd, fwd_derv, '-o', label = \"Fwd\")\n",
    "plt.legend()\n",
    "plt.xlabel('t')\n",
    "plt.ylabel(\"f'(t)\")\n",
    "plt.axhline(0,c='grey', ls=':')\n",
    "\n",
    "answer_3_08_1 = np.copy(fwd_derv)\n",
    "answer_3_08_2 = np.copy(t_fwd)\n",
    "answer_3_08_3 = np.copy(analytical_derv)"
   ]
  },
  {
   "cell_type": "markdown",
   "id": "5e79e6c3",
   "metadata": {},
   "source": [
    "Compare the analytical answer with the forward derivative approximation. How accurate is it? What seems wrong with it? \n"
   ]
  },
  {
   "cell_type": "markdown",
   "id": "8d54d9fa",
   "metadata": {},
   "source": [
    "**Exercise 9:** Although the derivative seems on first inspection quite inaccurate, there is actually a small fix that can change this. In particular, although the forward derivative calculates the derivative at the sampled time steps relatively inaccurately, it does do a pretty good job at calculating the derivative at times halfway *between* the sampled time points. \n",
    "\n",
    "Write code below so that you calculate the center difference derivative at points halfway between the sampling points. (Hint: you don't have to do much work! But you will need a new time array.) \n",
    "\n",
    "Calculate the analytical answer $\\cos(x)$ for the derivative at these same timesteps, and make a plot showing the two."
   ]
  },
  {
   "cell_type": "code",
   "execution_count": null,
   "id": "cd5c6c37",
   "metadata": {},
   "outputs": [],
   "source": [
    "\n",
    "# t_new = ...\n",
    "# analytical_derv_new = ...\n",
    "\n",
    "\n",
    "# now make the plot\n",
    "plt.plot(t_new, fwd_derv, '-o', label='Fwd Shifted')\n",
    "plt.plot(t_new, analytical_derv_new, '-o', label='Analytical')\n",
    "plt.legend()\n",
    "plt.ylabel(\"f'(t)\")\n",
    "plt.xlabel('t')\n",
    "plt.axhline(0,c='grey', ls=':')\n",
    "\n",
    "answer_3_09_1 = np.copy(t_new)\n",
    "answer_3_09_2 = np.copy(analytical_derv_new)"
   ]
  },
  {
   "cell_type": "code",
   "execution_count": null,
   "id": "1ad7a75c",
   "metadata": {},
   "outputs": [],
   "source": [
    "## Check answer ##\n",
    "question = \"answer_3_09\"\n",
    "num = 2\n",
    "\n",
    "to_check = [question + \"_%d\" % (n+1) for n in range(num)]\n",
    "feedback = \"\"\n",
    "passed = True\n",
    "for var in to_check:\n",
    "    res, msg = check_answer(eval(var), var)\n",
    "    passed = passed and res\n",
    "    print(msg); feedback += msg + \"n\"\n",
    "\n",
    "assert passed == True, feedback"
   ]
  },
  {
   "cell_type": "markdown",
   "id": "6db1f5f5",
   "metadata": {
    "lines_to_next_cell": 0
   },
   "source": [
    "**Solution:**"
   ]
  },
  {
   "cell_type": "code",
   "execution_count": null,
   "id": "caaa6101",
   "metadata": {
    "lines_to_next_cell": 2,
    "tags": [
     "hide-input"
    ]
   },
   "outputs": [],
   "source": [
    "\n",
    "# t_new = ...\n",
    "# analytical_derv_new = ...\n",
    "\n",
    "### BEGIN SOLUTION\n",
    "dt = t[1]-t[0]\n",
    "t_new = t_fwd + dt/2\n",
    "analytical_derv_new = np.cos(t_new)\n",
    "### END SOLUTION\n",
    "\n",
    "# now make the plot\n",
    "plt.plot(t_new, fwd_derv, '-o', label='Fwd Shifted')\n",
    "plt.plot(t_new, analytical_derv_new, '-o', label='Analytical')\n",
    "plt.legend()\n",
    "plt.ylabel(\"f'(t)\")\n",
    "plt.xlabel('t')\n",
    "plt.axhline(0,c='grey', ls=':')\n",
    "\n",
    "answer_3_09_1 = np.copy(t_new)\n",
    "answer_3_09_2 = np.copy(analytical_derv_new)"
   ]
  },
  {
   "cell_type": "markdown",
   "id": "9b6d77d6",
   "metadata": {},
   "source": [
    "## Vectorising numerical derivatives\n",
    "\n",
    "When calculating the numerical derivatives of data above, the simplest way to do this is to use a `for` loop to create a new array based on looping over the contents of the old array. \n",
    "\n",
    "As discussed in the introduction course notebooks, `for` loops in python are very slow because they are based on \"interpreted loops\". A much faster way to do such calculations is to make use of \"slicing\" to perform \"vectorised\" calculations, in which the for-loops are performed by highly efficient pre-compiled libraries. \n",
    "\n",
    "As an example, let's consider calculating the forward derivative of a dataset stored in an array `v[i]` with `N` points as a function of the dependent variable `t[i]`, which could represent a measured voltage as a function of time.\n",
    "\n",
    "In this case, the entries of the output array `dvdt` would be given by:\n",
    "\n",
    "```\n",
    "dvdt[i] = (v[i+1]-v[i])/(t[i+1]-t[i])\n",
    "```\n",
    "\n",
    "Important to notice is that the array `dvdt` will be one point shorter than the original array `v` since that calculation can only proceed until `i=(N-1)-1` (the extra `-1` in the brackets is because python counts from zero...). \n",
    "\n",
    "Now, let's say we wanted to \"vectorise\" the calculation above. How would we go about that? \n",
    "\n",
    "One way we could do that is to make a couple of new arrays, which I will do here with new names that will look a lot like the formula above using slicing:\n",
    "\n",
    "```\n",
    "v_i = v[:-1]\n",
    "v_i_plus_1 = v[1:]\n",
    "t_i = t[:-1]\n",
    "t_i_plus_1 = t[1:]\n",
    "```\n",
    "\n",
    "Note that all of these arrays are now size `N-1`, and the first entry `v_i[0] = v[0]` while the first entry `v_i_plus_1[0] = v[1]`. Also note the careful use of slicing to use `[:-1]` to skip the last entry and using `[1:]` to skip the first entry (remember again python counts from zero...). By doing this, I can then use the vectorisation of numpy to calculate the output array `dvdt` in one step with no `for` loop:\n",
    "\n",
    "```\n",
    "dvdt = (v_i_plus_1 - v_i)/(t_i_plus_1 - t_i)\n",
    "```\n",
    "\n",
    "Note that this will be **much** faster since the calculation will be performed by \"precompiled\" for loops. \n",
    "\n",
    "Let's look at an example, now skipping the intermediate variable names and putting the vectorisation directly into the code:"
   ]
  },
  {
   "cell_type": "code",
   "execution_count": null,
   "id": "ba5928e7",
   "metadata": {},
   "outputs": [],
   "source": [
    "t = np.linspace(0,10,1000) \n",
    "v = t**2\n",
    "dvdt = (v[1:]-v[:-1])/(t[1:]-t[:-1])"
   ]
  },
  {
   "cell_type": "code",
   "execution_count": null,
   "id": "e83ce29d",
   "metadata": {},
   "outputs": [],
   "source": [
    "plt.subplots(figsize=(14,4))\n",
    "plt.subplot(121)\n",
    "plt.plot(t,v)\n",
    "plt.xlabel(\"t\")\n",
    "plt.ylabel(\"v\")\n",
    "plt.subplot(122)\n",
    "# Note that we need to pick out only the first N-1 points of the t-array for plotting\n",
    "# Otherwise, t and dvdt are not the same size!\n",
    "plt.plot(t[:-1], dvdt)\n",
    "plt.xlabel(\"t\")\n",
    "plt.ylabel(\"dvdt\")\n",
    "plt.show()"
   ]
  },
  {
   "cell_type": "markdown",
   "id": "7b7d7a1e",
   "metadata": {},
   "source": [
    "**Exercise 10:** Write code that uses slicing to calculate the center derivative of a dataset constructed from the function $v = \\sin(t)$ for an array `t` that runs from 0 to 10 with 1000 points. Evaluate the center derivative at the positions of original points, not between them, which means that your output array should be two points smaller in size than the input. "
   ]
  },
  {
   "cell_type": "code",
   "execution_count": null,
   "id": "3cf3e2c2",
   "metadata": {},
   "outputs": [],
   "source": [
    "\n",
    "# dvdt = ...\n",
    "\n",
    "# Have a look at the plots to see if your answer looks reasonble\n",
    "plt.subplots(figsize=(14,4))\n",
    "plt.subplot(121)\n",
    "plt.plot(t,v)\n",
    "plt.xlabel(\"t\")\n",
    "plt.ylabel(\"v\")\n",
    "plt.axhline(0,ls=\":\", c='gray')\n",
    "plt.axvline(0,ls=\":\", c='gray')\n",
    "plt.subplot(122)\n",
    "# Note that with the instructions above, this is the correct time array\n",
    "# for plotting the center derivative\n",
    "plt.plot(t[1:-1], dvdt)\n",
    "plt.xlabel(\"t\")\n",
    "plt.ylabel(\"dvdt\")\n",
    "plt.axhline(0,ls=\":\", c='gray')\n",
    "plt.axvline(0,ls=\":\", c='gray')\n",
    "plt.show()\n",
    "\n",
    "answer_3_10_1 = dvdt"
   ]
  },
  {
   "cell_type": "code",
   "execution_count": null,
   "id": "50bd6031",
   "metadata": {},
   "outputs": [],
   "source": [
    "## Check answer ##\n",
    "question = \"answer_3_10\"\n",
    "num = 1\n",
    "\n",
    "to_check = [question + \"_%d\" % (n+1) for n in range(num)]\n",
    "feedback = \"\"\n",
    "passed = True\n",
    "for var in to_check:\n",
    "    res, msg = check_answer(eval(var), var)\n",
    "    passed = passed and res\n",
    "    print(msg); feedback += msg + \"n\"\n",
    "\n",
    "assert passed == True, feedback"
   ]
  },
  {
   "cell_type": "markdown",
   "id": "9e40c148",
   "metadata": {
    "lines_to_next_cell": 0
   },
   "source": [
    "**Solution:**"
   ]
  },
  {
   "cell_type": "code",
   "execution_count": null,
   "id": "0df48497",
   "metadata": {
    "lines_to_next_cell": 2,
    "tags": [
     "hide-input"
    ]
   },
   "outputs": [],
   "source": [
    "### BEGIN SOLUTION\n",
    "t = np.linspace(0,10,1000)\n",
    "v = np.sin(t)\n",
    "\n",
    "dvdt = (v[2:] - v[:-2])/(t[2:] - t[:-2])\n",
    "### END SOLUTION\n",
    "\n",
    "# Have a look at the plots to see if your answer looks reasonble\n",
    "plt.subplots(figsize=(14,4))\n",
    "plt.subplot(121)\n",
    "plt.plot(t,v)\n",
    "plt.xlabel(\"t\")\n",
    "plt.ylabel(\"v\")\n",
    "plt.axhline(0,ls=\":\", c='gray')\n",
    "plt.axvline(0,ls=\":\", c='gray')\n",
    "plt.subplot(122)\n",
    "# Note that with the instructions above, this is the correct time array\n",
    "# for plotting the center derivative\n",
    "plt.plot(t[1:-1], dvdt)\n",
    "plt.xlabel(\"t\")\n",
    "plt.ylabel(\"dvdt\")\n",
    "plt.axhline(0,ls=\":\", c='gray')\n",
    "plt.axvline(0,ls=\":\", c='gray')\n",
    "plt.show()\n",
    "\n",
    "answer_3_10_1 = dvdt"
   ]
  },
  {
   "cell_type": "markdown",
   "id": "cf52a3e9",
   "metadata": {},
   "source": [
    "### Numpy functions for derivatives\n",
    "\n",
    "Now that we have implemented the code for calculating derivatives ourselves, and we understand how it works, it is also useful to know that the numpy library also provides functions for calculating derivatives of (multidimensional) numpy arrays:\n",
    "\n",
    "https://docs.scipy.org/doc/numpy/reference/generated/numpy.diff.html\n",
    "\n",
    "The most important parameters of this function are:\n",
    "\n",
    "```\n",
    "numpy.diff(a, n=1, axis=-1)\n",
    "```\n",
    "\n",
    "* `a`: the array you want to take the derivative off\n",
    "* `n`: how many derivatives to take (n=1 is a first derivative)\n",
    "* `axis`: This is used for multidimensional arrays: it tells you along which \"direction\" the derivative should be taken. \n",
    "\n",
    "Here below you can find a few examples of using it"
   ]
  },
  {
   "cell_type": "code",
   "execution_count": null,
   "id": "4e9398d5",
   "metadata": {},
   "outputs": [],
   "source": [
    "### Example code\n",
    "\n",
    "# Derivatives of a vector (1D)\n",
    "\n",
    "x = np.linspace(-5,5,100)\n",
    "y = np.exp(-x**2)\n",
    "\n",
    "plt.plot(x,y, label=\"y\")\n",
    "\n",
    "# Note that np.diff(x) is one point shorter! \n",
    "# By choosing to plot against t[0:-1], we are picking the \"forward difference\" approximation\n",
    "plt.plot(x[0:-1], np.diff(y), label=\"dy/dx\")\n",
    "\n",
    "# A second derivative\n",
    "plt.plot(x[0:-2], np.diff(y, n=2), label=\"d$^2$y/dx$^2$\")\n",
    "\n",
    "plt.legend()\n",
    "plt.xlabel(\"x\")\n",
    "plt.show()"
   ]
  },
  {
   "cell_type": "code",
   "execution_count": null,
   "id": "2ec75d3e",
   "metadata": {},
   "outputs": [],
   "source": [
    "### Example code\n",
    "\n",
    "# Derivatives of a 2D function\n",
    "\n",
    "x = np.linspace(-5,5,100)\n",
    "y = np.linspace(-5,5,100)\n",
    "\n",
    "X,Y = np.meshgrid(x,y)\n",
    "Z = np.exp(-X**2-Y**2)\n",
    "\n",
    "plt.subplots(figsize=(14,3.5))\n",
    "\n",
    "plt.subplot(131)\n",
    "plt.imshow(Z, aspect='auto', cmap=\"RdBu_r\", \n",
    "           origin='lower',\n",
    "           extent=(x[0], x[-1], y[0], y[-1]))\n",
    "plt.clim(-1,1)\n",
    "plt.colorbar().set_label(\"Z\")\n",
    "plt.xlabel(\"x\")\n",
    "plt.ylabel(\"y\")\n",
    "\n",
    "# Note: axis=0 corresponds to the \"Y\" axis (a bit confusing, but just the way it is...)\n",
    "plt.subplot(132)\n",
    "plt.imshow(np.diff(Z,axis=0), aspect='auto', cmap=\"RdBu_r\", \n",
    "           origin='lower',\n",
    "           extent=(x[0], x[-1], y[0], y[-1]))\n",
    "plt.colorbar().set_label(\"dZ/dy\")\n",
    "plt.xlabel(\"x\")\n",
    "plt.ylabel(\"y\")\n",
    "\n",
    "plt.subplot(133)\n",
    "plt.imshow(np.diff(Z,axis=1), aspect='auto', cmap=\"RdBu_r\", \n",
    "           origin='lower',\n",
    "           extent=(x[0], x[-1], y[0], y[-1]))\n",
    "plt.colorbar().set_label(\"dZ/dx\")\n",
    "plt.xlabel(\"x\")\n",
    "plt.ylabel(\"y\")\n",
    "\n",
    "plt.tight_layout()\n",
    "plt.show()"
   ]
  },
  {
   "cell_type": "code",
   "execution_count": null,
   "id": "3abdf2d0",
   "metadata": {
    "tags": [
     "auto-execute-page",
     "thebe-init",
     "hide-input"
    ]
   },
   "outputs": [],
   "source": [
    "## Pre-loading the solutions\n",
    "\n",
    "import sys\n",
    "await micropip.install(\"numpy\")\n",
    "sys.path.insert(1, '/validate_answers/../')\n",
    "from validate_answers import *\n",
    "\n",
    "with open(location):\n",
    "    pass # Initially this notebook does not recognise the file unless someone tries to read it first"
   ]
  }
 ],
 "metadata": {
  "jupytext": {
   "formats": "ipynb,md"
  },
  "kernelspec": {
   "display_name": "Python 3 (ipykernel)",
   "language": "python",
   "name": "python3"
  }
 },
 "nbformat": 4,
 "nbformat_minor": 5
}
