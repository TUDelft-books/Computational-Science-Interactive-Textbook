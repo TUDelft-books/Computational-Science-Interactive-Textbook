{
 "cells": [
  {
   "cell_type": "markdown",
   "id": "3278cdae",
   "metadata": {},
   "source": [
    "# Partial Differential Equations 1: Boundary Value Problems\n",
    "\n",
    "In this lecture, we will explore numerically solving partial differential equations (PDEs) that have the form of boundary value problems using various techniques of relaxation. \n",
    "\n",
    "**Learning objectives:** After completing this lecture, you should be able to:\n",
    "\n",
    "1. Implement the Jacobi and Gauss-Seidel methods of solving PDEs \n",
    "2. Speed up calculation by implementing successive over-relaxation (SOR)\n",
    "3. Solve for the electrostatic potential $\\phi$ for 2-dimensional (2D) problems using SOR including fixed charges\n",
    "4. Calculate the surface charge density on the surfaces of a simulation of the 2D poission equation in physical units (C/m$^2$)\n"
   ]
  },
  {
   "cell_type": "code",
   "execution_count": null,
   "id": "fbb1bc68",
   "metadata": {
    "nbgrader": {
     "grade": false,
     "grade_id": "cell-cc8d940f3be763cd",
     "locked": true,
     "schema_version": 3,
     "solution": false,
     "task": false
    }
   },
   "outputs": [],
   "source": [
    "# Notebook code\n",
    "import numpy as np\n",
    "import matplotlib.pyplot as plt\n",
    "from time import time\n",
    "\n",
    "from explore_image import explore_image\n",
    "plt.rcParams['figure.dpi'] = 100\n",
    "%matplotlib widget"
   ]
  },
  {
   "cell_type": "markdown",
   "id": "6150a584",
   "metadata": {},
   "source": [
    "## Poisson's equation in 2D\n",
    "\n",
    "We will look specifically in this course at the solutions to a specific, linear partial differential equation known as Poisson's equation:\n",
    "\n",
    "$$\n",
    "\\nabla^2 \\phi = \n",
    "\\frac{\\partial^2\\phi}{\\partial x^2} +\n",
    "\\frac{\\partial^2\\phi}{\\partial y^2} + \n",
    "\\frac{\\partial^2\\phi}{\\partial z^2} =\n",
    "\\rho(x,y,z)\n",
    "$$\n",
    "\n",
    "This equation is hopefully well known to you from your course in <a href=https://en.wikipedia.org/wiki/Electrostatics>electrostatics</a>: it is the equation that determines the electrostatic potential $\\phi(\\vec{r})$ for a given distribution of charges $\\rho(\\vec{r})$. \n",
    "\n",
    "In this lecture, we will discuss how to solve a two-dimensional version of the equation. By working in 2D, we will keep the calculation times relatively short and it will be easy to visualize our results. The technique, however, can easily be extended into 3D in an obvious way.\n",
    "\n",
    "What does this mean physically? Of course, Maxwell's equations apply to problems in 3-dimensions: we can't just cut one of the dimensions off! However, if our system is translationally invariant in one dimension (say, the $z$ direction for example), then we know that $\\phi$ cannot depend on $z$ since if we move in the $z$ direction, everything looks the same. In this case, the derivative in the $z$ direction will be zero:\n",
    "\n",
    "$$\n",
    "\\frac{\\partial^2\\phi}{\\partial z^2} = 0\n",
    "$$\n",
    "\n",
    "leading us to a two-dimensional version of the Poisson equation:\n",
    "\n",
    "$$\n",
    "\\frac{\\partial^2\\phi}{\\partial x^2} +\n",
    "\\frac{\\partial^2\\phi}{\\partial y^2} =\n",
    "\\rho(x,y)\n",
    "$$\n",
    "\n",
    "What would something like this look like physically? A good example is the two wires that make up a simple transmission line:\n",
    "\n",
    "![image](transmission_line.png)\n",
    "\n",
    "If we approximate the wires as infinitely long, or are interested only in places near the wires and also far from their ends, the 2D Poisson equation above will give us a good approximation of the electrostatic potential in the plane perpendicular to the wire direction. "
   ]
  },
  {
   "cell_type": "markdown",
   "id": "4badb3be",
   "metadata": {},
   "source": [
    "We will start with the simple case where $\\rho(x,y) = 0$, leading to Laplace's equation:\n",
    "\n",
    "$$\n",
    "\\frac{\\partial^2\\phi}{\\partial x^2} +\n",
    "\\frac{\\partial^2\\phi}{\\partial y^2} = 0\n",
    "$$\n",
    "\n",
    "We will use this to explore various techniques for solving it using finite differences and different relaxation techniques, then move on to the solving physical problems in electrostatics. \n",
    "\n",
    "## Finite Difference method\n",
    "\n",
    "The first step in solving the problem numerically is to map the continuous $x,y$ plane into discrete points. Here, we will consider discrete points with a spacing $a$. \n",
    "\n",
    "The next step is to approximate the partial derivatives with finite differences. Doing so will lead to:\n",
    "\n",
    "$$\n",
    "\\frac{\\partial^2\\phi}{\\partial x^2} +\n",
    "\\frac{\\partial^2\\phi}{\\partial y^2} \\approx \n",
    "\\frac{\n",
    "\\phi(x+a,y) + \n",
    "\\phi(x-a,y) + \n",
    "\\phi(x,y+a) + \n",
    "\\phi(x,y-a) -\n",
    "4 \\phi(x,y)}\n",
    "{a^2}\n",
    "$$\n",
    "\n",
    "All we need to do now is to equate this to zero and find the solutions of the resulting coupled (linear) equations. How many equations will we have? If we choose a grid of 100x100 points in our $x,y$ plane, we will have 10,000 equations! That's a lot! Coding this into a matrix is quite daunting...\n",
    "\n",
    "### Jacobi method for solving the linear equations\n",
    "\n",
    "Fortunately, there is a simpler method for solving these 10,000 equations, which is known as \"relaxation\". \n",
    "\n",
    "The problem we are looking at is a boundary-value problem: to be able to solve for the potential on our grid, we need to know the value of the potential on the boundaries of our simulation. This is our \"known\" starting point, and we need to then find the solutions in the middle that solve the Laplace (or the Poisson) equation. \n",
    "\n",
    "The way relaxation works is the following: we start with our fixed boundary condition on the outside of our simulation \"box\". We then start with an initial guess at the potential everywhere inside the box. What do we choose for this? It turns out that it **doesn't matter** what we choose: the techniques we will look at will always work no matter what you chose (which is handy!).\n",
    "\n",
    "(Note that here, we will consider only \"metallic\" fixed-potential boundary conditions, also know as the Dirichlet condition. One alternative is also the Neumann boundary condition, specifying no electric field perpendicular to the boundary. Another is periodic boundary conditions. In addition, there are more <a href=https://arxiv.org/abs/1510.04400>exotic boundary conditions</a> that allow, among other things, the simulation of an open boundary to infinity.)\n",
    "\n",
    "Once we have our boundary set and our initial guess, we then iterate through all the points in our simulation and replace the value of the potential at iteration $N+1$ with the value that would solve the equation we are solving, given the value of it's neighbors at that step of the iteration $N$. With $\\rho(x,y) = 0$, this becomes:\n",
    "\n",
    "$$\n",
    "\\phi_{N+1}(x,y) = \n",
    "\\frac{\\phi_N(x+a,y) + \n",
    "\\phi_N(x-a,y) + \n",
    "\\phi_N(x,y+a) + \n",
    "\\phi_N(x,y-a)}{4}\n",
    "$$\n",
    "\n",
    "Note that for $\\rho = 0$, the lattice spacing $a$ falls out: we don't even need to know the spacing to do the calculation, just the aspect ratio.\n",
    "\n",
    "Miraculously (?), if we just keep doing this for a while, the potential will magically converge to the correct solution!\n",
    "\n",
    "How do we know when to stop? One way is to keep track of the largest change in $\\phi$ of any of the pixels in our simulation. If this change in potential goes below a target accuracy that we configure, then we can stop iterating our simulation."
   ]
  },
  {
   "cell_type": "markdown",
   "id": "bc2ff0c8",
   "metadata": {},
   "source": [
    "**Exercise 1(a)** Consider a square box with the left, right, and bottom sides grounded, and the top side set to a voltage of 1V. In our finite element technique, we will divide the two-dimensional $x-y$ space into an $M \\times M$ grid, illustrated here for $M = 11$: \n",
    "\n",
    "![image](box.png)\n",
    "\n",
    "The outer boundary points are fixed by the boundary condition, and are not updated when we are solving for $\\phi$: instead they remain at a fixed potential. We need to keep track of this so that we do not accidentally update any points that should correspond to a fixed external potential. \n",
    "\n",
    "Note that our update equation above does not depend on the spacing between our grid points: the Laplace equation has the same solution regardless if the size of the box in 1 meter of 1 nm! For the Laplace equation, we do not have to keep track what the spacing between our points is.\n",
    "\n",
    "Your task is to fill in the code below to use Jacobi's method to calculate $\\phi(x,y)$.\n",
    "\n",
    "During your calculation, keep track of the absolute value of the largest change `delta_max` in $\\phi$ during that iteration in a list so that we can plot later the convergence as a function of the number of iterations. Use a threshold of 0.1 mV for $\\phi$.\n",
    "\n",
    "To benchmark the computational speed of our simulation, we will keep track of the running time and the code speed."
   ]
  },
  {
   "cell_type": "code",
   "execution_count": null,
   "id": "6a42a4c4",
   "metadata": {},
   "outputs": [],
   "source": [
    "target_accuracy = 1e-4\n",
    "\n",
    "# The size of the simulation grid\n",
    "M = 101\n",
    "phi = np.zeros([M,M])\n",
    "phi[-1,1:-1] = 1\n",
    "\n",
    "# A second matrix for storing the values calculated for the next\n",
    "# iteration\n",
    "phinew = phi.copy()\n",
    "\n",
    "# A matrix to keep track of which points in our simulation \n",
    "# are fixed voltages. In this case, it is only the boundaries\n",
    "# of the simulation\n",
    "fixed = np.empty([M,M]) \n",
    "fixed[:,:] = False # interior points are not fixed, they should be iterated\n",
    "fixed[0,:] = True\n",
    "fixed[-1,:] = True\n",
    "fixed[:,0] = True\n",
    "fixed[:,-1] = True\n",
    "\n",
    "# Keep track of the biggest update. \n",
    "# When this is smaller than our target accuracy, \n",
    "# we will stop iterating\n",
    "delta_max = 1\n",
    "delta_max_list = []\n",
    "\n",
    "t1 = time()\n",
    "while delta_max > target_accuracy:\n",
    "    for i in range(M):\n",
    "        for j in range(M):\n",
    "            if fixed[i,j]:\n",
    "                #phinew[i,j] = ...\n",
    "            else:\n",
    "                #phinew[i,j] = ....\n",
    "    #delta_max =....\n",
    "    delta_max_list.append(delta_max)\n",
    "    print(\"N_iter %d delta_max %e\\r\" % (len(delta_max_list), delta_max), end='')\n",
    "    # Now that we're done, phi becomes phinew. A sneaky trick: if we swap the two, \n",
    "    # we don't need to copy the whole array! \n",
    "    phi,phinew = phinew,phi\n",
    "t2 = time()\n",
    "\n",
    "print(\"\\nTotal running time: %.2f min\" % ((t2-t1)/60))\n",
    "print(\"Code speed: %.1f iterations per second\" %(len(delta_max_list)/(t2-t1)))\n",
    "\n",
    "answer_13_1a_1 = phi.copy()\n",
    "answer_13_1a_2 = delta_max_list.copy()"
   ]
  },
  {
   "cell_type": "code",
   "execution_count": null,
   "id": "09dbe8c3",
   "metadata": {},
   "outputs": [],
   "source": [
    "question = \"answer_13_1a\"\n",
    "num = 2\n",
    "\n",
    "to_check = [question + \"_%d\" % (n+1) for n in range(num)]\n",
    "feedback = \"\"\n",
    "passed = True\n",
    "for var in to_check:\n",
    "    res, msg = check_answer(eval(var), var)\n",
    "    passed = passed and res\n",
    "    print(msg); feedback += msg + \"n\"\n",
    "\n",
    "assert passed == True, feedback"
   ]
  },
  {
   "cell_type": "markdown",
   "id": "a27d6dd3",
   "metadata": {
    "lines_to_next_cell": 0
   },
   "source": [
    "**Solution:**"
   ]
  },
  {
   "cell_type": "code",
   "execution_count": null,
   "id": "bb22bb8f",
   "metadata": {
    "lines_to_next_cell": 2,
    "tags": [
     "hide-input"
    ]
   },
   "outputs": [],
   "source": [
    "target_accuracy = 1e-4\n",
    "\n",
    "# The size of the simulation grid\n",
    "M = 101\n",
    "phi = np.zeros([M,M])\n",
    "phi[-1,1:-1] = 1\n",
    "\n",
    "# A second matrix for storing the values calculated for the next\n",
    "# iteration\n",
    "phinew = phi.copy()\n",
    "\n",
    "# A matrix to keep track of which points in our simulation \n",
    "# are fixed voltages. In this case, it is only the boundaries\n",
    "# of the simulation\n",
    "fixed = np.empty([M,M]) \n",
    "fixed[:,:] = False # interior points are not fixed, they should be iterated\n",
    "fixed[0,:] = True\n",
    "fixed[-1,:] = True\n",
    "fixed[:,0] = True\n",
    "fixed[:,-1] = True\n",
    "\n",
    "# Keep track of the biggest update. \n",
    "# When this is smaller than our target accuracy, \n",
    "# we will stop iterating\n",
    "delta_max = 1\n",
    "delta_max_list = []\n",
    "\n",
    "t1 = time()\n",
    "while delta_max > target_accuracy:\n",
    "    for i in range(M):\n",
    "        for j in range(M):\n",
    "            if fixed[i,j]:\n",
    "                #phinew[i,j] = ...\n",
    "                ### BEGIN SOLUTION\n",
    "                phinew[i,j] = phi[i,j]\n",
    "                ### END SOLUTION\n",
    "            else:\n",
    "                #phinew[i,j] = ....\n",
    "                ### BEGIN SOLUTION\n",
    "                phinew[i,j] = (phi[i+1,j] + phi[i-1,j] + phi[i,j+1] + phi[i,j-1])/4\n",
    "                ### END SOLUTION\n",
    "    #delta_max =....\n",
    "    ### BEGIN SOLUTION\n",
    "    delta_max = np.max(np.abs(phinew-phi))\n",
    "    ### END SOLUTION\n",
    "    delta_max_list.append(delta_max)\n",
    "    print(\"N_iter %d delta_max %e\\r\" % (len(delta_max_list), delta_max), end='')\n",
    "    # Now that we're done, phi becomes phinew. A sneaky trick: if we swap the two, \n",
    "    # we don't need to copy the whole array! \n",
    "    phi,phinew = phinew,phi\n",
    "t2 = time()\n",
    "\n",
    "print(\"\\nTotal running time: %.2f min\" % ((t2-t1)/60))\n",
    "print(\"Code speed: %.1f iterations per second\" %(len(delta_max_list)/(t2-t1)))\n",
    "\n",
    "answer_13_1a_1 = phi.copy()\n",
    "answer_13_1a_2 = delta_max_list.copy()"
   ]
  },
  {
   "cell_type": "markdown",
   "id": "dc38618b",
   "metadata": {},
   "source": [
    "To explore your data, you can use this function to make a handy interactive \"data explorer\" that I wrote (see code in `./explore_image.py` if you are interested) that can show you both color scale plots and also line cuts. \n",
    "\n",
    "Now let's use this function to explore the $\\phi$ that you calculated:"
   ]
  },
  {
   "cell_type": "code",
   "execution_count": null,
   "id": "0ec3a173",
   "metadata": {
    "nbgrader": {
     "grade": false,
     "grade_id": "cell-2d41400e07d503c1",
     "locked": true,
     "schema_version": 3,
     "solution": false,
     "task": false
    }
   },
   "outputs": [],
   "source": [
    "explore_image(answer_13_1a_1)"
   ]
  },
  {
   "cell_type": "markdown",
   "id": "cb5b25b6",
   "metadata": {},
   "source": [
    "**Exercise 1(b):** Make a plot of `delta_max` as a function of the iteration number. The y-axis should be a log scale. As always, your plot should have appropriate labels with units where applicable."
   ]
  },
  {
   "cell_type": "code",
   "execution_count": null,
   "id": "f791981c",
   "metadata": {},
   "outputs": [],
   "source": [
    "# Your code here:"
   ]
  },
  {
   "cell_type": "markdown",
   "id": "21113e46",
   "metadata": {
    "lines_to_next_cell": 0
   },
   "source": [
    "**Solution:**"
   ]
  },
  {
   "cell_type": "code",
   "execution_count": null,
   "id": "f011637c",
   "metadata": {
    "tags": [
     "hide-input"
    ]
   },
   "outputs": [],
   "source": [
    "### BEGIN SOLUTION\n",
    "plt.plot(answer_13_1a_2)\n",
    "plt.yscale('log')\n",
    "plt.ylabel(\"$\\Delta \\phi_{max}$ (V)\")\n",
    "plt.xlabel(\"Iteration number\")\n",
    "plt.show()\n",
    "### END SOLUTION"
   ]
  },
  {
   "cell_type": "markdown",
   "id": "824b6ae6",
   "metadata": {},
   "source": [
    "## Gauss-Seidel method\n",
    "\n",
    "A speedup of the Jacobi method can be obtained by using the _already updated_ calculated values of $\\phi$ instead of waiting for the next round. \n",
    "\n",
    "For doing this, we have to have a different way of keeping track of `delta_max` than we used above, and so the code will look a bit different. A handy (and computationally efficient) way of doing this in python is to keep track of all the `delta` in a matrix and then us `np.max(np.abs(delta))` to find the largest one afterwards.\n",
    "\n",
    "(You might think: I could add an `if` statement in my loop to keep track of `delta_max`: why do I need a full matrix? This is what I initially thought too but it turns out that this slows your code down a lot and you're much faster just keeping the full matrix and using `np.max()` at the end. Why? Python is an interpreted language, which means adding anything to a hand-coded loop is just a really, really bad idea if you don't have to. Because `np.max()` does the calculation with \"vectorized\": it runs with pre-compiled, and not interpreted, loops. We saw this in the first lecture with the 700-fold speed improvement of `np.average` compared to writing our own `for` loop to calculate the average of a vector.)\n",
    "\n",
    "**Exercise 2(a)** Perform the calculation of exercise 1(a) with the Gauss-Seidel method."
   ]
  },
  {
   "cell_type": "code",
   "execution_count": null,
   "id": "398627ae",
   "metadata": {},
   "outputs": [],
   "source": [
    "target_accuracy = 1e-4\n",
    "\n",
    "M = 101\n",
    "phi = np.zeros([M,M])\n",
    "delta = phi.copy()\n",
    "phi[-1,1:-1] = 1\n",
    "\n",
    "# A matrix to keep track of which points in our simulation \n",
    "# are fixed voltages. In this case, it is only the boundaries\n",
    "# of the simulation\n",
    "fixed = np.empty([M,M])\n",
    "fixed[:,:] = False\n",
    "fixed[0,:] = True\n",
    "fixed[-1,:] = True\n",
    "fixed[:,0] = True\n",
    "fixed[:,-1] = True\n",
    "\n",
    "\n",
    "# Keep track of the biggest update. \n",
    "# When this is smaller than our target accuracy, \n",
    "# we will stop iterating\n",
    "delta_max = 1\n",
    "delta_max_list = []\n",
    "\n",
    "t1 = time()\n",
    "while delta_max > target_accuracy:\n",
    "    for i in range(M):\n",
    "        for j in range(M):\n",
    "            if not fixed[i,j]:\n",
    "                #delta[i,j] = ...\n",
    "                #...\n",
    "    delta_max = np.max(np.abs(delta))\n",
    "    delta_max_list.append(delta_max)\n",
    "    print(\"N_iter %d delta_max %e\\r\" % (len(delta_max_list), delta_max), end='')   \n",
    "t2 = time()\n",
    "print(\"\\nTotal running time: %.2f min\" % ((t2-t1)/60))\n",
    "print(\"Code speed: %.1f iterations per second\" %(len(delta_max_list)/(t2-t1)))\n",
    "\n",
    "answer_13_2a_1 = phi.copy()\n",
    "answer_13_2a_2 = delta_max_list.copy()"
   ]
  },
  {
   "cell_type": "code",
   "execution_count": null,
   "id": "6ae5ba7b",
   "metadata": {},
   "outputs": [],
   "source": [
    "question = \"answer_13_2a\"\n",
    "num = 2\n",
    "\n",
    "to_check = [question + \"_%d\" % (n+1) for n in range(num)]\n",
    "feedback = \"\"\n",
    "passed = True\n",
    "for var in to_check:\n",
    "    res, msg = check_answer(eval(var), var)\n",
    "    passed = passed and res\n",
    "    print(msg); feedback += msg + \"n\"\n",
    "\n",
    "assert passed == True, feedback"
   ]
  },
  {
   "cell_type": "markdown",
   "id": "00a7bbda",
   "metadata": {
    "lines_to_next_cell": 0
   },
   "source": [
    "**Solution:**"
   ]
  },
  {
   "cell_type": "code",
   "execution_count": null,
   "id": "c81b0e5e",
   "metadata": {
    "lines_to_next_cell": 2,
    "tags": [
     "hide-input"
    ]
   },
   "outputs": [],
   "source": [
    "target_accuracy = 1e-4\n",
    "\n",
    "M = 101\n",
    "phi = np.zeros([M,M])\n",
    "delta = phi.copy()\n",
    "phi[-1,1:-1] = 1\n",
    "\n",
    "# A matrix to keep track of which points in our simulation \n",
    "# are fixed voltages. In this case, it is only the boundaries\n",
    "# of the simulation\n",
    "fixed = np.empty([M,M])\n",
    "fixed[:,:] = False\n",
    "fixed[0,:] = True\n",
    "fixed[-1,:] = True\n",
    "fixed[:,0] = True\n",
    "fixed[:,-1] = True\n",
    "\n",
    "\n",
    "# Keep track of the biggest update. \n",
    "# When this is smaller than our target accuracy, \n",
    "# we will stop iterating\n",
    "delta_max = 1\n",
    "delta_max_list = []\n",
    "\n",
    "t1 = time()\n",
    "while delta_max > target_accuracy:\n",
    "    for i in range(M):\n",
    "        for j in range(M):\n",
    "            if not fixed[i,j]:\n",
    "                #delta[i,j] = ...\n",
    "                #...\n",
    "                ### BEGIN SOLUTION\n",
    "                delta[i,j] = (phi[i+1,j] + phi[i-1,j] + phi[i,j+1] + phi[i,j-1])/4 - phi[i,j]\n",
    "                phi[i,j] += delta[i,j]\n",
    "                ### END SOLUTION\n",
    "    delta_max = np.max(np.abs(delta))\n",
    "    delta_max_list.append(delta_max)\n",
    "    print(\"N_iter %d delta_max %e\\r\" % (len(delta_max_list), delta_max), end='')   \n",
    "t2 = time()\n",
    "print(\"\\nTotal running time: %.2f min\" % ((t2-t1)/60))\n",
    "print(\"Code speed: %.1f iterations per second\" %(len(delta_max_list)/(t2-t1)))\n",
    "\n",
    "answer_13_2a_1 = phi.copy()\n",
    "answer_13_2a_2 = delta_max_list.copy()"
   ]
  },
  {
   "cell_type": "markdown",
   "id": "27540d9a",
   "metadata": {},
   "source": [
    "You can check that it looks the same:"
   ]
  },
  {
   "cell_type": "code",
   "execution_count": null,
   "id": "1ba4a686",
   "metadata": {
    "nbgrader": {
     "grade": false,
     "grade_id": "cell-1bf7a18ed109d0e1",
     "locked": true,
     "schema_version": 3,
     "solution": false,
     "task": false
    }
   },
   "outputs": [],
   "source": [
    "# Notebook code\n",
    "explore_image(answer_13_2a_1)"
   ]
  },
  {
   "cell_type": "markdown",
   "id": "2d7fd491",
   "metadata": {},
   "source": [
    "Although the code is not that much faster in total time (because of the slightly more complicated stuff going on in the `for` loops), it converges in fewer iterations.\n",
    "\n",
    "**Exercise 2(b):** Plot `delta_max` vs iteration number for both the Jacobi method and the Gauss-Seidel method. Use a logscale for the y-axis. "
   ]
  },
  {
   "cell_type": "code",
   "execution_count": null,
   "id": "090612e9",
   "metadata": {},
   "outputs": [],
   "source": [
    "# Your code here:"
   ]
  },
  {
   "cell_type": "markdown",
   "id": "68e5d896",
   "metadata": {
    "lines_to_next_cell": 0
   },
   "source": [
    "**Solution:**"
   ]
  },
  {
   "cell_type": "code",
   "execution_count": null,
   "id": "625d855d",
   "metadata": {
    "tags": [
     "hide-input"
    ]
   },
   "outputs": [],
   "source": [
    "### BEGIN SOLUTION\n",
    "plt.plot(answer_13_1a_2, label=\"Jacobi\")\n",
    "plt.plot(answer_13_2a_2, label=\"Gauss-Seidel\")\n",
    "plt.yscale('log')\n",
    "plt.ylabel(\"$\\Delta \\phi_{max}$ (V)\")\n",
    "plt.xlabel(\"Iteration number\")\n",
    "plt.legend()\n",
    "plt.show()\n",
    "### END SOLUTION"
   ]
  },
  {
   "cell_type": "markdown",
   "id": "eff36470",
   "metadata": {},
   "source": [
    "## Successive over-relaxation\n",
    "\n",
    "Although we did not gain much speed with the Gauss-Seidel technique, there is a small trick we can play with it to make it MASSIVELY faster.\n",
    "\n",
    "The trick is as follows: instead of correcting `phi` to the value that would solve the equation based on it's neighboring values, we go *a bit* further: \n",
    "\n",
    "$$\n",
    "\\phi_{new}(x,y) = \\phi_{old}(x,y) + \\omega \\delta\n",
    "$$\n",
    "\n",
    "where $\\delta$ is the correction that you would have calculated in the Gauss-Seidel method and $\\omega$ is a number between 0 and 2. With $\\omega > 1$, this technique is known as successive over-relaxation (SOR). It turns out, if you pick the right $\\omega$, you simulation can run MUCH MUCH faster. \n",
    "\n",
    "Picking the optimal value of $\\omega$ is not easy, and depends in detail on the size and even configuration of your simulation. The Gauss-Seidel method corresponds to $\\omega = 1$. For $\\omega > 2$, the method does not converge (it is unstable). And, for nonlinear Poisson equations (in which $\\rho$ depends on $\\phi$ in a nonlinear way, which I studied in my PhD), under-relaxing with $\\omega < 1$ can help unstable simulations converge. In general, for regular linear PDEs and large simulations, a value close to 2 is a good guess, and guessing a bit high is better than guessing to low. But even if you guess a bit wrong, it still can speed up your simulation very significantly.\n",
    "\n",
    "(In particular, it can change the scaling with simulation size from $N^2$ to $N^{1.5}$, which is a huge deal! You can read chapter 5 of my <a href=http://nsweb.tn.tudelft.nl/~gsteele/thesis/Gary_Steele.compressed_images.pdf>PhD thesis</a> if you would like to learn some more about the speed and applications of relaxation technique.)\n",
    "\n",
    "As you will see, even for these small simulation sizes, it can significantly speed up the calculation.\n",
    "\n",
    "**Exercise 3(a):** Modify your code from 2(a) to implement SOR. Use an SOR paramter of 1.95 (which I found worked well by trail-and-error...). "
   ]
  },
  {
   "cell_type": "code",
   "execution_count": null,
   "id": "2ebd3d34",
   "metadata": {},
   "outputs": [],
   "source": [
    "SOR_parameter = 1.95\n",
    "target_accuracy = 1e-4\n",
    "\n",
    "# phi = ...\n",
    "# delta_max_list = ...\n",
    "\n",
    "print(\"\\nTotal running time: %.2f min\" % ((t2-t1)/60))\n",
    "print(\"Code speed: %.1f iterations per second\" %(len(delta_max_list)/(t2-t1)))\n",
    "\n",
    "answer_13_3a_1 = phi.copy()\n",
    "answer_13_3a_2 = delta_max_list.copy()"
   ]
  },
  {
   "cell_type": "code",
   "execution_count": null,
   "id": "bc1bfa44",
   "metadata": {},
   "outputs": [],
   "source": [
    "question = \"answer_13_3a\"\n",
    "num = 2\n",
    "\n",
    "to_check = [question + \"_%d\" % (n+1) for n in range(num)]\n",
    "feedback = \"\"\n",
    "passed = True\n",
    "for var in to_check:\n",
    "    res, msg = check_answer(eval(var), var)\n",
    "    passed = passed and res\n",
    "    print(msg); feedback += msg + \"n\"\n",
    "\n",
    "assert passed == True, feedback"
   ]
  },
  {
   "cell_type": "markdown",
   "id": "b2951000",
   "metadata": {
    "lines_to_next_cell": 0
   },
   "source": [
    "**Solution:**"
   ]
  },
  {
   "cell_type": "code",
   "execution_count": null,
   "id": "16908eec",
   "metadata": {
    "lines_to_next_cell": 2,
    "tags": [
     "hide-input"
    ]
   },
   "outputs": [],
   "source": [
    "SOR_parameter = 1.95\n",
    "target_accuracy = 1e-4\n",
    "\n",
    "### BEGIN SOLUTION\n",
    "M = 101\n",
    "phi = np.zeros([M,M])\n",
    "delta = phi.copy()\n",
    "phi[-1,1:-1] = 1\n",
    "\n",
    "# A matrix to keep track of which points in our simulation \n",
    "# are fixed voltages. In this case, it is only the boundaries\n",
    "# of the simulation\n",
    "fixed = np.empty([M,M])\n",
    "fixed[:,:] = False\n",
    "fixed[0,:] = True\n",
    "fixed[-1,:] = True\n",
    "fixed[:,0] = True\n",
    "fixed[:,-1] = True\n",
    "\n",
    "\n",
    "# Keep track of the biggest update. \n",
    "# When this is smaller than our target accuracy, \n",
    "# we will stop iterating\n",
    "delta_max = 1\n",
    "delta_max_list = []\n",
    "\n",
    "t1 = time()\n",
    "while delta_max > target_accuracy:\n",
    "    for i in range(M):\n",
    "        for j in range(M):\n",
    "            if not fixed[i,j]:\n",
    "                delta[i,j] = (phi[i+1,j] + phi[i-1,j] + phi[i,j+1] + phi[i,j-1])/4 - phi[i,j]\n",
    "                phi[i,j] += SOR_parameter*delta[i,j]\n",
    "    delta_max = np.max(np.abs(delta))\n",
    "    delta_max_list.append(delta_max)\n",
    "    print(\"N_iter %d delta_max %e\\r\" % (len(delta_max_list), delta_max), end='')\n",
    "\n",
    "t2 = time()\n",
    "### END SOLUTION\n",
    "\n",
    "print(\"\\nTotal running time: %.2f min\" % ((t2-t1)/60))\n",
    "print(\"Code speed: %.1f iterations per second\" %(len(delta_max_list)/(t2-t1)))\n",
    "\n",
    "answer_13_3a_1 = phi.copy()\n",
    "answer_13_3a_2 = delta_max_list.copy()"
   ]
  },
  {
   "cell_type": "markdown",
   "id": "4e80c18a",
   "metadata": {},
   "source": [
    "By now, I guess you trust that the technique works, but you can also take a look at $\\phi$ just to check if you want:"
   ]
  },
  {
   "cell_type": "code",
   "execution_count": null,
   "id": "d20a10e9",
   "metadata": {
    "nbgrader": {
     "grade": false,
     "grade_id": "cell-dba7aebb72d944a5",
     "locked": true,
     "schema_version": 3,
     "solution": false,
     "task": false
    }
   },
   "outputs": [],
   "source": [
    "# Notebook code \n",
    "explore_image(answer_13_3a_1)"
   ]
  },
  {
   "cell_type": "markdown",
   "id": "6e5242d4",
   "metadata": {},
   "source": [
    "**Exercise 3(b):** Make a plot of `delta_max` vs iteration number for the three techniques. "
   ]
  },
  {
   "cell_type": "code",
   "execution_count": null,
   "id": "0af49848",
   "metadata": {},
   "outputs": [],
   "source": [
    "# Your code here:"
   ]
  },
  {
   "cell_type": "markdown",
   "id": "4a60d9fe",
   "metadata": {
    "lines_to_next_cell": 0
   },
   "source": [
    "**Solution:**"
   ]
  },
  {
   "cell_type": "code",
   "execution_count": null,
   "id": "4bdecc3d",
   "metadata": {
    "tags": [
     "hide-input"
    ]
   },
   "outputs": [],
   "source": [
    "### BEGIN SOLUTION\n",
    "plt.plot(answer_13_1a_2, label=\"Jacobi\")\n",
    "plt.plot(answer_13_2a_2, label=\"Gauss-Seidel\")\n",
    "plt.plot(answer_13_3a_2, label=\"SOR\")\n",
    "plt.yscale('log')\n",
    "plt.ylabel(\"$\\Delta \\phi_{max}$ (V)\")\n",
    "plt.xlabel(\"Iteration number\")\n",
    "plt.legend()\n",
    "plt.show()\n",
    "### END SOLUTION"
   ]
  },
  {
   "cell_type": "markdown",
   "id": "fef00de2",
   "metadata": {},
   "source": [
    "Note that SOR initially is slower than the other two techniques (and sometimes the convergence parameter can even INCREASE at the start with SOR), but it quickly overtakes the other two and converges very quickly to the correct answer. \n",
    "\n",
    "## Including fixed charges\n",
    "\n",
    "In some cases, one might want to simulate the case where there are external fixed charges in our simulation.\n",
    "\n",
    "To do this, we need to add an additional term to our update equations to account for the external charge. In the Jacobi method, we would have:\n",
    "\n",
    "$$\n",
    "\\phi_{N+1}(x,y) = \n",
    "\\frac{\\phi_N(x+a,y) + \n",
    "\\phi_N(x-a,y) + \n",
    "\\phi_N(x,y+a) + \n",
    "\\phi_N(x,y-a) + \\rho(x,y)}{4}\n",
    "$$\n",
    "\n",
    "Note that we will work in \"dimensionless units\", or equivalently units in which I have chosen $\\epsilon = 1$. This will make it easier to code the problem. You might ask, but what if I want to map the solutions I find to a real charge distribution? Fortunately, the Poisson equation is linear, and so we can always afterwards rescale our calculated results with the appropriately chosen factors to be able to calculate charges in Coulombs and electrostatic potentials in Volts. But we will keep it simple and do the calculation in dimensionless units. \n",
    "\n",
    "Note that now that externally imposed charge $\\rho$ is not zero, one needs to now account for the lattice spacing correctly to calculate the correct potential to achieve the correct values of the source charges. \n",
    "\n",
    "For implementing SOR, we would then follow the Gauss-Seidel approach for the updating of $\\phi$ and also over-relax.\n",
    "\n",
    "In our simulation, we will also now need an additional matrix `rho` to specify the positions of fixed charge densities in the simulation.\n",
    "\n",
    "**Exercise 4(a):** Peform a simulation of a 2d \"point source\" consisting of a single pixel at position `i,j = 50,50` with charge `rho = 1`. (Note that our \"point source\" 2D simulation actually corresponds to the voltage around a thin, infinitely long wire.) Use the metallic boundary condition V=0 at the boundaries. \n",
    "\n",
    "To match the numerical answer values of the reference solution, use SOR with an SOR parameter of 1.95. "
   ]
  },
  {
   "cell_type": "code",
   "execution_count": null,
   "id": "149da34c",
   "metadata": {},
   "outputs": [],
   "source": [
    "target_accuracy = 1e-4\n",
    "M = 101\n",
    "SOR_parameter = 1.95\n",
    "\n",
    "# Our fixed charge input matrix\n",
    "rho_fixed = np.zeros([M,M])\n",
    "rho_fixed[M//2,M//2] = 1\n",
    "\n",
    "# phi = ...\n",
    "\n",
    "answer_13_4a_1 = phi.copy()\n",
    "answer_13_4a_2 = rho_fixed.copy()"
   ]
  },
  {
   "cell_type": "code",
   "execution_count": null,
   "id": "406cba80",
   "metadata": {},
   "outputs": [],
   "source": [
    "question = \"answer_13_4a\"\n",
    "num = 2\n",
    "\n",
    "to_check = [question + \"_%d\" % (n+1) for n in range(num)]\n",
    "feedback = \"\"\n",
    "passed = True\n",
    "for var in to_check:\n",
    "    res, msg = check_answer(eval(var), var)\n",
    "    passed = passed and res\n",
    "    print(msg); feedback += msg + \"n\"\n",
    "\n",
    "assert passed == True, feedback"
   ]
  },
  {
   "cell_type": "markdown",
   "id": "baf9c809",
   "metadata": {
    "lines_to_next_cell": 0
   },
   "source": [
    "**Solution:**"
   ]
  },
  {
   "cell_type": "code",
   "execution_count": null,
   "id": "450585e4",
   "metadata": {
    "lines_to_next_cell": 2,
    "tags": [
     "hide-input"
    ]
   },
   "outputs": [],
   "source": [
    "target_accuracy = 1e-4\n",
    "M = 101\n",
    "SOR_parameter = 1.95\n",
    "\n",
    "# Our fixed charge input matrix\n",
    "rho_fixed = np.zeros([M,M])\n",
    "rho_fixed[M//2,M//2] = 1\n",
    "\n",
    "### BEGIN SOLUTION\n",
    "phi = np.zeros([M,M])\n",
    "delta = phi.copy()\n",
    "\n",
    "# A matrix to keep track of which points in our simulation \n",
    "# are fixed voltages. In this case, it is only the boundaries\n",
    "# of the simulation\n",
    "fixed = np.zeros([M,M])\n",
    "fixed[:,:] = False\n",
    "fixed[[0,-1],:] = True\n",
    "fixed[:,[0,-1]] = True\n",
    "\n",
    "delta_max = 1\n",
    "delta_max_list = []\n",
    "\n",
    "t1 = time()\n",
    "\n",
    "while delta_max > target_accuracy:\n",
    "    for i in range(M):\n",
    "        for j in range(M):\n",
    "            if not fixed[i,j]:\n",
    "                delta[i,j] = (phi[i+1,j] + phi[i-1,j] + phi[i,j+1] + phi[i,j-1])/4 \\\n",
    "                    + rho_fixed[i,j]/4 - phi[i,j]\n",
    "                phi[i,j] += delta[i,j]*SOR_parameter\n",
    "    delta_max = np.max(np.abs(delta))\n",
    "    delta_max_list.append(delta_max)\n",
    "    print(\"N_iter %d delta_max %e\\r\" % (len(delta_max_list), delta_max), end='')\n",
    "\n",
    "t2 = time()\n",
    "print(\"\\nTotal running time: %.2f min\" % ((t2-t1)/60))\n",
    "print(\"Code speed: %.1f iterations per second\" %(len(delta_max_list)/(t2-t1)))\n",
    "### END SOLUTION\n",
    "\n",
    "answer_13_4a_1 = phi.copy()\n",
    "answer_13_4a_2 = rho_fixed.copy()"
   ]
  },
  {
   "cell_type": "code",
   "execution_count": null,
   "id": "d4328f38",
   "metadata": {
    "nbgrader": {
     "grade": false,
     "grade_id": "cell-6ac9674a29b3cb7b",
     "locked": true,
     "schema_version": 3,
     "solution": false,
     "task": false
    }
   },
   "outputs": [],
   "source": [
    "# Notebook code\n",
    "explore_image(answer_13_4a_1)"
   ]
  },
  {
   "cell_type": "markdown",
   "id": "da0253a2",
   "metadata": {},
   "source": [
    "## Calculating charge distributions\n",
    "\n",
    "In all of the above simulations, even ones with external charge $\\rho=0$, there was charge present in the resulting calculated physical problem. How do I know this? If there is no charge, there will be no change in potential. OK, but where is this charge? \n",
    "\n",
    "With the exception of the last simulation, the charge in the simulation was _induced_ charge that formed due to the voltage on the applied to the metals boundaries. \n",
    "\n",
    "Even in the last simulation of exercise 4, where there is very clearly charge in the middle of the simulation where we placed the fixed  charge, there is also charge induced on the boundary walls: the image charge induced by the electrical fields from the point charge we added in the middle. \n",
    "\n",
    "How do we calculate this charge? Well, if we know $\\phi(x,y)$, we can just use the Poisson equation:\n",
    "\n",
    "$$\n",
    "\\rho(x,y) = \\nabla^2 \\phi(x,y)\n",
    "$$\n",
    "\n",
    "where numerically, we use the following to calculate $\\nabla^2 \\phi$:\n",
    "\n",
    "$$\n",
    "\\frac{\\partial^2\\phi}{\\partial x^2} +\n",
    "\\frac{\\partial^2\\phi}{\\partial y^2} \\approx \n",
    "\\frac{\n",
    "\\phi(x+a,y) + \n",
    "\\phi(x-a,y) + \n",
    "\\phi(x,y+a) + \n",
    "\\phi(x,y-a) -\n",
    "4 \\phi(x,y)}\n",
    "{a^2}\n",
    "$$\n",
    "\n",
    "A subtle point arises at the boundary: for the outer boundary points, don't have neighbors. For example, a point on the left of the simulation has no point at $x-a$. \n",
    "\n",
    "What do I do? One could add special code for calculating the charge for these boundary conditions, but this would be a lot of cumbersome work. \n",
    "\n",
    "A very simple and pragmatic way around this for the \"metallic\" boundary condition is just to add an extra grid point: make the boundaries two grid points thick. Since the induced charge in a (non-quantum-mechanical) metal is a perfect surface layer, we know that these \"extra\" boundary points must have zero charge. We can then just set them all to zero, and then use the Poisson equation above to calculate the charge density everywhere, just skipping the outermost pixels. \n",
    "\n",
    "Let's implement this for the problem of exercise 4.\n",
    "\n",
    "**Exercise 5(a):** Implement exercise 4(a) with an extra boundary grid point on all sides. "
   ]
  },
  {
   "cell_type": "code",
   "execution_count": null,
   "id": "628a91e0",
   "metadata": {},
   "outputs": [],
   "source": [
    "target_accuracy = 1e-4\n",
    "M = 103\n",
    "\n",
    "phi = np.zeros([M,M])\n",
    "delta = phi.copy()\n",
    "\n",
    "# A matrix to keep track of which points in our simulation \n",
    "# are fixed voltages. In this case, it is only the boundaries\n",
    "# of the simulation\n",
    "fixed = np.zeros([M,M])\n",
    "fixed[:,:] = False\n",
    "# fixed[[___,___,___,___],:] = True\n",
    "# fixed[:,[___,___,___,___]] = True\n",
    "\n",
    "\n",
    "# The external fixed charge\n",
    "rho_fixed = np.zeros([M,M])\n",
    "# rho_fixed[___,___] = 1\n",
    "\n",
    "# ...\n",
    "\n",
    "\n",
    "answer_13_5a_1 = rho_fixed.copy()\n",
    "answer_13_5a_2 = phi.copy()"
   ]
  },
  {
   "cell_type": "code",
   "execution_count": null,
   "id": "c15ec299",
   "metadata": {},
   "outputs": [],
   "source": [
    "question = \"answer_13_5a\"\n",
    "num = 2\n",
    "\n",
    "to_check = [question + \"_%d\" % (n+1) for n in range(num)]\n",
    "feedback = \"\"\n",
    "passed = True\n",
    "for var in to_check:\n",
    "    res, msg = check_answer(eval(var), var)\n",
    "    passed = passed and res\n",
    "    print(msg); feedback += msg + \"n\"\n",
    "\n",
    "assert passed == True, feedback"
   ]
  },
  {
   "cell_type": "markdown",
   "id": "04fdb921",
   "metadata": {
    "lines_to_next_cell": 0
   },
   "source": [
    "**Solution:**"
   ]
  },
  {
   "cell_type": "code",
   "execution_count": null,
   "id": "fee28e2b",
   "metadata": {
    "lines_to_next_cell": 2,
    "tags": [
     "hide-input"
    ]
   },
   "outputs": [],
   "source": [
    "target_accuracy = 1e-4\n",
    "M = 103\n",
    "\n",
    "phi = np.zeros([M,M])\n",
    "delta = phi.copy()\n",
    "\n",
    "# A matrix to keep track of which points in our simulation \n",
    "# are fixed voltages. In this case, it is only the boundaries\n",
    "# of the simulation\n",
    "fixed = np.zeros([M,M])\n",
    "fixed[:,:] = False\n",
    "# fixed[[___,___,___,___],:] = True\n",
    "# fixed[:,[___,___,___,___]] = True\n",
    "### BEGIN SOLUTION\n",
    "fixed[[0,1,-1,-2],:] = True\n",
    "fixed[:,[0,1,-1,-2]] = True\n",
    "### END SOLUTION\n",
    "\n",
    "\n",
    "# The external fixed charge\n",
    "rho_fixed = np.zeros([M,M])\n",
    "# rho_fixed[___,___] = 1\n",
    "### BEGIN SOLUTION\n",
    "rho_fixed[M//2,M//2] = 1\n",
    "### END SOLUTION\n",
    "\n",
    "# ...\n",
    "### BEGIN SOLUTION\n",
    "# Keep track of the biggest update. \n",
    "# When this is smaller than our target accuracy, \n",
    "# we will stop iterating\n",
    "delta_max = 1\n",
    "delta_max_list = []\n",
    "\n",
    "t1 = time()\n",
    "SOR_parameter = 1.95\n",
    "\n",
    "while delta_max > target_accuracy:\n",
    "    for i in range(M):\n",
    "        for j in range(M):\n",
    "            if not fixed[i,j]:\n",
    "                delta[i,j] = (phi[i+1,j] + phi[i-1,j] + phi[i,j+1] + phi[i,j-1])/4 \\\n",
    "                    + rho_fixed[i,j]/4 - phi[i,j]\n",
    "                phi[i,j] += delta[i,j]*SOR_parameter\n",
    "    delta_max = np.max(np.abs(delta))\n",
    "    delta_max_list.append(delta_max)\n",
    "    print(\"N_iter %d delta_max %e\\r\" % (len(delta_max_list), delta_max), end='')\n",
    "\n",
    "t2 = time()\n",
    "print(\"\\nTotal running time: %.2f min\" % ((t2-t1)/60))\n",
    "print(\"Code speed: %.1f iterations per second\" %(len(delta_max_list)/(t2-t1)))\n",
    "### END SOLUTION\n",
    "\n",
    "\n",
    "answer_13_5a_1 = rho_fixed.copy()\n",
    "answer_13_5a_2 = phi.copy()"
   ]
  },
  {
   "cell_type": "markdown",
   "id": "998e5c7a",
   "metadata": {},
   "source": [
    "Now that we have the calculated potential with the \"extra boundary\" point, we can calculate the charge density in our simulation, including the charge density induced on the boundary walls, by using the equation below:\n",
    "\n",
    "$$\n",
    "\\rho(x,y) = \n",
    "\\Big( \n",
    "\\phi(x+a,y) + \n",
    "\\phi(x-a,y) + \n",
    "\\phi(x,y+a) + \n",
    "\\phi(x,y-a) -\n",
    "4 \\phi(x,y)\n",
    "\\Big)\n",
    "$$\n",
    "\n",
    "Note that you can only apply this formula to the \"interior\" points of the simulation: for the \"boundary points\" at the edges of the simulation, you have no neighbors to fill in this equation! This leads to a problem: the matrix we will calculate for the charge density will be two pixels smaller in each direction (an MxM matrix for $\\phi$ becomes an (M-2)x(M-2) matrix for the calculated $\\sigma$). \n",
    "\n",
    "However, in the example above, we have been using a \"double pixel\" metal (fixed voltage, <a href=https://en.wikipedia.org/wiki/Dirichlet_boundary_condition>Dirichlet</a>)) boundary condition. In this case, we know that any electric fields from charges inside the simulation must be fully screened by the first metal pixel, and cannot induce any charge in the second layer of \"metal\" pixels behind them. Because of this, if we want to (and it is handy to, for example, for plotting), we can make the calculated $\\sigma$ matrix also MxM pixels and just set the outermost ones to zero. And if we create the matrix using `np.zeros` as below, then they already are zero, which is handy! \n",
    "\n",
    "**Exercise 5(b):** Calculate the (dimensionless) charge density for the simulation in question 5(a)."
   ]
  },
  {
   "cell_type": "code",
   "execution_count": null,
   "id": "03ed5263",
   "metadata": {},
   "outputs": [],
   "source": [
    "rho_calc = np.zeros([M,M])\n",
    "phi = answer_13_5a_2\n",
    "\n",
    "# ...\n",
    "\n",
    "answer_13_5b_1 = np.copy(rho_calc)"
   ]
  },
  {
   "cell_type": "code",
   "execution_count": null,
   "id": "59abb11f",
   "metadata": {},
   "outputs": [],
   "source": [
    "question = \"answer_13_5b\"\n",
    "num = 1\n",
    "\n",
    "to_check = [question + \"_%d\" % (n+1) for n in range(num)]\n",
    "feedback = \"\"\n",
    "passed = True\n",
    "for var in to_check:\n",
    "    res, msg = check_answer(eval(var), var)\n",
    "    passed = passed and res\n",
    "    print(msg); feedback += msg + \"n\"\n",
    "\n",
    "assert passed == True, feedback"
   ]
  },
  {
   "cell_type": "markdown",
   "id": "d33bb9ec",
   "metadata": {
    "lines_to_next_cell": 0
   },
   "source": [
    "**Solution:**"
   ]
  },
  {
   "cell_type": "code",
   "execution_count": null,
   "id": "30917e2a",
   "metadata": {
    "lines_to_next_cell": 2,
    "tags": [
     "hide-input"
    ]
   },
   "outputs": [],
   "source": [
    "rho_calc = np.zeros([M,M])\n",
    "phi = answer_13_5a_2\n",
    "### BEGIN SOLUTION\n",
    "for i in range(1,M-1):\n",
    "    for j in range(1,M-1):\n",
    "        rho_calc[i,j] = \\\n",
    "            (phi[i+1,j] + phi[i-1,j] + phi[i,j+1] + phi[i,j-1] - 4*phi[i,j])\n",
    "### END SOLUTION\n",
    "\n",
    "answer_13_5b_1 = np.copy(rho_calc)"
   ]
  },
  {
   "cell_type": "markdown",
   "id": "b36ed197",
   "metadata": {},
   "source": [
    "You can use this code to make a plot of the calculated surface charge density. I've chosen a range of the colorscale such that it is not overwhelmed by the large charge density of the point source. "
   ]
  },
  {
   "cell_type": "code",
   "execution_count": null,
   "id": "181f0ba3",
   "metadata": {
    "nbgrader": {
     "grade": false,
     "grade_id": "cell-9eef6df5a038beef",
     "locked": true,
     "schema_version": 3,
     "solution": false,
     "task": false
    }
   },
   "outputs": [],
   "source": [
    "plt.imshow(answer_13_5b_1, cmap=\"RdBu\")\n",
    "plt.colorbar()\n",
    "plt.clim(vmax=-np.min(answer_13_5b_1)-2e-6)"
   ]
  },
  {
   "cell_type": "markdown",
   "id": "78ce29a7",
   "metadata": {},
   "source": [
    "You can also \"explore\" the image here and look at some line cuts. It can be visualised better for this dataset if you plot the negative of the charge density. You can see the image charges on the edges if you adjust the \"color tweak\" setting to about 0.148. And also if you adjust \"linecut\" to 1 and turn on \"Autoscale linecut\". \n",
    "\n",
    "What strange thing do you see at \"linecut\" = 2 with \"Autoscale linecut\" on? If you look at the linecut, you should see that something is wrong. Can you spot it? And do you know where it comes from? And how to solve it? \n",
    "\n",
    "Post in the forum if you're stuck and would like the answer :)"
   ]
  },
  {
   "cell_type": "code",
   "execution_count": null,
   "id": "c9776760",
   "metadata": {
    "nbgrader": {
     "grade": false,
     "grade_id": "cell-e2494f2742ba74a9",
     "locked": false,
     "schema_version": 3,
     "solution": true,
     "task": false
    }
   },
   "outputs": [],
   "source": [
    "explore_image(-answer_13_5b_1,zname='$\\sigma$')"
   ]
  },
  {
   "cell_type": "markdown",
   "id": "7b9dd0f5",
   "metadata": {},
   "source": [
    "What do you expect the total charge to be in your simulation? Use `np.sum()` to check your answer. Compare this number to the external charge you put on the center pixel in the simulation. Does this make sense? How could you make it better? \n",
    "\n",
    "Again, post in the forum if you're not sure :)"
   ]
  },
  {
   "cell_type": "code",
   "execution_count": null,
   "id": "74b330dd",
   "metadata": {
    "nbgrader": {
     "grade": false,
     "grade_id": "cell-194bee71f7eeee26",
     "locked": true,
     "schema_version": 3,
     "solution": false,
     "task": false
    }
   },
   "outputs": [],
   "source": [
    "np.sum(answer_13_5b_1)"
   ]
  },
  {
   "cell_type": "code",
   "execution_count": null,
   "id": "4960025c",
   "metadata": {
    "tags": [
     "auto-execute-page",
     "thebe-init",
     "hide-input"
    ]
   },
   "outputs": [],
   "source": [
    "## Pre-loading the solutions\n",
    "\n",
    "import sys\n",
    "await micropip.install(\"numpy\")\n",
    "from validate_answers import *\n",
    "\n",
    "with open(location):\n",
    "    pass # Initially this notebook does not recognise the file unless someone tries to read it first"
   ]
  }
 ],
 "metadata": {
  "jupytext": {
   "formats": "ipynb,md"
  },
  "kernelspec": {
   "display_name": "Python 3 (ipykernel)",
   "language": "python",
   "name": "python3"
  }
 },
 "nbformat": 4,
 "nbformat_minor": 5
}
