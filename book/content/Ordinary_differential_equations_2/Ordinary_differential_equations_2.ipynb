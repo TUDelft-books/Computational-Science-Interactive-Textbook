{
 "cells": [
  {
   "cell_type": "markdown",
   "id": "358e111b",
   "metadata": {},
   "source": [
    "# Ordinary Differential Equations Part 2\n",
    "\n",
    "In this lecture, we will explore applying the techniques for solving initial value problems that we learned in lecture 11. We will also learn how to use numerical integration of ODEs to solve boundary value problems.\n",
    "\n",
    "**Learning objectives:** After completing this lecture, you should be able to:\n",
    "\n",
    "1. Use numerical integration to find the steady-state of the driven damped Harmonic oscillator\n",
    "2. Solve boundary-value problems using the \"shooting method\"\n",
    "3. Use numerical integration to solve problems with nonlinear damping\n"
   ]
  },
  {
   "cell_type": "code",
   "execution_count": null,
   "id": "1007f601",
   "metadata": {
    "nbgrader": {
     "grade": false,
     "grade_id": "cell-58b9a41c0d368e48",
     "locked": true,
     "schema_version": 3,
     "solution": false,
     "task": false
    }
   },
   "outputs": [],
   "source": [
    "# Notebook code\n",
    "import numpy as np\n",
    "import matplotlib.pyplot as plt\n",
    "from scipy.integrate import solve_ivp\n",
    "from scipy.signal import find_peaks\n",
    "\n",
    "plt.rcParams['figure.dpi'] = 100"
   ]
  },
  {
   "cell_type": "markdown",
   "id": "582f282d",
   "metadata": {},
   "source": [
    "## The driven damped Harmonic oscillator\n",
    "\n",
    "The first physical problem we will be interested in simulating is the driven, damped Harmonic oscillator. \n",
    "\n",
    "The physics of a harmonic oscillator is described by the motion of a mass free to move in one dimension that is attached to a rigid wall by a spring that exerts a restoring force:\n",
    "\n",
    "$$ \n",
    "F_r = -kx\n",
    "$$\n",
    "\n",
    "In general, a mass will also experience a friction drag force proportional to and opposing its velocity:\n",
    "\n",
    "$$\n",
    "F_f = - c \\frac{dx}{dt}\n",
    "$$\n",
    "\n",
    "where $c$ is the friction coefficient. Including a time dependent external force $F_{e}(t)$ applied to the mass, the total force becomes:\n",
    "\n",
    "$$\n",
    "F_{tot} = - k x - c \\frac{dx}{dt} + F_0 \\cos \\omega t\n",
    "$$\n",
    "\n",
    "Using $F = ma$, we find the following second order differential equation for x:\n",
    "\n",
    "$$\n",
    "m \\frac{d^2x}{dt^2} + c\\frac{dx}{dt} + k x  = F_0 \\cos(\\omega t)\n",
    "$$\n",
    "\n",
    "For this equation, there is a <a href=https://en.wikipedia.org/wiki/Harmonic_oscillator#Steady-state_solution>steady-state solution</a> for $x(t)$ given by:\n",
    "\n",
    "$$\n",
    "x(t) = A(\\omega) \\cos \\left[ \\omega t + \\theta(\\omega) \\right] \n",
    "$$\n",
    "\n",
    "where $A(\\omega)$ and $\\theta(\\omega)$ are an amplitude and phase that depend on the driving frequency, and are given by:\n",
    "\n",
    "$$\n",
    "A(\\omega) & = & \\frac{F_0 / m}{\\sqrt{\\gamma^2 \\omega^2 + (\\omega^2 - \\omega_0^2)^2}} \\\\\n",
    "\\theta(\\omega) &=& \\arctan \\left( \\frac{\\omega \\gamma}{\\omega^2 - \\omega_0^2} \\right) - \\pi \n",
    "$$\n",
    "\n",
    "where $\\omega_0 = \\sqrt{k/m}$ is the natural frequency of the harmonic oscillator and $\\gamma = c/m$ is the damping rate.  \n",
    "\n",
    "In this problem, you will perform numerical integration of the driven damped Harmonic oscillator (DDHO) to find its steady-state response, and compare what you find to the analytical formulas above. \n",
    "\n",
    "We will consider the case of $m = 1$ kg, $k = 1$ N/m, $c = 0.1$ Ns/m, and $F_0 = 1$ N. \n",
    "\n",
    "**Exercise 1(a)** Consider the case in which the mass is at rest and is at position $x=0$ at $t=0$, and a driving force at frequency $w = w_0$. Use the `solve_ivp()` routine to calculate $x(t)$ for $t$ from 0 to 200 seconds with 1000 points. Make a plot of your solution and discuss if it behaves in the way that you would expect. "
   ]
  },
  {
   "cell_type": "code",
   "execution_count": null,
   "id": "28214465",
   "metadata": {},
   "outputs": [],
   "source": [
    "m = 1\n",
    "k = 1\n",
    "c = 0.1\n",
    "F0 = 1\n",
    "w = 1\n",
    "\n",
    "# I will chose y[0] = x and y[1] = v \n",
    "def dydt(t,y):\n",
    "    # ...\n",
    "\n",
    "T = 200\n",
    "N = 1000\n",
    "t = np.linspace(0,T,N)\n",
    "\n",
    "x0 = 0\n",
    "v0 = 0\n",
    "\n",
    "# sol = solve_ivp(....)\n",
    "# t = ...\n",
    "# x = ...\n",
    "\n",
    "# Now a plot\n",
    "\n",
    "answer_12_1a_1 = np.copy(x)"
   ]
  },
  {
   "cell_type": "code",
   "execution_count": null,
   "id": "840d4149",
   "metadata": {},
   "outputs": [],
   "source": [
    "question = \"answer_12_1a\"\n",
    "num = 1\n",
    "\n",
    "to_check = [question + \"_%d\" % (n+1) for n in range(num)]\n",
    "feedback = \"\"\n",
    "passed = True\n",
    "for var in to_check:\n",
    "    res, msg = check_answer(eval(var), var)\n",
    "    passed = passed and res\n",
    "    print(msg); feedback += msg + \"n\"\n",
    "\n",
    "assert passed == True, feedback"
   ]
  },
  {
   "cell_type": "markdown",
   "id": "702915d6",
   "metadata": {
    "lines_to_next_cell": 0
   },
   "source": [
    "**Solution:**"
   ]
  },
  {
   "cell_type": "code",
   "execution_count": null,
   "id": "18816757",
   "metadata": {
    "lines_to_next_cell": 2,
    "tags": [
     "hide-input"
    ]
   },
   "outputs": [],
   "source": [
    "m = 1\n",
    "k = 1\n",
    "c = 0.1\n",
    "F0 = 1\n",
    "w = 1\n",
    "\n",
    "# I will chose y[0] = x and y[1] = v \n",
    "def dydt(t,y):\n",
    "    ### BEGIN SOLUTION\n",
    "    x = y[0]\n",
    "    v = y[1]\n",
    "    return [v, -k*x/m - c*v/m + F0*np.cos(w*t)/m]\n",
    "    ### END SOLUTION\n",
    "\n",
    "T = 200\n",
    "N = 1000\n",
    "t = np.linspace(0,T,N)\n",
    "\n",
    "x0 = 0\n",
    "v0 = 0\n",
    "\n",
    "# sol = solve_ivp(....)\n",
    "# t = ...\n",
    "# x = ...\n",
    "### BEGIN SOLUTION\n",
    "sol = solve_ivp(dydt, (0,T), (x0,v0), t_eval=t)\n",
    "t = sol.t\n",
    "x = sol.y[0,:]\n",
    "### END SOLUTION\n",
    "\n",
    "# Now a plot\n",
    "### BEGIN SOLUTION\n",
    "plt.plot(t,x)\n",
    "plt.xlabel(\"t (s)\")\n",
    "plt.ylabel(\"x (m)\")\n",
    "### END SOLUTION\n",
    "\n",
    "answer_12_1a_1 = np.copy(x)"
   ]
  },
  {
   "cell_type": "markdown",
   "id": "66e837bb",
   "metadata": {},
   "source": [
    "If you've done things correctly, you should see an oscillating signal that grows in amplitude and then exponentially approaches a fixed amplitude for long times (this is referred to as the \"ring-up\" of the oscillator). At steady state, it looks like the signal is oscillating as we expect. Qualitatively, it looks good, but does it quantitatively agree with the analytical formulas from above for the steady state behaviour? \n",
    "\n",
    "If I want to check this, I need to extract the steady state response from the time trace above. How do I know after which time my simulated trace has reached steady-state? Technically, it only approaches steady state exponentially, so it will actually never completely reach steady-state in any case. \n",
    "\n",
    "For estimating the steady state amplitude, we could do this by calculating the height of the last maximum of the oscillations. \n",
    "\n",
    "**Exercise 1(b):** Find the steady state amplitude of the calculated time trace by finding the value of the amplitude of the last peak in the trace. For this, you can use the `find_peaks()` routine of `scipy`:\n",
    "\n",
    "https://docs.scipy.org/doc/scipy/reference/generated/scipy.signal.find_peaks.html\n",
    "\n",
    "to find all of the peaks of the oscillations. Make a plot of the peak values vs. time, and then extract an estimate of the steady state amplitude using the value of the last peak. \n",
    "\n",
    "Does it agree with the prediction of the analytical formulas above? To check this, create a function `amp(w, m, c, k, F0)` (with `w` as $\\omega$) to calculate the amplitude from the formula above. Use this to calculate the theoretically predicted amplitude based on the parameters you have used in the simulation.\n"
   ]
  },
  {
   "cell_type": "code",
   "execution_count": null,
   "id": "5b06a129",
   "metadata": {},
   "outputs": [],
   "source": [
    "def amp(w, m, c, k, F0):\n",
    "    # ...\n",
    "\n",
    "# peak_indices, _ = ....\n",
    "# t_p = ...\n",
    "# x_p = ...\n",
    "\n",
    "\n",
    "# A plot\n",
    "\n",
    "# Extract the calculated amplitude\n",
    "# amp_calc = ....\n",
    "\n",
    "\n",
    "# Calculate the theory prediction\n",
    "# amp_theory = ....\n",
    "\n",
    "print(\"Calculated steady state amplitude: \", amp_calc)\n",
    "print(\"Predicted steady state amplitude : \", amp_theory)\n",
    "\n",
    "answer_12_1b_1 = amp_calc\n",
    "answer_12_1b_2 = amp_theory"
   ]
  },
  {
   "cell_type": "code",
   "execution_count": null,
   "id": "191a456d",
   "metadata": {},
   "outputs": [],
   "source": [
    "question = \"answer_12_1b\"\n",
    "num = 2\n",
    "\n",
    "to_check = [question + \"_%d\" % (n+1) for n in range(num)]\n",
    "feedback = \"\"\n",
    "passed = True\n",
    "for var in to_check:\n",
    "    res, msg = check_answer(eval(var), var)\n",
    "    passed = passed and res\n",
    "    print(msg); feedback += msg + \"n\"\n",
    "\n",
    "assert passed == True, feedback"
   ]
  },
  {
   "cell_type": "markdown",
   "id": "2b154b51",
   "metadata": {
    "lines_to_next_cell": 0
   },
   "source": [
    "**Solution:**"
   ]
  },
  {
   "cell_type": "code",
   "execution_count": null,
   "id": "cc34a4a5",
   "metadata": {
    "lines_to_next_cell": 2,
    "tags": [
     "hide-input"
    ]
   },
   "outputs": [],
   "source": [
    "def amp(w, m, c, k, F0):\n",
    "    ### BEGIN SOLUTION\n",
    "    gam = c/m\n",
    "    w0 = np.sqrt(k/m)\n",
    "    return F0/m/np.sqrt(gam**2*w**2 + (w**2 - w0**2)**2)\n",
    "    ### END SOLUTION\n",
    "\n",
    "# peak_indices, _ = ....\n",
    "# t_p = ...\n",
    "# x_p = ...\n",
    "### BEGIN SOLUTION\n",
    "peak_indices, _ = find_peaks(x)\n",
    "t_p = t[peak_indices]\n",
    "x_p = x[peak_indices]\n",
    "### END SOLUTION\n",
    "\n",
    "\n",
    "# A plot\n",
    "### BEGIN SOLUTION\n",
    "plt.plot(t_p, x_p)\n",
    "### END SOLUTION\n",
    "\n",
    "# Extract the calculated amplitude\n",
    "# amp_calc = ....\n",
    "### BEGIN SOLUTION\n",
    "amp_calc = x_p[-1]\n",
    "### END SOLUTION\n",
    "\n",
    "\n",
    "# Calculate the theory prediction\n",
    "# amp_theory = ....\n",
    "### BEGIN SOLUTION\n",
    "amp_theory = amp(1, m, c, k, F0)\n",
    "### END SOLUTION\n",
    "\n",
    "print(\"Calculated steady state amplitude: \", amp_calc)\n",
    "print(\"Predicted steady state amplitude : \", amp_theory)\n",
    "\n",
    "answer_12_1b_1 = amp_calc\n",
    "answer_12_1b_2 = amp_theory"
   ]
  },
  {
   "cell_type": "markdown",
   "id": "ee8f8eaa",
   "metadata": {},
   "source": [
    "How can I check though that the frequency of my steady-state oscillations is correct? One way we can do this is by using the Fourier transform.\n",
    "\n",
    "**Exercise 1(c):** Calculate the power spectrum of the second half of the calculated DDHO response trace calculated in 1(a). Make a plot of the power spectrum with a logarithmic scale on the y-axis, and find the frequency in the data corresponding to the highest spectral power. \n",
    "\n",
    "In your power spectrum, keep only the part of the spectrum at positive frequencies."
   ]
  },
  {
   "cell_type": "code",
   "execution_count": null,
   "id": "683e98fc",
   "metadata": {},
   "outputs": [],
   "source": [
    "# Pick out the second half of the trace to analyze for the steady state\n",
    "# xss = ...\n",
    "# Tss = ...\n",
    "# ...\n",
    "# power = ...\n",
    "# f = ...\n",
    "\n",
    "# Now keep only the positive frequencies\n",
    "end = int(N/4)\n",
    "f_pow = f[0:end]\n",
    "power = power[0:end]\n",
    "\n",
    "# Make a plot\n",
    "\n",
    "# Find the frequency of the peak\n",
    "# ...\n",
    "# fmax = ...\n",
    "# fmax_expected = ...\n",
    "# ...\n",
    "\n",
    "print(\"Calculated frequency:  %.5f Hz (%.5f Rad/s)\" %(f[max_index], f[max_index]*2*np.pi))\n",
    "print(\"Theoretical frequency: %.5f Hz (%.5f Rad/s)\" % (1/2/np.pi, 1))\n",
    "\n",
    "answer_12_1c_1 = power\n",
    "answer_12_1c_2 = f_pow\n",
    "answer_12_1c_3 = fmax"
   ]
  },
  {
   "cell_type": "code",
   "execution_count": null,
   "id": "6099c148",
   "metadata": {},
   "outputs": [],
   "source": [
    "question = \"answer_12_1c\"\n",
    "num = 3\n",
    "\n",
    "to_check = [question + \"_%d\" % (n+1) for n in range(num)]\n",
    "feedback = \"\"\n",
    "passed = True\n",
    "for var in to_check:\n",
    "    res, msg = check_answer(eval(var), var)\n",
    "    passed = passed and res\n",
    "    print(msg); feedback += msg + \"n\"\n",
    "\n",
    "assert passed == True, feedback"
   ]
  },
  {
   "cell_type": "markdown",
   "id": "85f1bd28",
   "metadata": {
    "lines_to_next_cell": 0
   },
   "source": [
    "**Solution:**"
   ]
  },
  {
   "cell_type": "code",
   "execution_count": null,
   "id": "573d5841",
   "metadata": {
    "lines_to_next_cell": 2,
    "tags": [
     "hide-input"
    ]
   },
   "outputs": [],
   "source": [
    "# Pick out the second half of the trace to analyze for the steady state\n",
    "# xss = ...\n",
    "# Tss = ...\n",
    "# ...\n",
    "# power = ...\n",
    "# f = ...\n",
    "### BEGIN SOLUTION\n",
    "xss = x[int(N/2):]\n",
    "Tss = T/2\n",
    "print(Tss)\n",
    "fs = 1/(t[1]-t[0])\n",
    "xss_t = np.fft.fft(xss)\n",
    "power = 2*np.abs(xss_t)**2/(fs*Tss)**2\n",
    "f = np.fft.fftfreq(len(xss), 1/fs)\n",
    "### END SOLUTION\n",
    "\n",
    "# Now keep only the positive frequencies\n",
    "end = int(N/4)\n",
    "f_pow = f[0:end]\n",
    "power = power[0:end]\n",
    "\n",
    "# Make a plot\n",
    "### BEGIN SOLUTION\n",
    "plt.plot(f_pow,power)\n",
    "plt.ylabel(\"Power spectrum of $x$ (m$^2$)\")\n",
    "plt.xlabel(\"Frequency (Hz)\")\n",
    "plt.yscale('log')\n",
    "### END SOLUTION\n",
    "\n",
    "# Find the frequency of the peak\n",
    "# ...\n",
    "# fmax = ...\n",
    "# fmax_expected = ...\n",
    "# ...\n",
    "### BEGIN SOLUTION\n",
    "pmax = 0;\n",
    "max_index = 0;\n",
    "for i in range(len(f_pow)):\n",
    "    if power[i] > pmax:\n",
    "        pmax = power[i]\n",
    "        max_index = i\n",
    "fmax = f[max_index]\n",
    "### END SOLUTION\n",
    "\n",
    "print(\"Calculated frequency:  %.5f Hz (%.5f Rad/s)\" %(f[max_index], f[max_index]*2*np.pi))\n",
    "print(\"Theoretical frequency: %.5f Hz (%.5f Rad/s)\" % (1/2/np.pi, 1))\n",
    "\n",
    "answer_12_1c_1 = power\n",
    "answer_12_1c_2 = f_pow\n",
    "answer_12_1c_3 = fmax"
   ]
  },
  {
   "cell_type": "markdown",
   "id": "ee6561c3",
   "metadata": {},
   "source": [
    "For the simple Harmonic oscillator, the steady state solution does not depend on the initial conditions (this is not true for non-linear restoring forces, which we will see soon!). \n",
    "\n",
    "**Exercise 1(d):** Perform the calculation from Exercise 1(a) with an initial condition $x(0) = 30$. Make a plot of $x(t)$. Write a function `find_ss_amp(x)` to find the steady state amplitude as we did above in 1(b) by finding the peak value of the last peak. Use this function to find the steady state amplitude and show that this is the same (or at least close) to the value for $x(0) = 0$. "
   ]
  },
  {
   "cell_type": "code",
   "execution_count": null,
   "id": "5eec8314",
   "metadata": {},
   "outputs": [],
   "source": [
    "def find_ss_amp(x):\n",
    "    # ...\n",
    "\n",
    "x0 = 30\n",
    "v0 = 0\n",
    "# sol = solve_ivp(....)\n",
    "# t = ...\n",
    "# x = ...\n",
    "\n",
    "\n",
    "# Make a plot\n",
    "\n",
    "print(\"Calculated steady state amplitude: \", find_ss_amp(x))\n",
    "\n",
    "answer_12_1d_1 = np.copy(x)"
   ]
  },
  {
   "cell_type": "code",
   "execution_count": null,
   "id": "90705b7a",
   "metadata": {},
   "outputs": [],
   "source": [
    "question = \"answer_12_1d\"\n",
    "num = 1\n",
    "\n",
    "to_check = [question + \"_%d\" % (n+1) for n in range(num)]\n",
    "feedback = \"\"\n",
    "passed = True\n",
    "for var in to_check:\n",
    "    res, msg = check_answer(eval(var), var)\n",
    "    passed = passed and res\n",
    "    print(msg); feedback += msg + \"n\"\n",
    "\n",
    "assert passed == True, feedback"
   ]
  },
  {
   "cell_type": "markdown",
   "id": "dcd26fce",
   "metadata": {
    "lines_to_next_cell": 0
   },
   "source": [
    "**Solution:**"
   ]
  },
  {
   "cell_type": "code",
   "execution_count": null,
   "id": "2b92518b",
   "metadata": {
    "lines_to_next_cell": 2,
    "tags": [
     "hide-input"
    ]
   },
   "outputs": [],
   "source": [
    "def find_ss_amp(x):\n",
    "    ### BEGIN SOLUTION\n",
    "    peak_indices, _ = find_peaks(x)\n",
    "    return x[peak_indices[-1]]\n",
    "    ### END SOLUTION\n",
    "\n",
    "x0 = 30\n",
    "v0 = 0\n",
    "# sol = solve_ivp(....)\n",
    "# t = ...\n",
    "# x = ...\n",
    "### BEGIN SOLUTION\n",
    "sol = solve_ivp(dydt, (0,T), (x0,v0), t_eval=t)\n",
    "t = sol.t\n",
    "x = sol.y[0,:]\n",
    "### END SOLUTION\n",
    "\n",
    "\n",
    "# Make a plot\n",
    "### BEGIN SOLUTION\n",
    "plt.plot(t,x)\n",
    "plt.xlabel(\"Time (s)\")\n",
    "plt.xlabel(\"Position (m)\")\n",
    "### END SOLUTION\n",
    "\n",
    "print(\"Calculated steady state amplitude: \", find_ss_amp(x))\n",
    "\n",
    "answer_12_1d_1 = np.copy(x)"
   ]
  },
  {
   "cell_type": "markdown",
   "id": "1b694498",
   "metadata": {},
   "source": [
    "## Boundary value problems and the shooting method\n",
    "\n",
    "Until now, we have been finding the solutions of differential equations given a particular initial condition: for example, for a second order differential equation, we have been specifying the initial velocity and initial position.\n",
    "\n",
    "There are some times where you want to constrain your solution of the differential equation not by the initial conditions, but by a combination of the initial condition and the final condition. An example of this is for a second order ODE: instead of finding the solution corresponding to a given initial position $x_i$ and initial velocity $v_i$, one might want to find a solution that has a given initial position $x_i$ and a given final position $x_f$. This is an example of a boundary value problem: we are constrained by the values of the function on the boundaries, not by the initial velocity.\n",
    "\n",
    "How does one approach such a problem? \n",
    "\n",
    "One method for solving this is a technique known as the <a href=https://en.wikipedia.org/wiki/Shooting_method>shooting method</a>. In the shooting method, one makes a guess at an initial velocity $v_i$ and then calculates the final position $x_f$. If you do not get it right in the first guess, you keep redoing the calculation with different $v_i$, using a technique such as <a href=https://en.wikipedia.org/wiki/Binary_search_algorithm>binary search</a> to find the initial velocity $v_i$ that gives the desired $x_f$.\n",
    "\n",
    "_(The inspiration for the name of this technique comes from how one would hit a target with a cannon: a simple way is to take a trial shot, see where it lands, and then adjust the angle up and down until you get it right; or at least close enough to hit your enemy!)_\n",
    "\n",
    "As an example, we consider the following problem: I am going to throw a ball straight upwards in the air, and I want the ball to land back down at the same spot in exactly 10 seconds. What velocity do I need to give the ball? \n",
    "\n",
    "Neglecting air resistance, this problem is easy to solve (you can solve it with high school physics!). Once we add air resistance to the problem (which we will at the end of this notebook), the problem becomes very difficult to solve analytically, which is where numerical methods become very useful.\n",
    "\n",
    "We have learned already how to perform RK4 numerical integration of differential equations, and earlier in the course, we have also learned how to find zeros of a function efficiently using binary search. With the skills you have learned, you could easily write code to perform the shooting method directly yourself (and you may be asked to in the exam!). \n",
    "\n",
    "However, here, we will explore how to implement the shooting method using some more advanced features of the <a href=https://docs.scipy.org/doc/scipy/reference/generated/scipy.integrate.solve_ivp.html>solve_ivp()</a> routine of the `scipy` library. To do this, we will make use of the optional parameter `events` of the `solve_ivp()` routine. This is a special way to tell `solve_ivp()` to detect conditions on the integration it is performing and stop the integration when that condition is satisfied. \n",
    "\n",
    "The way `events=` parameter works is that you need define a function that gets passed your variables `y` and `t` and which should return a number. When your \"event\" function undergoes a zero crossing, then you can have `solve_ivp()` stop the integration automatically. You can also configure if this zero crossing is a \"rising\" or a \"falling\" edge trigger (see the assignment from week 1). \n",
    "\n",
    "How do I use this `events` parameter in practice? The `events` parameter needs to take a <a href=https://docs.python.org/3/tutorial/classes.html>object</a> (or a list of objects in case you want to track many events).\n",
    "\n",
    "**Wait a minute: what the heck is an \"object\"?**\n",
    "\n",
    "Objects are an advanced feature of Python. In fact, most of the things you have been working with are already objects, even though you didn't notice it! Objects are special variables that can \"contain\" stuff: they can contain, for example, both functions that can perform operations and data that stores values.\n",
    "\n",
    "An example you have already seen is numpy arrays. For example, consider the following numpy array:"
   ]
  },
  {
   "cell_type": "raw",
   "id": "01c76c31",
   "metadata": {
    "nbgrader": {
     "grade": false,
     "grade_id": "cell-68222414656c7a29",
     "locked": true,
     "schema_version": 3,
     "solution": false,
     "task": false
    }
   },
   "source": [
    "x = np.array(range(10))\n",
    "\n",
    "This array has a \"field\" (data stored inside the object) called `shape` that tells you what shape the array is:\n",
    "\n",
    "```python nbgrader={\"grade\": false, \"grade_id\": \"cell-ec2404667f92c47c\", \"locked\": true, \"schema_version\": 3, \"solution\": false, \"task\": false}\n",
    "x.shape\n",
    "```\n",
    "\n",
    "The object `x` also has functions built into it that can excute actions. For example, there is a function `copy` built into `x` that makes a copy of the array:\n",
    "<!-- #endregion -->\n",
    "\n",
    "<!-- #raw nbgrader={\"grade\": false, \"grade_id\": \"cell-234d6036e8a42b7e\", \"locked\": true, \"schema_version\": 3, \"solution\": false, \"task\": false} -->\n",
    "x2 = x.copy()"
   ]
  },
  {
   "cell_type": "markdown",
   "id": "2fb805f3",
   "metadata": {},
   "source": [
    "Cool! But how do I make my own \"object\"? It sounds scary! In most languages, it requires some more detailed of knowledge of the language to do so... However, python has some great shortcuts that makes building your own objects very easily, on the fly, using a technique in python with a funny name called \"<a href=https://www.geeksforgeeks.org/monkey-patching-in-python-dynamic-behavior/>monkey patching</a>\".\n",
    "\n",
    "You can construct the \"object\" that the `solve_ivp()` parameter `events=` requires by first creating a function that does what you need and then turn it into an \"object\" by adding some fields with the correct names. To be concrete, for our example of throwing a ball vertically in the air, we will want to stop the numerical integration once the height of the ball falls back down to zero. For this, I will need an event function that returns the height of the ball. If I choose my `y` variable array such that `y[0]` is the vertical position `x` and `y[1]` is the vertical velocity `v`, then my function would look like this:\n",
    "\n",
    "```\n",
    "def myevent(t,y):\n",
    "    return y[0]\n",
    "```\n",
    "\n",
    "When you give it this function, the `solve_ivp()` routine will work to find the precise integration conditions and trigger the event such that the value that your function `myevent()` returns the value zero. In this case, because we are looking for the condition that the height of the ball is zero, then life is very easy: we just return the height of the ball! If we instead wanted to trigger the event when the height of the ball is 1, then we would replace the last line of our function with `return y[0]-1`. \n",
    "\n",
    "For `solve_ivp()`, I then need to make it an object by adding two extra fields. One field is called `terminal`, which tells `solve_ivp()` if should stop when this event is triggered, or if it should keep on going. As we are done once the ball hits the ground, we can make our event terminal:\n",
    "\n",
    "```\n",
    "myevent.terminal = True\n",
    "```\n",
    "\n",
    "Magico! Now `myevent` is no longer just a function that can do stuff, but an object that contains a field that stores some information! In addition, we need to add another field to our `myevent` object that tells `solve_ivp()` if it should look for a \"rising edge zero crossing\" (direction = 1) or a \"falling edge zero crossing\" (direction = -1). We want the latter:\n",
    "\n",
    "```\n",
    "myevent.direction = -1\n",
    "```\n",
    "\n",
    "When finished, the `sol` object that `solve_ivp()` returns will contain a field `t_events` that is a list of all the times that an event occurred at: for us, this list will contain one entry, corresponding to the time at which the ball came back to the place we threw it from.\n",
    "\n",
    "With this, it becomes very easy to implement the shooting method:\n",
    "\n",
    "1. We define an \"event\" function that returns the value of the height of the ball\n",
    "2. We make a guess of an lower and upper limit on the velocity in between which we think the correct initial velocity can be found\n",
    "3. We use binary search to iterate through initial velocities until we find one that gives us a total time of 10 seconds for the ball fall back down (within a given accuracy). \n",
    "\n",
    "One problem with this technique is that we need to get some reasonable values for the initial guesses. For this, it is handy to run the numerical integration a few times with different values of initial velocity to see what range we should choose for our binary search.\n",
    "\n",
    "**Exercise 2(a):** Consider a ball with mass $m = 0.1$ kg thrown upwards into the air with an initial velocity of 1 m/s. Use `solve_ivp()` to calculate how long it takes for the ball to reach the ground again. Assume that the $g = 9.81$ m/s$^2$. For the numerical integration, you need to pick a time endpoint that will be longer than the time it will take for the ball to come back down. A time limit of 100 seconds should probably be fine."
   ]
  },
  {
   "cell_type": "code",
   "execution_count": null,
   "id": "b5f56070",
   "metadata": {},
   "outputs": [],
   "source": [
    "m=0.1\n",
    "g = 9.81 \n",
    "\n",
    "# y[0] is height (which I will call \"x\"), y[1] is velocity (\"v\")\n",
    "def myevent(t,y):\n",
    "    # ...\n",
    "\n",
    "    \n",
    "\n",
    "def dydt(t,y):\n",
    "    # ...\n",
    "\n",
    "vi = 1\n",
    "# sol = solve_ivp(....)\n",
    "\n",
    "t_f = sol.t_events[0]\n",
    "\n",
    "print(\"An initial velocity of 1 m/s gave a total time of %f seconds\" % t_f)\n",
    "\n",
    "answer_12_2a_1 = t_f"
   ]
  },
  {
   "cell_type": "code",
   "execution_count": null,
   "id": "d5b2581b",
   "metadata": {},
   "outputs": [],
   "source": [
    "question = \"answer_12_2a\"\n",
    "num = 1\n",
    "\n",
    "to_check = [question + \"_%d\" % (n+1) for n in range(num)]\n",
    "feedback = \"\"\n",
    "passed = True\n",
    "for var in to_check:\n",
    "    res, msg = check_answer(eval(var), var)\n",
    "    passed = passed and res\n",
    "    print(msg); feedback += msg + \"n\"\n",
    "\n",
    "assert passed == True, feedback"
   ]
  },
  {
   "cell_type": "markdown",
   "id": "816673de",
   "metadata": {
    "lines_to_next_cell": 0
   },
   "source": [
    "**Solution:**"
   ]
  },
  {
   "cell_type": "code",
   "execution_count": null,
   "id": "d3eb9311",
   "metadata": {
    "lines_to_next_cell": 2,
    "tags": [
     "hide-input"
    ]
   },
   "outputs": [],
   "source": [
    "m=0.1\n",
    "g = 9.81 \n",
    "\n",
    "# y[0] is height (which I will call \"x\"), y[1] is velocity (\"v\")\n",
    "def myevent(t,y):\n",
    "    ### BEGIN SOLUTION\n",
    "    return y[0]\n",
    "    ### END SOLUTION\n",
    "\n",
    "    \n",
    "### BEGIN SOLUTION\n",
    "myevent.terminal = True\n",
    "myevent.direction = -1\n",
    "### END SOLUTION\n",
    "\n",
    "def dydt(t,y):\n",
    "    ### BEGIN SOLUTION\n",
    "    x = y[0]\n",
    "    v = y[1]\n",
    "    return [v, -g]\n",
    "    ### END SOLUTION\n",
    "\n",
    "vi = 1\n",
    "# sol = solve_ivp(....)\n",
    "### BEGIN SOLUTION\n",
    "sol = solve_ivp(dydt, (0,100), [0,vi], events=myevent)\n",
    "### END SOLUTION\n",
    "\n",
    "t_f = sol.t_events[0]\n",
    "\n",
    "print(\"An initial velocity of 1 m/s gave a total time of %f seconds\" % t_f)\n",
    "\n",
    "answer_12_2a_1 = t_f"
   ]
  },
  {
   "cell_type": "markdown",
   "id": "beeb6f01",
   "metadata": {},
   "source": [
    "**Exercise 2(b):** Implement binary search to find the initial velocity needed to have $t_f = 10$ seconds with a target accuracy of 1 ms. For your initial search range, choose $v_i$ = 1 m/s and 100 m/s. Compare to what you would expect theoretically from the acceleration due to gravity with no air resistance."
   ]
  },
  {
   "cell_type": "code",
   "execution_count": null,
   "id": "cc258ec2",
   "metadata": {},
   "outputs": [],
   "source": [
    "def find_tf(vi):\n",
    "    # ...\n",
    "\n",
    "v1 = 1\n",
    "t1 = find_tf(v1)\n",
    "v2 = 200\n",
    "t2 = find_tf(v2)\n",
    "target = 1e-3\n",
    "\n",
    "# while np.abs(t2-t1) > target:\n",
    "# ...\n",
    "    \n",
    "\n",
    "# vi = ...\n",
    "# vi_theory = ...\n",
    "\n",
    "print(vi)\n",
    "print(vi_theory)\n",
    "\n",
    "answer_12_2b_1 = vi\n",
    "answer_12_2b_2 = vi_theory"
   ]
  },
  {
   "cell_type": "code",
   "execution_count": null,
   "id": "2caed1da",
   "metadata": {},
   "outputs": [],
   "source": [
    "question = \"answer_12_2b\"\n",
    "num = 2\n",
    "\n",
    "to_check = [question + \"_%d\" % (n+1) for n in range(num)]\n",
    "feedback = \"\"\n",
    "passed = True\n",
    "for var in to_check:\n",
    "    res, msg = check_answer(eval(var), var)\n",
    "    passed = passed and res\n",
    "    print(msg); feedback += msg + \"n\"\n",
    "\n",
    "assert passed == True, feedback"
   ]
  },
  {
   "cell_type": "markdown",
   "id": "e83611bb",
   "metadata": {
    "lines_to_next_cell": 0
   },
   "source": [
    "**Solution:**"
   ]
  },
  {
   "cell_type": "code",
   "execution_count": null,
   "id": "c58ecbef",
   "metadata": {
    "lines_to_next_cell": 2,
    "tags": [
     "hide-input"
    ]
   },
   "outputs": [],
   "source": [
    "def find_tf(vi):\n",
    "    ### BEGIN SOLUTION\n",
    "    sol = solve_ivp(dydt, (0,100), [0,vi], events=myevent)\n",
    "    return sol.t_events[0]\n",
    "    ### END SOLUTION\n",
    "\n",
    "v1 = 1\n",
    "t1 = find_tf(v1)\n",
    "v2 = 200\n",
    "t2 = find_tf(v2)\n",
    "target = 1e-3\n",
    "\n",
    "# while np.abs(t2-t1) > target:\n",
    "# ...\n",
    "### BEGIN SOLUTION\n",
    "while np.abs(t2-t1) > target:\n",
    "    vp = (v1+v2)/2\n",
    "    tp = find_tf(vp)\n",
    "    if (t1-10)*(tp-10) > 0:\n",
    "        v1 = vp\n",
    "        t1 = tp\n",
    "    else:\n",
    "        v2 = vp\n",
    "        t2 = tp\n",
    "### END SOLUTION\n",
    "    \n",
    "\n",
    "# vi = ...\n",
    "# vi_theory = ...\n",
    "### BEGIN SOLUTION\n",
    "vi = (v1+v2)/2\n",
    "vi_theory = 9.81*5\n",
    "### END SOLUTION\n",
    "\n",
    "print(vi)\n",
    "print(vi_theory)\n",
    "\n",
    "answer_12_2b_1 = vi\n",
    "answer_12_2b_2 = vi_theory"
   ]
  },
  {
   "cell_type": "markdown",
   "id": "acdd1e57",
   "metadata": {},
   "source": [
    "**Exercise 2(c):** We will now add air resistance to our calculation. To make life simple, we will assume that the <a href=https://en.wikipedia.org/wiki/Drag_coefficient>drag coefficient</a> of our ball results in a friction force with the magnitude:\n",
    "\n",
    "$$\n",
    "|F_f| = Cv^2\n",
    "$$\n",
    "\n",
    "For a 3 cm diameter sphere, Gary's estimate of the constant $C$ in this equation (based on the formulas on wikipedia) is that it has a value on the order of $C = 10^{-3}$ Ns$^2$/m$^2$. Since the force always opposes the direction of the velocity, we have to somehow account for its sign before incorporating it into an equation of motion. One way to do this is as follows:\n",
    "\n",
    "$$ \n",
    "F_f = - \\frac{Cv^3}{|v|}\n",
    "$$\n",
    "\n",
    "Repeat question 2(a) but now including air resistance in your calculation.\n",
    "\n",
    "Before you start: do you think it will take less time or more time for the ball to fall for the same velocity? \n",
    "\n",
    "On the one hand, when falling, the ball will move more slowly because the air resistance is holding it back. On the other hand, the ball will not go as high with air resistance. \n",
    "\n",
    "(Give your `dydt` function with air resistance a different name so we can compare the two in the next question...)"
   ]
  },
  {
   "cell_type": "code",
   "execution_count": null,
   "id": "999be3a2",
   "metadata": {},
   "outputs": [],
   "source": [
    "your_guess = \"comes back in less time /OR/ takes more time to come back (delete one!)\"\n",
    "\n",
    "g = 9.81 \n",
    "m = 0.1\n",
    "C = 1e-3\n",
    "\n",
    "# y[0] is height (which I will call \"x\"), y[1] is velocity (\"v\")\n",
    "def myevent(t,y):\n",
    "    # ...\n",
    "    \n",
    "\n",
    "def dydt2(t,y):\n",
    "    # ...\n",
    "\n",
    "vi = 1\n",
    "# sol = solve_ivp(....)\n",
    "t_f = sol.t_events[0]\n",
    "\n",
    "print(\"An initial velocity of 1 m/s gave a total time of %f seconds\" % t_f)\n",
    "\n",
    "answer_12_2c_1 = t_f"
   ]
  },
  {
   "cell_type": "code",
   "execution_count": null,
   "id": "e7e16104",
   "metadata": {},
   "outputs": [],
   "source": [
    "question = \"answer_12_2c\"\n",
    "num = 1\n",
    "\n",
    "to_check = [question + \"_%d\" % (n+1) for n in range(num)]\n",
    "feedback = \"\"\n",
    "passed = True\n",
    "for var in to_check:\n",
    "    res, msg = check_answer(eval(var), var)\n",
    "    passed = passed and res\n",
    "    print(msg); feedback += msg + \"n\"\n",
    "\n",
    "assert passed == True, feedback"
   ]
  },
  {
   "cell_type": "markdown",
   "id": "eac543c8",
   "metadata": {
    "lines_to_next_cell": 0
   },
   "source": [
    "**Solution:**"
   ]
  },
  {
   "cell_type": "code",
   "execution_count": null,
   "id": "e4416861",
   "metadata": {
    "lines_to_next_cell": 2,
    "tags": [
     "hide-input"
    ]
   },
   "outputs": [],
   "source": [
    "your_guess = \"comes back in less time /OR/ takes more time to come back (delete one!)\"\n",
    "\n",
    "g = 9.81 \n",
    "m = 0.1\n",
    "C = 1e-3\n",
    "\n",
    "# y[0] is height (which I will call \"x\"), y[1] is velocity (\"v\")\n",
    "def myevent(t,y):\n",
    "    ### BEGIN SOLUTION\n",
    "    return y[0]\n",
    "    ### END SOLUTION\n",
    "    \n",
    "### BEGIN SOLUTION\n",
    "myevent.terminal = True\n",
    "myevent.direction = -1\n",
    "### END SOLUTION\n",
    "\n",
    "def dydt2(t,y):\n",
    "    ### BEGIN SOLUTION\n",
    "    x = y[0]\n",
    "    v = y[1]\n",
    "    return [v, -g - C*v**3/np.abs(v)/m]\n",
    "    ### END SOLUTION\n",
    "\n",
    "vi = 1\n",
    "# sol = solve_ivp(....)\n",
    "### BEGIN SOLUTION\n",
    "sol = solve_ivp(dydt2, (0,100), [0,vi], events=myevent)\n",
    "### END SOLUTION\n",
    "t_f = sol.t_events[0]\n",
    "\n",
    "print(\"An initial velocity of 1 m/s gave a total time of %f seconds\" % t_f)\n",
    "\n",
    "answer_12_2c_1 = t_f"
   ]
  },
  {
   "cell_type": "markdown",
   "id": "677d2285",
   "metadata": {},
   "source": [
    "It seems like adding air resistance slightly decreased the amount of time it takes for the ball to come back down, but not by much. \n",
    "\n",
    "**Exercise 2(d):** Make a calculation of the two times as a function of the initial velocity, with $v_i$ varying from 1 m/s to 200 m/s (720 km/h!) with 100 points. Make a plot of $t_f$ vs $v_i$ for the two cases. "
   ]
  },
  {
   "cell_type": "code",
   "execution_count": null,
   "id": "e040ea36",
   "metadata": {},
   "outputs": [],
   "source": [
    "Ni = 200\n",
    "vi = np.linspace(1,200,Ni)\n",
    "tf1 = np.empty(Ni)\n",
    "tf2 = np.empty(Ni)\n",
    "\n",
    "for i in range(Ni):\n",
    "    # ... dydt\n",
    "\n",
    "for i in range(Ni):\n",
    "    # ... dydt2\n",
    "\n",
    "# Make some plots\n",
    "\n",
    "answer_12_2d_1 = vi.copy()\n",
    "answer_12_2d_2 = tf1.copy()\n",
    "answer_12_2d_3 = tf2.copy()"
   ]
  },
  {
   "cell_type": "code",
   "execution_count": null,
   "id": "b0719fba",
   "metadata": {},
   "outputs": [],
   "source": [
    "question = \"answer_12_2d\"\n",
    "num = 3\n",
    "\n",
    "to_check = [question + \"_%d\" % (n+1) for n in range(num)]\n",
    "feedback = \"\"\n",
    "passed = True\n",
    "for var in to_check:\n",
    "    res, msg = check_answer(eval(var), var)\n",
    "    passed = passed and res\n",
    "    print(msg); feedback += msg + \"n\"\n",
    "\n",
    "assert passed == True, feedback"
   ]
  },
  {
   "cell_type": "markdown",
   "id": "71533995",
   "metadata": {
    "lines_to_next_cell": 0
   },
   "source": [
    "**Solution:**"
   ]
  },
  {
   "cell_type": "code",
   "execution_count": null,
   "id": "a3e845e0",
   "metadata": {
    "lines_to_next_cell": 2,
    "tags": [
     "hide-input"
    ]
   },
   "outputs": [],
   "source": [
    "Ni = 200\n",
    "vi = np.linspace(1,200,Ni)\n",
    "tf1 = np.empty(Ni)\n",
    "tf2 = np.empty(Ni)\n",
    "\n",
    "for i in range(Ni):\n",
    "    ### BEGIN SOLUTION\n",
    "    sol = solve_ivp(dydt, (0,100), [0,vi[i]], events=myevent)\n",
    "    tf1[i] = sol.t_events[0]\n",
    "    ### END SOLUTION\n",
    "\n",
    "for i in range(Ni):\n",
    "    ### BEGIN SOLUTION\n",
    "    sol = solve_ivp(dydt2, (0,100), [0,vi[i]], events=myevent)\n",
    "    tf2[i] = sol.t_events[0]\n",
    "    ### END SOLUTION\n",
    "\n",
    "# Make some plots\n",
    "### BEGIN SOLUTION\n",
    "plt.plot(vi, tf1, label=\"Frictionless\")\n",
    "plt.plot(vi, tf2, label=\"With air resistance\")\n",
    "plt.xlabel(\"Initial velocity v$_i$ (m/s)\")\n",
    "plt.ylabel(\"Total time t$_f$ (s)\")\n",
    "### END SOLUTION\n",
    "\n",
    "answer_12_2d_1 = vi.copy()\n",
    "answer_12_2d_2 = tf1.copy()\n",
    "answer_12_2d_3 = tf2.copy()"
   ]
  },
  {
   "cell_type": "markdown",
   "id": "3ec4df8f",
   "metadata": {},
   "source": [
    "**Exercise 2(e):** Calculate the initial velocity required to achieve $t_f$ of 10 seconds including air resistance. "
   ]
  },
  {
   "cell_type": "code",
   "execution_count": null,
   "id": "9d6a65df",
   "metadata": {},
   "outputs": [],
   "source": [
    "def find_tf2(vi):\n",
    "    # ...\n",
    "\n",
    "v1 = 1\n",
    "t1 = find_tf2(v1)\n",
    "v2 = 200\n",
    "t2 = find_tf2(v2)\n",
    "target = 1e-3\n",
    "\n",
    "# while np.abs(...) > target:\n",
    "#     ...\n",
    "\n",
    "# vi = ...\n",
    "\n",
    "print(vi)\n",
    "\n",
    "answer_12_2e_1 = vi"
   ]
  },
  {
   "cell_type": "code",
   "execution_count": null,
   "id": "7195c936",
   "metadata": {},
   "outputs": [],
   "source": [
    "question = \"answer_12_2e\"\n",
    "num = 1\n",
    "\n",
    "to_check = [question + \"_%d\" % (n+1) for n in range(num)]\n",
    "feedback = \"\"\n",
    "passed = True\n",
    "for var in to_check:\n",
    "    res, msg = check_answer(eval(var), var)\n",
    "    passed = passed and res\n",
    "    print(msg); feedback += msg + \"n\"\n",
    "\n",
    "assert passed == True, feedback"
   ]
  },
  {
   "cell_type": "markdown",
   "id": "2c4c0ff3",
   "metadata": {
    "lines_to_next_cell": 0
   },
   "source": [
    "**Solution:**"
   ]
  },
  {
   "cell_type": "code",
   "execution_count": null,
   "id": "117cafc7",
   "metadata": {
    "lines_to_next_cell": 2,
    "tags": [
     "hide-input"
    ]
   },
   "outputs": [],
   "source": [
    "def find_tf2(vi):\n",
    "    ### BEGIN SOLUTION\n",
    "    sol = solve_ivp(dydt2, (0,100), [0,vi], events=myevent)\n",
    "    return sol.t_events[0]\n",
    "    ### END SOLUTION\n",
    "\n",
    "v1 = 1\n",
    "t1 = find_tf2(v1)\n",
    "v2 = 200\n",
    "t2 = find_tf2(v2)\n",
    "target = 1e-3\n",
    "\n",
    "# while np.abs(...) > target:\n",
    "#     ...\n",
    "### BEGIN SOLUTION\n",
    "while np.abs(t2-t1) > target:\n",
    "    vp = (v1+v2)/2\n",
    "    tp = find_tf2(vp)\n",
    "    if (t1-10)*(tp-10) > 0:\n",
    "        v1 = vp\n",
    "        t1 = tp\n",
    "    else:\n",
    "        v2 = vp\n",
    "        t2 = tp\n",
    "### END SOLUTION\n",
    "\n",
    "# vi = ...\n",
    "### BEGIN SOLUTION\n",
    "vi = (v1+v2)/2\n",
    "vi_t = 9.81*5\n",
    "### END SOLUTION\n",
    "\n",
    "print(vi)\n",
    "\n",
    "answer_12_2e_1 = vi"
   ]
  },
  {
   "cell_type": "markdown",
   "id": "0798e220",
   "metadata": {},
   "source": [
    "**Exercise 2(f):** Including air resistance, does the ball spend more time on the upwards trajectory, on the downward tragectory, or does it spend the same amount of time going up as it does going down?\n",
    "\n",
    "Use the `solve_ivp()` routine to calculate the time going up and the time going down for the initial velocity you found in 2(e). \n",
    "\n",
    "_Hint:_ an easy way to do this is to create an additional `terminal = False` event function that checks when the velocity crosses zero!"
   ]
  },
  {
   "cell_type": "code",
   "execution_count": null,
   "id": "6a43182d",
   "metadata": {},
   "outputs": [],
   "source": [
    "# y[0] is height (which I will call \"x\"), y[1] is velocity (\"v\")\n",
    "def myevent(t,y):\n",
    "    # ...\n",
    "\n",
    "\n",
    "def myevent2(t,y):\n",
    "    # ...\n",
    "\n",
    "\n",
    "\n",
    "# sol = solve_ivp(..., events=[myevent2, myevent])\n",
    "\n",
    "t1 = sol.t_events[0][0]\n",
    "t2 = sol.t_events[1][0]\n",
    "t_down = t2-t1\n",
    "\n",
    "print(\"Time up:   %f\" % t1)\n",
    "print(\"Time down: %f\" % (t2-t1))\n",
    "\n",
    "answer_12_2f_1 = t1\n",
    "answer_12_2f_2 = t_down"
   ]
  },
  {
   "cell_type": "code",
   "execution_count": null,
   "id": "b0444ea1",
   "metadata": {},
   "outputs": [],
   "source": [
    "question = \"answer_12_2f\"\n",
    "num = 2\n",
    "\n",
    "to_check = [question + \"_%d\" % (n+1) for n in range(num)]\n",
    "feedback = \"\"\n",
    "passed = True\n",
    "for var in to_check:\n",
    "    res, msg = check_answer(eval(var), var)\n",
    "    passed = passed and res\n",
    "    print(msg); feedback += msg + \"n\"\n",
    "\n",
    "assert passed == True, feedback"
   ]
  },
  {
   "cell_type": "markdown",
   "id": "5bca1cd9",
   "metadata": {
    "lines_to_next_cell": 0
   },
   "source": [
    "**Solution:**"
   ]
  },
  {
   "cell_type": "code",
   "execution_count": null,
   "id": "15f99120",
   "metadata": {
    "lines_to_next_cell": 2,
    "tags": [
     "hide-input"
    ]
   },
   "outputs": [],
   "source": [
    "# y[0] is height (which I will call \"x\"), y[1] is velocity (\"v\")\n",
    "def myevent(t,y):\n",
    "    ### BEGIN SOLUTION\n",
    "     return y[0]\n",
    "    ### END SOLUTION\n",
    "\n",
    "### BEGIN SOLUTION\n",
    "myevent.terminal = True\n",
    "myevent.direction = -1\n",
    "### END SOLUTION\n",
    "\n",
    "def myevent2(t,y):\n",
    "    ### BEGIN SOLUTION\n",
    "    return y[1]\n",
    "    ### END SOLUTION\n",
    "\n",
    "### BEGIN SOLUTION\n",
    "myevent2.terminal = False\n",
    "myevent2.direction = -1\n",
    "### END SOLUTION\n",
    "\n",
    "\n",
    "# sol = solve_ivp(..., events=[myevent2, myevent])\n",
    "### BEGIN SOLUTION\n",
    "sol = solve_ivp(dydt2, (0,200), [0,vi], events=[myevent2, myevent])\n",
    "### END SOLUTION\n",
    "\n",
    "t1 = sol.t_events[0][0]\n",
    "t2 = sol.t_events[1][0]\n",
    "t_down = t2-t1\n",
    "\n",
    "print(\"Time up:   %f\" % t1)\n",
    "print(\"Time down: %f\" % (t2-t1))\n",
    "\n",
    "answer_12_2f_1 = t1\n",
    "answer_12_2f_2 = t_down"
   ]
  },
  {
   "cell_type": "code",
   "execution_count": null,
   "id": "80ae71a8",
   "metadata": {
    "tags": [
     "auto-execute-page",
     "thebe-init",
     "hide-input"
    ]
   },
   "outputs": [],
   "source": [
    "## Pre-loading the solutions\n",
    "\n",
    "import sys\n",
    "await micropip.install(\"numpy\")\n",
    "from validate_answers import *\n",
    "\n",
    "with open(location):\n",
    "    pass # Initially this notebook does not recognise the file unless someone tries to read it first"
   ]
  }
 ],
 "metadata": {
  "jupytext": {
   "formats": "ipynb,md"
  },
  "kernelspec": {
   "display_name": "Python 3 (ipykernel)",
   "language": "python",
   "name": "python3"
  }
 },
 "nbformat": 4,
 "nbformat_minor": 5
}
