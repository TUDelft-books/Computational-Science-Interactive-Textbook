{
 "cells": [
  {
   "cell_type": "markdown",
   "id": "57a7e7f5",
   "metadata": {},
   "source": [
    "# Root finding\n",
    "\n",
    "In this lecture you will implement two techniques to determine the root of a non-linear function of one variable. The root of a linear functions can be solved analytically. For non-linear functions (e.g. sin$x = x/2$) this is sometimes possible, but in the most general case it is hard to write down a simple solution (sometimes a series expansions give you an analytical answer, but still this would require a computer to calculate it with the appropriate accuracy for you). In these cases you need a computer to do the job for you. In this notebook we will show you two methods that can be implemented to find the roots of a function of one variable, i.e., $f(x)=0$. In general, the sought solution can be multi-dimensional, which makes it more difficult to solve, but also similar methods can be implemented in that case. Root solving methods also can be used for finding the extrema of a function. Instead of solving for the roots of $f(x)$, solving the roots the derivative $f′(x)$ function, yields the local or global extrema of the function $f(x)$.\n",
    "\n",
    "**Learning objectives:** After finishing this lecture, you should be able to:\n",
    "\n",
    "1. Find the root of a one-variable function with the bisection method\n",
    "2. Find the root of a one-variable function with Newton's method"
   ]
  },
  {
   "cell_type": "code",
   "execution_count": null,
   "id": "05255dbe",
   "metadata": {},
   "outputs": [],
   "source": [
    "# Initialisation code for the notebook\n",
    "import numpy as np\n",
    "import matplotlib.pyplot as plt"
   ]
  },
  {
   "cell_type": "markdown",
   "id": "245fbdf6",
   "metadata": {},
   "source": [
    "## Binary search or bisection method\n",
    "\n",
    "The <a href=\"https://en.wikipedia.org/wiki/Bisection_method\">bisection method</a> is a simple algorithm that iteratively ’traps’ the root of a function in an ever smaller interval. The bisection method is initiated by choosing two values $a$ and $b$ on the $x$-axis in which the to-be-determined root $f(x) = 0$ is located. By definition, the root is in an interval if there is a sign change in the function, i.e. either $f(a) > 0$ and $f(b) < 0$ or $f(a) < 0$ and $f(b) > 0$ (the product $f(a) \\cdot f(b)$ is always negative). The bisection methods works in the following way\n",
    "* Determine the initial interval $[a, b]$ enclosing the root, you can do this by plotting the function and determine an approximate interval.\n",
    "* Calculate the midpoint of the interval\n",
    "* Check in which interval the root is located, again by looking at the sign change over both intervals,\n",
    "* Set the new interval equal to the interval in which the root is located and set the error for the root as the length of the interval, i.e. $(b − a)/2$, with $b>a$. \n",
    "* When the error is larger than the sought for tolerance then continue with a new bisection, else exit and return the center of the interval in which the root is located. \n",
    "\n",
    "Note however, that the absolute error on the root cannot be calculated since the value of the root is not known a priori. The best estimate of the error is the size of the interval in which the root is located. The bisection method always yields an answer if the root is in the interval $[a, b]$. The bisection method is robust, but the convergence rate of the bisection method is slow.\n",
    "\n",
    "![image](bisection.svg)\n",
    "\n",
    "**Exercise 1** \n",
    "\n",
    "Planck's radiation law tells us that the intensity of radiation per unit area and per unit wavelength $\\lambda$\n",
    "from a black body at temperature $T$ is \n",
    "\n",
    "$$\n",
    "  I(\\lambda) = {2\\pi hc^2\\lambda^{-5}\\over\\text{e}^{hc/\\lambda k_BT}-1}\\,,\n",
    "$$\n",
    "\n",
    "where $h$ is Planck's constant, $c$ is the speed of light, and $k_B$ is Boltzmann's constant. The wavelength $\\lambda$ at which the emitted radiation is strongest is the solution of the equation \n",
    "\n",
    "$$\n",
    "5 \\text{e}^{-hc/\\lambda k_BT} + {hc\\over\\lambda k_BT} - 5 = 0.\n",
    "$$\n",
    "\n",
    "With the substitution $x=hc/\\lambda k_BT$ we find that\n",
    "\n",
    "$$\n",
    "5 \\text{e}^{-x} + x - 5 = 0.\n",
    "$$\n",
    "\n",
    "From which we find the Wien displacement law\n",
    "\n",
    "$$\n",
    "\\lambda = {b\\over T} \\, ,\n",
    "$$\n",
    "\n",
    "where the so-called Wien displacement constant is $b=hc/k_Bx$, and $x$ is the solution to the nonlinear equation.\n",
    "\n",
    "Write a program to solve this equation for  $x$ to an accuracy of $\\epsilon=10^{-6}$ using the bisection/binary search method. Print the values $a$, $b$, the estimate of the root, and the error during the while loop iterations. Calculate and print the value for the found displacement constant. \n",
    "Follow the steps below when making this exercise.\n",
    "* Make a plot of the function in to get a rough idea what the interval the interval is in which the root is located.\n",
    "* Write a Python function for the equation for which you want to find the root\n",
    "* Test that your function definition gives the correct function value\n",
    "* Chose your interval $[a, b]$ such that the root is inside and that the obvious solution $x$=0 is not included. Make a check in your code that there is actually a root in the interval using an ```if``` statement or otherwise give a warning.\n",
    "* Implement the bisection method to find the root\n",
    "* Print the values of $a$, $b$, $xsol$, and the error to the command line at every iteration\n",
    "\n",
    "Save your final solution as variable `xsol` is is plotted in the same graph. This exercise is from the book Computational Physics of Newman."
   ]
  },
  {
   "cell_type": "code",
   "execution_count": null,
   "id": "73aa5129",
   "metadata": {},
   "outputs": [],
   "source": [
    "# define accuracy\n",
    "eps=1e-6\n",
    "\n",
    "# define function\n",
    "def f(x):\n",
    "\n",
    "# first make a quick plot of the function over the domain of x\n",
    "x=np.linspace(-1,10,100)\n",
    "plt.xlabel('x'), plt.ylabel('f(x)')\n",
    "plt.plot(x,f(x), '-b')\n",
    "plt.grid()\n",
    "\n",
    "# xsol = ...\n",
    "\n",
    "plt.plot(xsol,f(xsol), 'or')\n",
    "\n",
    "answer_5_01_1 = np.copy(xsol)"
   ]
  },
  {
   "cell_type": "code",
   "execution_count": null,
   "id": "8706bb61",
   "metadata": {},
   "outputs": [],
   "source": [
    "question = \"answer_5_01\"\n",
    "num = 1\n",
    "\n",
    "to_check = [question + \"_%d\" % (n+1) for n in range(num)]\n",
    "feedback = \"\"\n",
    "passed = True\n",
    "for var in to_check:\n",
    "    res, msg = check_answer(eval(var), var)\n",
    "    passed = passed and res\n",
    "    print(msg)\n",
    "\n",
    "assert passed == True, feedback"
   ]
  },
  {
   "cell_type": "markdown",
   "id": "53646e4a",
   "metadata": {
    "lines_to_next_cell": 0
   },
   "source": [
    "**Solution:**"
   ]
  },
  {
   "cell_type": "code",
   "execution_count": null,
   "id": "53e5099d",
   "metadata": {
    "lines_to_next_cell": 2,
    "tags": [
     "hide-input"
    ]
   },
   "outputs": [],
   "source": [
    "# define accuracy\n",
    "eps=1e-6\n",
    "\n",
    "# define function\n",
    "def f(x):\n",
    "### BEGIN SOLUTION\n",
    "    return 5*np.exp(-x)+x-5\n",
    "### END SOLUTION\n",
    "\n",
    "# first make a quick plot of the function over the domain of x\n",
    "x=np.linspace(-1,10,100)\n",
    "plt.xlabel('x'), plt.ylabel('f(x)')\n",
    "plt.plot(x,f(x), '-b')\n",
    "plt.grid()\n",
    "\n",
    "### BEGIN SOLUTION\n",
    "\n",
    "# initial estimate\n",
    "a=2\n",
    "b=8\n",
    "\n",
    "if f(a)*f(b)>0:\n",
    "    print('The function does not have a root in the given interval')\n",
    "else:\n",
    "    print('The function has a root in the given interval, continuing...')\n",
    "    error=1\n",
    "    while error>eps:\n",
    "        xsol=0.5*(a+b)\n",
    "        if f(a)*f(xsol)<0:\n",
    "            b=xsol\n",
    "        else:\n",
    "            a=xsol\n",
    "        error=0.5*np.abs(a-b)\n",
    "        print('{:.2e}|{:.2e}|{:.2e}|{:.2e}'.format(a, b, xsol, error))\n",
    "xsol=(a+b)/2\n",
    "### END SOLUTION\n",
    "\n",
    "plt.plot(xsol,f(xsol), 'or')\n",
    "\n",
    "answer_5_01_1 = np.copy(xsol)"
   ]
  },
  {
   "cell_type": "markdown",
   "id": "d35754ca",
   "metadata": {},
   "source": [
    "The <a href=\"https://en.wikipedia.org/wiki/Wien%27s_displacement_law\">displacement law </a> is the basis for the method of optical pyrometry, a method for measuring the temperatures of objects by observing the color of the thermal radiation they emit. The method is commonly used to estimate the surface temperatures of astronomical bodies, such as the Sun. \n",
    "\n",
    "**Exercise 2**\n",
    "The wavelength peak in the Sun's emitted radiation occurs at $\\lambda=502$ nm. Derive from the equations above, your value of $x$, and the wavelength $\\lambda$ an estimate of the surface temperature of the Sun and store it in variable `tempsun`."
   ]
  },
  {
   "cell_type": "code",
   "execution_count": null,
   "id": "4e2df8ca",
   "metadata": {},
   "outputs": [],
   "source": [
    "h=6.6e-34\n",
    "c=3e8\n",
    "kb=1.38e-23\n",
    "\n",
    "# tempsun = ...\n",
    "\n",
    "answer_5_02_1 = np.copy(tempsun)"
   ]
  },
  {
   "cell_type": "code",
   "execution_count": null,
   "id": "85923149",
   "metadata": {},
   "outputs": [],
   "source": [
    "question = \"answer_5_02\"\n",
    "num = 1\n",
    "\n",
    "to_check = [question + \"_%d\" % (n+1) for n in range(num)]\n",
    "feedback = \"\"\n",
    "passed = True\n",
    "for var in to_check:\n",
    "    res, msg = check_answer(eval(var), var)\n",
    "    passed = passed and res\n",
    "    print(msg)\n",
    "\n",
    "assert passed == True, feedback"
   ]
  },
  {
   "cell_type": "markdown",
   "id": "ec284e10",
   "metadata": {
    "lines_to_next_cell": 0
   },
   "source": [
    "**Solution:**"
   ]
  },
  {
   "cell_type": "code",
   "execution_count": null,
   "id": "1064cb1c",
   "metadata": {
    "lines_to_next_cell": 2,
    "tags": [
     "hide-input"
    ]
   },
   "outputs": [],
   "source": [
    "h=6.6e-34\n",
    "c=3e8\n",
    "kb=1.38e-23\n",
    "\n",
    "### BEGIN SOLUTION\n",
    "b=h*c/kb/xsol\n",
    "print('The displacement constant is {}'.format(b))\n",
    "\n",
    "wavelength=502e-9\n",
    "tempsun=b/wavelength\n",
    "print('The temperature is {} Kelvin'.format(tempsun))\n",
    "\n",
    "### END SOLUTION\n",
    "answer_5_02_1 = np.copy(tempsun)"
   ]
  },
  {
   "cell_type": "markdown",
   "id": "2ef5fb6b",
   "metadata": {},
   "source": [
    "## Newton's method\n",
    "\n",
    "If the derivative of $f(x)$ is known (analytically or numerically) the most common method to solve the roots is the <a href=\"https://en.wikipedia.org/wiki/Newton%27s_method\">Newton's (or Newton-Raphson) method</a>. Newton's method is an iterative method based on the Taylor series expansion of the function at first order (tangent only). \n",
    "\n",
    "The figure below illustrates Newton's method. Let the unknown true root of $f(x)$ be $x_{r}$, and $x_1$ a first estimate of it. As the function at the true root is zero, we can write the Taylor expansion around $x_1$ as\n",
    "\n",
    "$$\n",
    "f(x_r)=0=f(x_1)+f'(x_1)(x_r-x_1) + \\frac{f''(x_1)}{2}(x_r-x_1)^2+... \\, .\n",
    "$$\n",
    "\n",
    "Neglecting the terms with order equal or larger than 2 in the expansion and solving for $x_r$ results in  \n",
    "\n",
    "$$\n",
    "x_{r} \\approx x_1 - \\frac{f(x_1)}{f'(x_1)} \\, .\n",
    "$$\n",
    "\n",
    "Since the Taylor expansion is truncated, the found $x_r$ is an approximation, which we call $x_2$. The figure below shows a construction of the point $x_2$. The point $x_2$ can be used in a subsequent approximation of $x_r$, by defining the iteration relation\n",
    "\n",
    "$$\n",
    "x_{i+1}=x_i - \\frac{f(x_i)}{f'(x_i)}\n",
    "$$\n",
    "\n",
    "to iteratively find the root of $f(x)$. Although we only use a first order Taylor expansion, the error of the estimated root can decrease very fast. However, since the method is based on the derivative of the function $f(x)$ the convergence can be slow if locally $|f'(x)|>>$0, or non convergent if locally $f'(x)\\approx 0$. The absolute error $\\varepsilon$ in the root estimate is taken as $\\varepsilon = |x_{i+1}-x_i|$.\n",
    "\n",
    "![image](fignewtonraphson.svg)\n",
    "\n",
    "**Exercise 3** \n",
    "\n",
    "Consider the sixth-order polynomial\n",
    "\n",
    "$$\n",
    "P(x) = 924 x^6 - 2772 x^5 + 3150 x^4 - 1680 x^3 + 420 x^2 - 42 x + 1.\n",
    "$$\n",
    "\n",
    "There is no general formula for the roots of a sixth-order polynomial, but one can find them easily enough using a computer. \n",
    "\n",
    "Make a function $P(x)$ and plot it from $x=0$ to $x=1$. Inspect the plot and find rough values for the six roots of the polynomial, the points at which the function is zero. Put the initial estimates of the roots in an array.\n",
    "\n",
    "Write a Python program to solve for the positions of all six roots using Newton's method. Calculate your roots to an absolute error that is below $10^{-10}$. Use the absolute difference between successive values as your error. \n",
    "\n",
    "Follow the steps below when making this exercise.\n",
    "\n",
    "1. Solve this problem for a single root\n",
    "2. Subsequently add a for loop to find all roots and put every root in an array `sol6`."
   ]
  },
  {
   "cell_type": "code",
   "execution_count": null,
   "id": "82217c56",
   "metadata": {},
   "outputs": [],
   "source": [
    "# define polynomial\n",
    "def P(x):\n",
    "    return 924*x**6 - 2772*x**5 +3150*x**4 - 1680*x**3 + 420*x**2 - 42*x + 1\n",
    "\n",
    "# define derivative\n",
    "def Pprime(x):\n",
    "    return 5544*x**5 - 13860*x**4 + 12600*x**3 - 5040*x**2 + 840*x**1 - 42\n",
    "\n",
    "# first make a quick plot\n",
    "\n",
    "x=np.linspace(0,1,100)\n",
    "plt.plot(x,P(x), '-b')\n",
    "plt.xlabel('x'), plt.ylabel('f(x)')\n",
    "plt.grid()\n",
    "\n",
    "polyorder=6\n",
    "# Make a blank array to store your results\n",
    "sol6=np.zeros(polyorder)\n",
    "\n",
    "# sol6 = ...\n",
    "\n",
    "plt.plot(sol6,P(sol6), 'or')\n",
    "\n",
    "answer_5_03_1 = np.copy(sol6)"
   ]
  },
  {
   "cell_type": "code",
   "execution_count": null,
   "id": "520314ef",
   "metadata": {},
   "outputs": [],
   "source": [
    "question = \"answer_5_03\"\n",
    "num = 1\n",
    "\n",
    "to_check = [question + \"_%d\" % (n+1) for n in range(num)]\n",
    "feedback = \"\"\n",
    "passed = True\n",
    "for var in to_check:\n",
    "    res, msg = check_answer(eval(var), var)\n",
    "    passed = passed and res\n",
    "    print(msg)\n",
    "\n",
    "assert passed == True, feedback"
   ]
  },
  {
   "cell_type": "markdown",
   "id": "35d32120",
   "metadata": {
    "lines_to_next_cell": 0
   },
   "source": [
    "**Solution:**"
   ]
  },
  {
   "cell_type": "code",
   "execution_count": null,
   "id": "31ff1334",
   "metadata": {
    "lines_to_next_cell": 2,
    "tags": [
     "hide-input"
    ]
   },
   "outputs": [],
   "source": [
    "# define polynomial\n",
    "def P(x):\n",
    "    return 924*x**6 - 2772*x**5 +3150*x**4 - 1680*x**3 + 420*x**2 - 42*x + 1\n",
    "\n",
    "# define derivative\n",
    "def Pprime(x):\n",
    "    return 5544*x**5 - 13860*x**4 + 12600*x**3 - 5040*x**2 + 840*x**1 - 42\n",
    "\n",
    "# first make a quick plot\n",
    "\n",
    "x=np.linspace(0,1,100)\n",
    "plt.plot(x,P(x), '-b')\n",
    "plt.xlabel('x'), plt.ylabel('f(x)')\n",
    "plt.grid()\n",
    "\n",
    "polyorder=6\n",
    "# Make a blank array to store your results\n",
    "sol6=np.zeros(polyorder)\n",
    "\n",
    "### BEGIN SOLUTION\n",
    "\n",
    "# put estimates in array\n",
    "start=np.array([0, 0.2, 0.4, 0.6, 0.8, 1])\n",
    "\n",
    "eps=1e-10\n",
    "\n",
    "print('root|error')\n",
    "\n",
    "cnt=0\n",
    "for xini in start:\n",
    "    error=10\n",
    "    x_1=xini\n",
    "    while error>eps:\n",
    "        x_2=x_1 - (P(x_1)/Pprime(x_1))\n",
    "        error=np.abs(x_2-x_1)\n",
    "        x_1=x_2\n",
    "    \n",
    "    print('{:.2e}|{:.2e}'.format(x_2, error))\n",
    "    sol6[cnt]=x_2\n",
    "    cnt+=1   \n",
    "    \n",
    "       \n",
    "### END SOLUTION\n",
    "plt.plot(sol6,P(sol6), 'or')\n",
    "\n",
    "answer_5_03_1 = np.copy(sol6)"
   ]
  },
  {
   "cell_type": "markdown",
   "id": "9c100533",
   "metadata": {},
   "source": [
    "## Root solving in physics\n",
    "As an example of the use of root solving in physics consider exercise 4 (from the book Computational Physics of Newman).\n",
    "\n",
    "**Exercise 4** \n",
    "\n",
    "There is a magical point between the Earth and the Moon, called the $L_1$ Lagrange point, at which a satellite will orbit the Earth in perfect synchrony with the Moon, staying always in between the two. This works because the inward pull of the Earth and the outward pull of the Moon combine to create exactly the needed centripetal force that keeps the satellite in its orbit. \n",
    "\n",
    "Assuming circular orbits, and assuming that the Earth is much more massive than either the Moon or the satellite the distance $r$ from the center of the Earth to the $L_1$ point satisfies \n",
    "\n",
    "$$\n",
    "{GM\\over r^2} - {Gm\\over(R-r)^2} = \\omega^2 r,\n",
    "$$\n",
    "\n",
    "where $M$ and $m$ are the Earth and Moon masses, $G$ is Newton's gravitational constant, and $\\omega$ is the angular velocity of both the Moon and the satellite.\n",
    "\n",
    "The equation above is a fifth-order polynomial equation in $r$ (also called a quintic equation). Such equations cannot be solved in closed form (i.e. as an equation), but it's straightforward to solve them numerically. Write a program that uses Newton's method to solve for the distance $r$ from the Earth to the $L_1$ point. Compute a solution accurate to at least four significant figures.\n",
    "\n",
    "The values of the various parameters are:\n",
    "\n",
    "$$\n",
    "G &= 6.674\\times10^{-11}\\,\\mathrm{m}^3\\mathrm{kg}^{-1}\\mathrm{s}^{-2}, \\\\\n",
    "M &= 5.974\\times10^{24}\\,\\mathrm{kg}, \\\\\n",
    "m &= 7.348\\times10^{22}\\,\\mathrm{kg}, \\\\\n",
    "R &= 3.844\\times10^8\\,\\mathrm{m}, \\\\\n",
    "\\omega &= 2.662\\times10^{-6}\\,\\mathrm{s}^{-1}.\n",
    "$$\n",
    "\n",
    "You will also need to choose a suitable starting value for $r$.\n",
    "\n",
    "Some tips for making this exercise\n",
    "* Make a plot of the function and its derivative\n",
    "* First check the values of the function and its derivative at the point where you start your search, can you see what the problem is with a straightforward implementation of the given the physical parameters?\n",
    "* Implement Newton's method to a modified version of the equation above and find the solution _Hint: write it as standard polynomial in r_\n",
    "\n",
    "Store your final solution for $r$ in variable `lagrange`."
   ]
  },
  {
   "cell_type": "code",
   "execution_count": null,
   "id": "ed434f10",
   "metadata": {},
   "outputs": [],
   "source": [
    "G=6.674e-11\n",
    "M=5.974e24\n",
    "m=7.348e22\n",
    "R=3.844e8\n",
    "omega=2.662e-6\n",
    "\n",
    "# lagrange = ...\n",
    "\n",
    "answer_5_04_1 = np.copy(lagrange)"
   ]
  },
  {
   "cell_type": "code",
   "execution_count": null,
   "id": "3515f6c2",
   "metadata": {},
   "outputs": [],
   "source": [
    "question = \"answer_5_04\"\n",
    "num = 1\n",
    "\n",
    "to_check = [question + \"_%d\" % (n+1) for n in range(num)]\n",
    "feedback = \"\"\n",
    "passed = True\n",
    "for var in to_check:\n",
    "    res, msg = check_answer(eval(var), var)\n",
    "    passed = passed and res\n",
    "    print(msg)\n",
    "\n",
    "assert passed == True, feedback"
   ]
  },
  {
   "cell_type": "markdown",
   "id": "7d57d693",
   "metadata": {
    "lines_to_next_cell": 0
   },
   "source": [
    "**Solution:**"
   ]
  },
  {
   "cell_type": "code",
   "execution_count": null,
   "id": "3593585c",
   "metadata": {
    "lines_to_next_cell": 2,
    "tags": [
     "hide-input"
    ]
   },
   "outputs": [],
   "source": [
    "G=6.674e-11\n",
    "M=5.974e24\n",
    "m=7.348e22\n",
    "R=3.844e8\n",
    "omega=2.662e-6\n",
    "\n",
    "### BEGIN SOLUTION\n",
    "\n",
    "# The naive approach is defining the functions directly\n",
    "#def f(r):\n",
    "#    return G*M*r**(-2) - G*m*(R-r)**(-2) - r*omega**2\n",
    "\n",
    "#def fprime(r):\n",
    "#    return -2*G*M*r**(-3) + 2*G*m*(2*r-2*R)*(R-r)**(-3)-omega**2\n",
    "# The problem with this approach is that the derivative is small. Hence the convergence to the correct x \n",
    "# is extremely slow\n",
    "# the solution is to write is a standard polynomial in r\n",
    "\n",
    "\n",
    "def f(r):\n",
    "    return -omega**2*r**5 + 2*omega**2*R*r**4 - omega**2*R**2*r**3 + G*r**2*(M-m) - 2*r*R*G*M +G*M*R**2\n",
    "\n",
    "def fprime(r):\n",
    "    return -5*omega**2*r**4 + 8*omega**2*R*r**3 - 3*omega**2*R**2*r**2 + 2*G*r*(M-m) - 2*R*G*M\n",
    "\n",
    "r=np.linspace(0.3*R,0.99*R,100)\n",
    "\n",
    "# first make a quick plot\n",
    "plt.subplot(121)\n",
    "plt.plot(r,f(r), '-b')\n",
    "plt.xlabel('r'), plt.ylabel('f(r)')\n",
    "plt.grid()\n",
    "\n",
    "plt.subplot(122)\n",
    "plt.plot(r,fprime(r), '-b')\n",
    "plt.xlabel('r'), plt.ylabel('df/dr')\n",
    "plt.grid()\n",
    "\n",
    "eps=1e-4\n",
    "\n",
    "print('root|error|function val')\n",
    "\n",
    "error=10*eps\n",
    "x_1=3.2e8\n",
    "while error>eps:\n",
    "    x_2=x_1 - (f(x_1)/fprime(x_1))\n",
    "    error=np.abs(x_2-x_1)\n",
    "    x_1=x_2\n",
    "    print('{:.4e}|{:.4e}|{:.4e}'.format(x_2, error, f(x_2)))\n",
    "    \n",
    "lagrange=x_2\n",
    "### END SOLUTION\n",
    "answer_5_04_1 = np.copy(lagrange)"
   ]
  },
  {
   "cell_type": "code",
   "execution_count": null,
   "id": "bc496443",
   "metadata": {
    "tags": [
     "auto-execute-page",
     "thebe-init",
     "hide-input"
    ]
   },
   "outputs": [],
   "source": [
    "## Pre-loading the solutions\n",
    "\n",
    "import sys\n",
    "await micropip.install(\"numpy\")\n",
    "from validate_answers import *\n",
    "\n",
    "with open(location):\n",
    "    pass # Initially this notebook does not recognise the file unless someone tries to read it first"
   ]
  }
 ],
 "metadata": {
  "jupytext": {
   "formats": "ipynb,md"
  },
  "kernelspec": {
   "display_name": "Python 3 (ipykernel)",
   "language": "python",
   "name": "python3"
  }
 },
 "nbformat": 4,
 "nbformat_minor": 5
}
